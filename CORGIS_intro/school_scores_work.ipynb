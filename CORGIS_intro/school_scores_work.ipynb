{
 "cells": [
  {
   "cell_type": "markdown",
   "id": "upset-completion",
   "metadata": {},
   "source": [
    "Federal gov data from college board on SAT by state 2017-2019\n",
    "https://nces.ed.gov/programs/digest/d19/tables/dt19_226.40.asp\n",
    "\n",
    "Looks like you can build reports here, but more demographics:\n",
    "https://nces.ed.gov/ccd/elsi/default.aspx?agree=0\n"
   ]
  }
 ],
 "metadata": {
  "kernelspec": {
   "display_name": "Python 3",
   "language": "python",
   "name": "python3"
  },
  "language_info": {
   "codemirror_mode": {
    "name": "ipython",
    "version": 3
   },
   "file_extension": ".py",
   "mimetype": "text/x-python",
   "name": "python",
   "nbconvert_exporter": "python",
   "pygments_lexer": "ipython3",
   "version": "3.7.2"
  }
 },
 "nbformat": 4,
 "nbformat_minor": 5
}
