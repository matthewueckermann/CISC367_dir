{
 "cells": [
  {
   "cell_type": "markdown",
   "id": "continuing-mercy",
   "metadata": {},
   "source": [
    "# Questions\n",
    "\n",
    "Fill in your name and the link to this file on your github.\n",
    "\n",
    "* Name: Matthew Ueckermann  \n",
    "* Link to github URL: ___"
   ]
  },
  {
   "cell_type": "code",
   "execution_count": 1,
   "id": "hairy-argument",
   "metadata": {},
   "outputs": [],
   "source": [
    "import pandas as pd\n",
    "import numpy as np\n",
    "import scipy.stats as st\n",
    "import matplotlib.pyplot as plt\n",
    "import scipy\n",
    "\n",
    "from sklearn.naive_bayes import GaussianNB\n",
    "from sklearn import metrics\n",
    "from sklearn import datasets\n",
    "from sklearn.model_selection import train_test_split"
   ]
  },
  {
   "cell_type": "markdown",
   "id": "german-miracle",
   "metadata": {},
   "source": [
    "# ML: Linear Regression\n",
    "\n",
    "So this starts with linear regression. If you want a deeper dive than what I cover in class, you can refer to [this page](https://realpython.com/linear-regression-in-python/)\n",
    "\n",
    "The exercises come from this workbook, which has somewhat helpful explanations too: https://csmastersuh.github.io/data_analysis_with_python_2020/linear_regression.html"
   ]
  },
  {
   "cell_type": "markdown",
   "id": "homeless-lender",
   "metadata": {},
   "source": [
    "# Exercise 10: Linear Regression\n",
    "\n",
    "You'll need to make up some data for this. Don't spend too much time on this one, it's less interesting compared to the others."
   ]
  },
  {
   "cell_type": "code",
   "execution_count": 2,
   "id": "raised-joseph",
   "metadata": {},
   "outputs": [
    {
     "data": {
      "text/plain": [
       "array([ 0.        ,  0.52631579,  1.05263158,  1.57894737,  2.10526316,\n",
       "        2.63157895,  3.15789474,  3.68421053,  4.21052632,  4.73684211,\n",
       "        5.26315789,  5.78947368,  6.31578947,  6.84210526,  7.36842105,\n",
       "        7.89473684,  8.42105263,  8.94736842,  9.47368421, 10.        ])"
      ]
     },
     "metadata": {},
     "output_type": "display_data"
    },
    {
     "data": {
      "text/plain": [
       "array([-0.30112253,  2.24021876,  1.81572684,  5.02314893,  4.69742241,\n",
       "        6.53857183,  6.28782735,  7.39078497,  9.52914754, 10.86780773,\n",
       "       12.11670376, 12.89850807, 12.80122397, 14.31582038, 15.30102097,\n",
       "       16.45932644, 17.11868969, 17.5477027 , 20.54859058, 21.31834952])"
      ]
     },
     "metadata": {},
     "output_type": "display_data"
    },
    {
     "data": {
      "image/png": "[encoded data removed]",
      "text/plain": [
       "<Figure size 432x288 with 1 Axes>"
      ]
     },
     "metadata": {
      "needs_background": "light"
     },
     "output_type": "display_data"
    }
   ],
   "source": [
    "n=20\n",
    "# Linearly increasing x values\n",
    "x = np.linspace(0, 10, n)\n",
    "# Wonky line of points\n",
    "y = x*2 + 1 + 1*np.random.randn(n)\n",
    "display(x, y)\n",
    "plt.scatter(x, y)\n",
    "plt.show()\n",
    "\n",
    "# Do actual linear regression here"
   ]
  },
  {
   "cell_type": "code",
   "execution_count": 3,
   "id": "fantastic-sender",
   "metadata": {},
   "outputs": [
    {
     "name": "stdout",
     "output_type": "stream",
     "text": [
      "Model has a n r^2 of:  0.9877099915860782\n",
      "Slope of:  [2.02583153] Intercept of:  0.5966158692350287\n"
     ]
    },
    {
     "data": {
      "image/png": "[encoded data removed]",
      "text/plain": [
       "<Figure size 432x288 with 1 Axes>"
      ]
     },
     "metadata": {
      "needs_background": "light"
     },
     "output_type": "display_data"
    }
   ],
   "source": [
    "#Basically just taken from that first source, hopefullt thta was the point...\n",
    "from sklearn.linear_model import LinearRegression\n",
    "\n",
    "model = LinearRegression()\n",
    "model.fit(x[:,np.newaxis], y)\n",
    "ypred = model.predict(x[:,np.newaxis])\n",
    "\n",
    "plt.plot(x[:,np.newaxis],ypred, color=\"black\")\n",
    "plt.scatter(x, y)\n",
    "print('Model has a n r^2 of: ',model.score(x[:,np.newaxis],y))\n",
    "print('Slope of: ', model.coef_,'Intercept of: ', model.intercept_)\n",
    "# To show error:\n",
    "plt.plot(np.vstack([x,x]), np.vstack([y, model.predict(x[:, np.newaxis])]), color=\"red\");"
   ]
  },
  {
   "cell_type": "markdown",
   "id": "sunset-inside",
   "metadata": {},
   "source": [
    "# Exercise 11: Mystery Data\n",
    "\n",
    "This one is far more interesting. You can download the file from [here](https://raw.githubusercontent.com/AnkS4/hy-data-analysis-with-python-2020/master/part05-e11_mystery_data/src/mystery_data.tsv). Make sure it gets the right filename!\n",
    "\n",
    "You don't need to define any functions, as they demand, although you might find that helpful to do."
   ]
  },
  {
   "cell_type": "code",
   "execution_count": 4,
   "id": "interpreted-excuse",
   "metadata": {},
   "outputs": [],
   "source": [
    "data = pd.read_csv('https://raw.githubusercontent.com/AnkS4/hy-data-analysis-with-python-2020/master/part05-e11_mystery_data/src/mystery_data.tsv', sep='\\t')\n",
    "data_np = data.to_numpy()"
   ]
  },
  {
   "cell_type": "code",
   "execution_count": 36,
   "id": "liked-thanks",
   "metadata": {},
   "outputs": [
    {
     "data": {
      "text/plain": [
       "array([[ 2.017e+03, -1.000e+00, -1.000e+00,  6.000e-01,  1.000e+00],\n",
       "       [ 2.017e+03,  4.400e+00, -1.000e+00, -3.900e+00,  2.000e+00],\n",
       "       [ 2.017e+03,  6.600e+00,  7.000e+00, -6.500e+00,  3.000e+00],\n",
       "       ...,\n",
       "       [ 2.017e+03,  7.800e+00, -1.000e+00,  3.800e+00,  2.900e+01],\n",
       "       [ 2.017e+03,  4.100e+00, -1.000e+00,  2.500e+00,  3.000e+01],\n",
       "       [ 2.017e+03,  3.200e+00, -1.000e+00,  1.600e+00,  3.100e+01]])"
      ]
     },
     "execution_count": 36,
     "metadata": {},
     "output_type": "execute_result"
    }
   ],
   "source": [
    "xs = data_np[:,0:5]\n",
    "y = data_np[:,5]"
   ]
  },
  {
   "cell_type": "code",
   "execution_count": 6,
   "id": "decimal-quilt",
   "metadata": {},
   "outputs": [
    {
     "data": {
      "text/plain": [
       "array([ 3.00000000e+00, -1.00000000e+00,  7.00000000e+00, -3.40838469e-14,\n",
       "       -2.00000000e+01])"
      ]
     },
     "execution_count": 6,
     "metadata": {},
     "output_type": "execute_result"
    }
   ],
   "source": [
    "model = LinearRegression()\n",
    "model.fit(xs,y)\n",
    "model.coef_"
   ]
  },
  {
   "cell_type": "code",
   "execution_count": 7,
   "id": "alternate-argentina",
   "metadata": {},
   "outputs": [
    {
     "name": "stdout",
     "output_type": "stream",
     "text": [
      "The coefficient for X1 is: 3.0\n",
      "The coefficient for X2 is: -1.0\n",
      "The coefficient for X3 is: 7.0\n",
      "The coefficient for X4 is: -0.0\n",
      "The coefficient for X5 is: -20.0\n"
     ]
    }
   ],
   "source": [
    "print(\"The coefficient for X1 is:\",round(model.coef_[0],3))\n",
    "print(\"The coefficient for X2 is:\",round(model.coef_[1],3))\n",
    "print(\"The coefficient for X3 is:\",round(model.coef_[2],3))\n",
    "print(\"The coefficient for X4 is:\",round(model.coef_[3],3))\n",
    "print(\"The coefficient for X5 is:\",round(model.coef_[4],3))"
   ]
  },
  {
   "cell_type": "markdown",
   "id": "latter-conservative",
   "metadata": {},
   "source": [
    "## Exercise 12: Coefficient of Determination\n",
    "\n",
    "Read over this entire problem, parts 1 and 2.\n",
    "\n",
    "This reuses the same `mystery_data.tsv` file as before.\n",
    "\n",
    "Again, you do not need to define their function. Just calculate the R2 scores and print them, as they direct."
   ]
  },
  {
   "cell_type": "code",
   "execution_count": 8,
   "id": "improving-dakota",
   "metadata": {},
   "outputs": [
    {
     "name": "stdout",
     "output_type": "stream",
     "text": [
      "The R^2 for the multi-linear fit is: 1.0\n",
      "The R^2 for a linear fit only using X1: 0.0169\n",
      "The R^2 for a linear fit only using X2: 0.009\n",
      "The R^2 for a linear fit only using X3: 0.0879\n",
      "The R^2 for a linear fit only using X4: 0.0003\n",
      "The R^2 for a linear fit only using X5: 0.868\n"
     ]
    }
   ],
   "source": [
    "#from above:\n",
    "model = LinearRegression()\n",
    "model.fit(xs,y)\n",
    "r_squareX = model.score(xs,y)\n",
    "print(\"The R^2 for the multi-linear fit is:\", r_squareX)\n",
    "otherR = []\n",
    "for i in range(0,5):\n",
    "    model = LinearRegression()\n",
    "    model.fit(xs[:,i].reshape(-1,1),y)\n",
    "    r_sq = model.score(xs[:,i].reshape(-1,1),y)\n",
    "    print(\"The R^2 for a linear fit only using X\"+str(i+1)+\":\",round(r_sq,4))"
   ]
  },
  {
   "cell_type": "markdown",
   "id": "pointed-characteristic",
   "metadata": {},
   "source": [
    "## Exercise 13: Cycling Weather\n",
    "\n",
    "I've already prepared the data that they require for this assignment. You can download it [here](https://gist.githubusercontent.com/acbart/466174a04e9a2505c4c25f91fc6dd4f6/raw/726865070677ec7dede17a08095624e0ea35e7cd/biking.csv).\n",
    "\n",
    "The first column is the index, you can safely ignore it. The next 7 columns are straightforward. The last few columns are locations in Finland that have measuring stations. I recommend using `Baana` as they say in the instructions for testing.\n"
   ]
  },
  {
   "cell_type": "code",
   "execution_count": 45,
   "id": "removable-leadership",
   "metadata": {},
   "outputs": [],
   "source": [
    "data = pd.read_csv('https://gist.githubusercontent.com/acbart/466174a04e9a2505c4c25f91fc6dd4f6/raw/726865070677ec7dede17a08095624e0ea35e7cd/biking.csv',index_col=0)\n",
    "data_np = data.to_numpy()"
   ]
  },
  {
   "cell_type": "code",
   "execution_count": 46,
   "id": "apparent-chinese",
   "metadata": {},
   "outputs": [],
   "source": [
    "xs = data[['Precipitation amount (mm)','Snow depth (cm)','Air temperature (degC)']].to_numpy()"
   ]
  },
  {
   "cell_type": "code",
   "execution_count": 47,
   "id": "continuing-revision",
   "metadata": {},
   "outputs": [],
   "source": [
    "y = data['Baana'].to_numpy()"
   ]
  },
  {
   "cell_type": "code",
   "execution_count": 48,
   "id": "solar-david",
   "metadata": {},
   "outputs": [
    {
     "name": "stdout",
     "output_type": "stream",
     "text": [
      "Regression station: Baana\n",
      "Regression coefficient for variable 'precipitation (mm)': -52.2\n",
      "Regression coefficient for variable 'snow depth (cm)': -32.9\n",
      "Regression coefficient for variable 'precipitation (degC)': 169.2\n",
      "Score: 0.58\n"
     ]
    }
   ],
   "source": [
    "model = LinearRegression()\n",
    "model.fit(xs,y)\n",
    "r_squareX = model.score(xs,y)\n",
    "\n",
    "print(\"Regression station: Baana\")\n",
    "\n",
    "print('Regression coefficient for variable \\'precipitation (mm)\\':', round(model.coef_[0],1))\n",
    "print('Regression coefficient for variable \\'snow depth (cm)\\':', round(model.coef_[1],1))\n",
    "print('Regression coefficient for variable \\'precipitation (degC)\\':', round(model.coef_[2],1))\n",
    "\n",
    "print('Score:', round(r_squareX,2))"
   ]
  },
  {
   "cell_type": "markdown",
   "id": "therapeutic-spain",
   "metadata": {},
   "source": [
    "# ML Naive Bayes Classification\n",
    "\n",
    "This is the next section of the exercises, from: https://csmastersuh.github.io/data_analysis_with_python_2020/bayes.html\n",
    "\n",
    "In addition to the reading, I recommend this video: https://www.youtube.com/watch?v=CPqOCI0ahss\n",
    "\n",
    "\n",
    "## Exercise 1: Blob Classification\n",
    "\n",
    "(**OPTIONAL**) This one is very vague, and they're actually asking you to generate your own test data using the `make_blobs` function from `sklearn`'s `datasets` submodule. I've already started that work for you. But honestly if you want to skip it, I don't think it's a helpful starting question."
   ]
  },
  {
   "cell_type": "code",
   "execution_count": null,
   "id": "informational-movement",
   "metadata": {},
   "outputs": [],
   "source": [
    "def blob_classification(X, y):\n",
    "    # Put ML stuff here\n",
    "    pass\n",
    "\n",
    "# Create the training data and validation data\n",
    "X, y = datasets.make_blobs(100, 2, centers=2, random_state=2, cluster_std=2.5)\n",
    "# Run your ML predictions\n",
    "print(\"The accuracy score is\", blob_classification(X, y))\n",
    "# Run this on some new data\n",
    "a=np.array([[2, 2, 0, 2.5],\n",
    "            [2, 3, 1, 1.5],\n",
    "            [2, 2, 6, 3.5],\n",
    "            [2, 2, 3, 1.2],\n",
    "            [2, 4, 4, 2.7]])\n",
    "accuracies = []\n",
    "for row in a:\n",
    "    X,y = datasets.make_blobs(100, int(row[0]), centers=int(row[1]),\n",
    "                              random_state=int(row[2]), cluster_std=row[3])\n",
    "    accuracies.append(blob_classification(X, y))\n",
    "print(repr(np.hstack([a, np.array(accuracies)[:,np.newaxis]])))\n",
    "# The last column should be the categorizations"
   ]
  },
  {
   "cell_type": "markdown",
   "id": "suited-washington",
   "metadata": {},
   "source": [
    "## Exercise 2: Plant Classification\n",
    "\n",
    "This is a much better question. The Iris dataset is a classic: https://en.wikipedia.org/wiki/Iris_flower_data_set\n",
    "\n",
    "The wikipedia page gives an example of how to load the dataset."
   ]
  },
  {
   "cell_type": "code",
   "execution_count": null,
   "id": "resident-jacksonville",
   "metadata": {},
   "outputs": [],
   "source": []
  },
  {
   "cell_type": "markdown",
   "id": "arabic-forty",
   "metadata": {},
   "source": [
    "## Exercise 3: Word Classification\n",
    "\n",
    "(**Skip**)\n",
    "\n",
    "This one is too much. They give some of the data as an XML file. It's an interesting problem, and you can find the data (and solution) [here](https://github.com/AnkS4/hy-data-analysis-with-python-2020/tree/master/part06-e03_word_classification/src) if you want to tackle it, but I'm skipping it.\n"
   ]
  },
  {
   "cell_type": "code",
   "execution_count": null,
   "id": "designed-bargain",
   "metadata": {},
   "outputs": [],
   "source": []
  },
  {
   "cell_type": "markdown",
   "id": "valuable-classification",
   "metadata": {},
   "source": [
    "## Exercise 4: Spam Detection\n",
    "\n",
    "Download [ham.txt.gz](https://github.com/AnkS4/hy-data-analysis-with-python-2020/raw/master/part06-e04_spam_detection/src/ham.txt.gz) and [spam.txt.gz](https://github.com/AnkS4/hy-data-analysis-with-python-2020/raw/master/part06-e04_spam_detection/src/spam.txt.gz).\n",
    "\n",
    "This one is much more interesting and reasonable. It requires processing some large text files, but that's actually the easiest part, as shown in the code below. The idea is that you have spam (bad emails) and ham (good emails), and you want to determine which is which. I've done similar email processing (detecting job ads for a conference) and I was impressed with how easily I could train a little data and get very good results."
   ]
  },
  {
   "cell_type": "code",
   "execution_count": null,
   "id": "tough-silly",
   "metadata": {},
   "outputs": [],
   "source": [
    "import gzip\n",
    "\n",
    "# Load the spam emails as strings in a list.\n",
    "with gzip.open('spam.txt.gz', 'rb') as spam_file:\n",
    "    spam = spam_file.readlines()\n",
    "print(\"Number of spam emails loaded as strings:\", len(spam))\n",
    "\n",
    "# Now do the same thing with the `ham.txt.gz`\n",
    "\n",
    "# And then do the actual ML stuff"
   ]
  },
  {
   "cell_type": "markdown",
   "id": "lyric-tooth",
   "metadata": {},
   "source": [
    "# ML Clustering\n",
    "\n",
    "This is the last section: https://csmastersuh.github.io/data_analysis_with_python_2020/clustering.html\n",
    "\n",
    "This section is one of the most interesting in my opinion. K-Means is a pretty straightforward tool, and is really worth learning how to use it."
   ]
  },
  {
   "cell_type": "markdown",
   "id": "metallic-column",
   "metadata": {},
   "source": [
    "## Exercise 5: Plant Clustering\n",
    "\n",
    "Same deal as before; use the IRIS dataset. Since this has so many parameters, it can be tricky to make a good visualization."
   ]
  },
  {
   "cell_type": "code",
   "execution_count": null,
   "id": "swedish-retailer",
   "metadata": {},
   "outputs": [],
   "source": []
  },
  {
   "cell_type": "markdown",
   "id": "adopted-extent",
   "metadata": {},
   "source": [
    "## Exercise 6: Non-convex Clusters\n",
    "\n",
    "The data for this question is [here](https://raw.githubusercontent.com/AnkS4/hy-data-analysis-with-python-2020/master/part06-e06_nonconvex_clusters/src/data.tsv).\n",
    "\n",
    "This one shows off a different clustering algorithm ([`DBSCAN`](https://scikit-learn.org/stable/modules/generated/sklearn.cluster.DBSCAN.html)), which is \"Good for data which contains clusters of similar density\". I wasn't very familiar with DBSCAN, but it does seem much better than KMeans. It doesn't require you to figure out the number of clusters, and seems to be tricked less by unusual data. [This page](https://www.kdnuggets.com/2020/04/dbscan-clustering-algorithm-machine-learning.html) was very helpful in breaking that difference down.\n",
    "\n",
    "The reference answer uses a `for` loop and `np.arange` to try `e` values from 0.05 to 0.2 in 0.05 increments, but I don't mind if you just manually try some different `e` values.\n",
    "\n",
    "Please do make a visualization with clusters colored, since I think that really highlights what we are doing!"
   ]
  },
  {
   "cell_type": "code",
   "execution_count": null,
   "id": "intellectual-finish",
   "metadata": {},
   "outputs": [],
   "source": []
  },
  {
   "cell_type": "markdown",
   "id": "powerful-annotation",
   "metadata": {},
   "source": [
    "## Exercise 7: Binding Sites\n",
    "\n",
    "Download the [`data.seq` file](https://raw.githubusercontent.com/AnkS4/hy-data-analysis-with-python-2020/master/part06-e07_binding_sites/src/data.seq); note that it is just a plain textual data file, despite the fancy extension.\n",
    "\n",
    "They ask you to define `get_features_and_labels` to accept a filename, even though there's only one test file. Up to you if you want to hardcode the file path in or make it a flexible function.\n",
    "\n",
    "There are multiple parts here, and they ask you to compare the euclidean and hamming distance. I think it's worth thinking about - if you don't get what they mean, do ask!"
   ]
  },
  {
   "cell_type": "code",
   "execution_count": null,
   "id": "genuine-nickel",
   "metadata": {},
   "outputs": [],
   "source": [
    "\n",
    "# The `find_permutation` function provided in the text, for your convenience\n",
    "def find_permutation(n_clusters, real_labels, labels):\n",
    "    permutation=[]\n",
    "    for i in range(n_clusters):\n",
    "        idx = labels == i\n",
    "        # Choose the most common label among data points in the cluster\n",
    "        new_label=scipy.stats.mode(real_labels[idx])[0][0]\n",
    "        permutation.append(new_label)\n",
    "    return permutation"
   ]
  }
 ],
 "metadata": {
  "kernelspec": {
   "display_name": "Python 3",
   "language": "python",
   "name": "python3"
  },
  "language_info": {
   "codemirror_mode": {
    "name": "ipython",
    "version": 3
   },
   "file_extension": ".py",
   "mimetype": "text/x-python",
   "name": "python",
   "nbconvert_exporter": "python",
   "pygments_lexer": "ipython3",
   "version": "3.7.2"
  }
 },
 "nbformat": 4,
 "nbformat_minor": 5
}
