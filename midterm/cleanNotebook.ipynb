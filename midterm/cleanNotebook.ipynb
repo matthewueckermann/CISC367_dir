{
 "cells": [
  {
   "cell_type": "markdown",
   "id": "third-secret",
   "metadata": {},
   "source": [
    "# Midterm Project \n",
    "*Matthew Ueckermann*\n",
    "\n",
    "## Problem to explore: Toxic Chemical Releases\n",
    "\n",
    "Many manufacturing plants or resource extraction units release toxic chemicals to the air, water, or land around them. These chemicals impact the life of people, plants, and animals surronding these locations. In some cases, communities have been inadvertantly poisoned slowly by surronding industries. Recently, the use of PFOAs by DuPont in West Virgina and the resulting court cases have inspired documentaries like the [Devil We Know](https://en.wikipedia.org/wiki/The_Devil_We_Know), which details the impact of this chemical on a town in West Virginia. This restarted talks about the need for transparency and understanding of the chemcials which are polluted in the United States, as it gives communties the right to know what they are exposed to, as well as provides a way to hold companies liable.\n",
    "\n",
    "A dataset already exists to manage this though, although it did not include PFOAs until recently. That dataset is the [Toxics Release Inventory (TRI)](https://en.wikipedia.org/wiki/Toxics_Release_Inventory) which is a dataset containing all chemicals released by manufacturing plants in the U.S. which must be reported to the EPA. This was established in 1986 to bring transparency to the chemical industry, partially as a reaction to the [1984 Bhopal disaster](https://en.wikipedia.org/wiki/Bhopal_disaster), which started one of the first movements towards community right to know. This dataset was introduced to me in one of my previous courses (CHEG613: Energy and the Environment) as one of the most efficient pieces of environmental legislation; however, I have not had the opportunity to explore it. \n",
    "\n",
    "In chemical manufacturing it is impossible not to release some amount of toxic chemical (pressure equipment, incinerators, and wastewater treatment can never be perfect) while accidents will also cause unintended releases. However, it is still generally possible to mitigate them, at least making incremental improvements over time. I am interested in what trends exist in environemntal control, specifically in the chemical industry. These include how the mode of chemical emissions has changed (to air or water?) over time, as well as general chemical emissions by state over time.\n",
    "\n",
    "I am also interested in if there are any trends in in the types of chemical emmited by state overtime, as not all toxic chemicals are equal. Specifically, dioxins are considered the most toxic man-made compounds [(a daily intake of 2*10^-12 grams/kg body weight is considered safe for humans)](https://en.wikipedia.org/wiki/Dioxins_and_dioxin-like_compounds#Human_toxicity), while other compounds like persistent and bioaccumulate compounts (which include PFOA) are considered extremely toxic. Finally, we must also consider conventional carcinogens, as chemicals of special concern. \n",
    "\n",
    "Note that the TRI reporting requirements have changed over time, a breakdown of major changes and its history is given [here] (https://www.epa.gov/toxics-release-inventory-tri-program/timeline-toxics-release-inventory-milestones).\n",
    "\n",
    "## Specific Research Questions\n",
    "\n",
    "- What are the general trends in toxic chemical emissions over time? \n",
    "    - Have chemcial emissions decreased since the implementation of the TRI\n",
    "    - How does this depend on industry?\n",
    "    - How does this depend on the type of chemical emmited?\n",
    "- Where are these chemicals emitted?\n",
    "    - How has this changed overtime?\n",
    "- What trends exist in toxic chemical emissions by state?\n",
    "    - Is there any \"red state\"-\"blue state\" effect?\n",
    "\n",
    "How do releases in the TRI correlate with year, state, and county location? Specifically:\n",
    "- Do chemical plants get better at controlling emissions over time?\n",
    "- Does the composition of chemicals released by a facility change over time? Or in other words will a facility get better at controlling the emissions of one chemical versus another?\n",
    "- Have plants shifted from releasing PBTs and dioxins over time?\n",
    "- Is there any \"red state\"-\"blue state\" effect?\n",
    "- Can you see the impact of environmental regulation, or the loosening of it by administration?\n",
    "\n",
    "\n",
    "## Justification (Expand on)\n",
    "\n",
    "Chemical releases, especially of toxic chemicals, are important to manage and minimize. Knowledge of how chemical plants minimize releases from year to year, as well as if there is any geographic variation could be important in accessing environmental regulations and industrial best practices. Similarly, looking at overall trends is important to ensure that the industry is getting cleaner, trending in a more sustainable direction.\n",
    "\n",
    "As far as evidence, I think it is safe to say that toxic chemical emissions and their prevention is an important problem. One way to demonstrate this is by looking at the EPA, who constantly try to reduce these emission through programs like the [clean air act in 1970](https://www.epa.gov/clean-air-act-overview/progress-cleaning-air-and-improving-peoples-health). While this specific research using the TRI can be motivated by interesting research that has already done using the dataset, including looking at correlations between chemical releases and community composition [1]. The impact of involving employees in pollution abatement programs on emissions [2]. As well as the overall impact that the TRI had on changes in stock prices after the first reporting of it [3]. However, all of these studies are relatively old (published sometime in the 90s), meaning that they miss out on two decades worth of trends, motivating a new look at the TRI.\n",
    "\n",
    "Works Cited\n",
    "1. Arora, S., Cason, T. N., Arora, S. & Casont, T. N. Do Community Characteristics Influence Environmental Outcomes? Evidence from the Toxics Release Inventory Southern Economic Association, 65, 691–716 (1999).\n",
    "2. Bunge, J., Cohen-rosenthal, E. & Ruiz-quintanilla, Employee participation in pollution reduction : preliminary analysis of the Toxics , Release Inventory. Journal of cleaner Production 4, 9–16 (1996).\n",
    "3. Konar, S., Cohen, M. Information As Regulation : The Effect of Community Right to Know Laws on Toxic Emissions. Journal of Environmental Economics and Management, 32, 109–124 (1997).\n",
    "\n",
    "\n",
    "## Data set to be used\n",
    "\n",
    "As stated I am going to use the TRI which has data from 1987-2019 accessible in csv files [here](https://www.epa.gov/toxics-release-inventory-tri-program/tri-basic-data-files-calendar-years-1987-2019?).\n",
    "\n",
    "Documentation about the dataset is given in this [pdf](https://www.epa.gov/sites/production/files/2019-08/documents/basic_data_files_documentation_aug_2019_v2.pdf).\n",
    "\n",
    "## Ethical concerns and other considerations\n",
    "\n",
    "Some ethical concerns and  I have about my analysis include:\n",
    "- As a chemical engineering major entering industry (although in a more sustainable chem company) I will have my own biases about the industry and will probably not be as critical as someone who is not.\n",
    "- Chemical companies could use this analysis as evidence that they do better than their peers or other in a geographic area, which may disincentivize improvement.\n",
    "- I am not an expert of the toxicity of different chemicals, I know generally PBTs/dioxins are worse than others on the list but there is not necessarly a consensus on all chemicals on the list. Treating them the same would be disingenuous, but may be necessary for this level.\n",
    "- Mentioning a \"red state\" - \"blue state\" effect implicitly assumes that the \"red states\" will allow for more emissions than blue states.\n",
    "\n",
    "Other considerations/compounding factors:\n",
    "- The geographical distribution of chemical plants is skewed, i.e. there are a lot of petroleum refineries in Texas, but none in Massachusetts.\n",
    "- You reach a level in emissions control technology where it can be hard (and costly) to improve, expecting plants to improve year to year is not realistic.\n",
    "- Controlling by facility size is required in looking at fugitive air emissions as they are a function of the amount of pressurized equipment.\n",
    "- Changing the composition of chemicals released may be more indicative of a change in product, not of a change in the process."
   ]
  },
  {
   "cell_type": "code",
   "execution_count": null,
   "id": "concrete-wrapping",
   "metadata": {},
   "outputs": [],
   "source": [
    "import pandas as pd\n",
    "import numpy as np\n",
    "import time"
   ]
  },
  {
   "cell_type": "markdown",
   "id": "tutorial-sterling",
   "metadata": {},
   "source": [
    "## Scraping the data\n",
    "\n",
    "Scraped the data from CSV files which the EPA publishes for TRI data from 1987-2019  [here](https://www.epa.gov/toxics-release-inventory-tri-program/tri-basic-data-files-calendar-years-1987-2019?). Documentation about the dataset is given in this [pdf](https://www.epa.gov/sites/production/files/2019-08/documents/basic_data_files_documentation_aug_2019_v2.pdf)."
   ]
  },
  {
   "cell_type": "code",
   "execution_count": null,
   "id": "technical-energy",
   "metadata": {},
   "outputs": [],
   "source": [
    "# First coppied the 2019 file:\n",
    "df_2019 = pd.read_csv('https://enviro.epa.gov/enviro/efservice/MV_TRI_BASIC_DOWNLOAD/year/=/2019/fname/TRI_2019_US.csv/CSV',low_memory=False)\n",
    "# selected the columns I am interested in\n",
    "df = df_2019[[\"1. YEAR\",\"2. TRIFD\",\"8. ST\",\"15. PARENT CO NAME\",\"20. INDUSTRY SECTOR\",\"34. CHEMICAL\",\"39. CLASSIFICATION\",\"42. CARCINOGEN\",\"45. 5.1 - FUGITIVE AIR\",\"59. ON-SITE RELEASE TOTAL\",\"82. OFF-SITE RELEASE TOTAL\",\"101. TOTAL RELEASES\",\"116. 8.9 - PRODUCTION RATIO\"]]\n",
    "del df_2019 # save space\n",
    "\n",
    "#Scrape the rest\n",
    "for x in range(1987,2019):\n",
    "    address = 'https://enviro.epa.gov/enviro/efservice/MV_TRI_BASIC_DOWNLOAD/year/=/'+str(x)+'/fname/TRI_'+str(x)+'_US.csv/CSV'\n",
    "    df_new = pd.read_csv(address,low_memory=False)\n",
    "    \n",
    "    df_new_trimmed = df_new[[\"1. YEAR\",\"2. TRIFD\",\"8. ST\",\"15. PARENT CO NAME\",\"20. INDUSTRY SECTOR\",\"34. CHEMICAL\",\"39. CLASSIFICATION\",\"42. CARCINOGEN\",\"45. 5.1 - FUGITIVE AIR\",\"46. 5.2 - STACK AIR\",\"47. 5.3 - WATER\",\"59. ON-SITE RELEASE TOTAL\",\"82. OFF-SITE RELEASE TOTAL\",\"101. TOTAL RELEASES\",\"116. 8.9 - PRODUCTION RATIO\"]]\n",
    "\n",
    "    df = df.append(df_new_trimmed, ignore_index=True)\n",
    "    del df_new\n",
    "    time.sleep(2)"
   ]
  },
  {
   "cell_type": "markdown",
   "id": "forced-recovery",
   "metadata": {},
   "source": [
    "## Getting Familiar with the TRI: Looking at Industry Dependence \n",
    "\n",
    "It is interestesting to see the impact of the specific industry on the overall chemicals emitted in the TRI, especially as in 1997 sevem new industries were added to the TRI, which added a significant amount of emissions. Without controlling for this, any overall trends would see a massive bump in emmissions around this time.\n",
    "\n",
    "One intersting way to look at this is to see how each industry contributes to the overall emmision levels as repored in the TRI:"
   ]
  },
  {
   "cell_type": "code",
   "execution_count": null,
   "id": "abandoned-footwear",
   "metadata": {},
   "outputs": [],
   "source": [
    "sumChem_byIndustry_year = df.groupby([\"1. YEAR\",\"20. INDUSTRY SECTOR\"])[\"101. TOTAL RELEASES\"].sum()*10**-6\n",
    "sumChem_byIndustry_year.unstack(level=1).plot.bar(stacked=True).legend(loc='center left',bbox_to_anchor=(1.0, 0.5));\n",
    "plt.xlabel(\"Year\")\n",
    "plt.ylabel(\"Total chemicals emmited (MMlb)\")\n",
    "plt.show()"
   ]
  },
  {
   "cell_type": "markdown",
   "id": "packed-jesus",
   "metadata": {},
   "source": [
    "This figure is extremely overwhellming, but it demonstrates the spike in 1998, which you can see is mostly dominated by the addition of coal mining and electric production in the dataset.\n",
    "\n",
    "Note that the MMlb stands for million pounds"
   ]
  },
  {
   "cell_type": "markdown",
   "id": "sustained-outreach",
   "metadata": {},
   "source": [
    "## Focusing on the Chemical Industry\n",
    "\n",
    "From the figure above, we can make out that the chemical industry has traditionally been a large contributor of the amount of toxics materials released. As this is the industry that I am the most interested in, and the one which motivated the creation of the TRI, I want to look at it in more depth. \n",
    "\n",
    "Starting with the same plot of total emissions:"
   ]
  },
  {
   "cell_type": "code",
   "execution_count": null,
   "id": "united-terrace",
   "metadata": {},
   "outputs": [],
   "source": [
    "df_chemical = df[df[\"20. INDUSTRY SECTOR\"]==\"Chemicals\"]"
   ]
  },
  {
   "cell_type": "code",
   "execution_count": null,
   "id": "remarkable-transportation",
   "metadata": {},
   "outputs": [],
   "source": [
    "allChem = df_chemical.groupby([\"1. YEAR\"])[\"101. TOTAL RELEASES\"].sum()*10**-6\n",
    "allChem.plot(kind='bar')\n",
    "plt.xlabel(\"Year\")\n",
    "plt.ylabel(\"Total chemicals emmitted (MMlb)\")\n",
    "plt.show()"
   ]
  },
  {
   "cell_type": "markdown",
   "id": "given-constant",
   "metadata": {},
   "source": [
    "Here you can see that the total amount of chemicals emmitted has decreased dramatically since the introduction of the TRI\n",
    "\n",
    "**Add more analysis**\n",
    "\n",
    "What about the more nasty chemicals?"
   ]
  },
  {
   "cell_type": "code",
   "execution_count": null,
   "id": "reverse-toddler",
   "metadata": {},
   "outputs": [],
   "source": [
    "sumCarcinogensChem_year = df_chemical[df_chemical[\"42. CARCINOGEN\"]==\"YES\"].groupby([\"1. YEAR\"])[\"101. TOTAL RELEASES\"].sum()*10**-6\n",
    "sumCarcinogensChem_year.plot(kind='bar') \n",
    "plt.xlabel(\"Year\")\n",
    "plt.ylabel(\"Total carcinogenic chemicals emmitted (MMlb)\")\n",
    "plt.show()"
   ]
  },
  {
   "cell_type": "code",
   "execution_count": null,
   "id": "political-logan",
   "metadata": {},
   "outputs": [],
   "source": [
    "sumDioxChem_year = df_chemical[df_chemical[\"39. CLASSIFICATION\"]==\"Dioxin\"].groupby([\"1. YEAR\"])[\"101. TOTAL RELEASES\"].sum()*10**-3\n",
    "sumDioxChem_year.plot(kind='bar')\n",
    "plt.xlabel(\"Year\")\n",
    "plt.ylabel(\"Total dioxins emmitted (kg)\")\n",
    "plt.show()"
   ]
  },
  {
   "cell_type": "code",
   "execution_count": null,
   "id": "detected-terrorist",
   "metadata": {},
   "outputs": [],
   "source": [
    "sumPBTChem_year = df_chemical[df_chemical[\"39. CLASSIFICATION\"]==\"PBT\"].groupby([\"1. YEAR\"])[\"101. TOTAL RELEASES\"].sum()*10**-6\n",
    "plt.xlabel(\"Year\")\n",
    "plt.ylabel(\"Total PBTs emmitted (Mlb)\")\n",
    "plt.show()"
   ]
  },
  {
   "cell_type": "markdown",
   "id": "statistical-wound",
   "metadata": {},
   "source": [
    "Here the story is less straightforward. We can see that the total number of carcinogenic compounds emmitted overtime has decreased, but dioxin and PBT use has been less straightforward. At least on the dioxin side, a methodology change and extra restrictions in 2008 explains that dip. While for PBTs, the increase in 1999 is attributed to the addition of 7 new PBTs while in 2001 lead was added as a PBT. These changes to the TRI artifically change the trends."
   ]
  },
  {
   "cell_type": "markdown",
   "id": "considered-change",
   "metadata": {},
   "source": [
    "## Where do these emissions go?\n",
    "\n",
    "We can see that the majority of a plants emissions are treated onsite, not offsite:"
   ]
  },
  {
   "cell_type": "code",
   "execution_count": null,
   "id": "suited-tobacco",
   "metadata": {},
   "outputs": [],
   "source": [
    "onsite = df_chemical.groupby([\"1. YEAR\"])[\"59. ON-SITE RELEASE TOTAL\"].sum()*10**-6\n",
    "offsite = df_chemical.groupby([\"1. YEAR\"])[\"82. OFF-SITE RELEASE TOTAL\"].sum()*10**-6\n",
    "df_emissionLocation = pd.concat({\"Onsite\":onsite,\"Offsite\":offsite},axis=1)\n",
    "df_emissionLocation.plot.bar(y=['Onsite', \"Offsite\"], stacked=True)\n",
    "plt.xlabel(\"Year\")\n",
    "plt.ylabel(\"Total amount of chemicals emitted (Mlb)\")\n",
    "plt.title(\"Onsite to Offsite Emissions in the Chemical Industry\")\n",
    "plt.show()"
   ]
  },
  {
   "cell_type": "markdown",
   "id": "played-fifteen",
   "metadata": {},
   "source": [
    "This indicates that the majority of the chemicals are emitted into the water or air surronding a facility. Not sent to external facilities to be disposed of or recycled.\n",
    "\n",
    "We can then see the way in which chemicals are typically emmitted"
   ]
  },
  {
   "cell_type": "code",
   "execution_count": null,
   "id": "answering-database",
   "metadata": {},
   "outputs": [],
   "source": [
    "fugAir = df_chemical.groupby([\"1. YEAR\"])[\"45. 5.1 - FUGITIVE AIR\"].sum()*10**-6\n",
    "stackAir = df_chemical.groupby([\"1. YEAR\"])[\"46. 5.2 - STACK AIR\"].sum()*10**-6\n",
    "waterAir = df_chemical.groupby([\"1. YEAR\"])[\"47. 5.3 - WATER\"].sum()*10**-6\n",
    "df_emissionType = pd.concat({\"Fugitive Air\":fugAir,\"Stack Air\":stackAir,\"Water\":waterAir},axis=1)\n",
    "df_emissionType.plot.bar(y=['Fugitive Air', \"Stack Air\"], stacked=True)\n",
    "df_emissionType.plot.bar(y=['Fugitive Air', \"Stack Air\",\"Water\"], stacked=True)\n",
    "plt.ylabel(\"Total amount of chemicals emitted (Mlb)\")\n",
    "plt.title(\"Avenue of Emmission\")"
   ]
  },
  {
   "cell_type": "code",
   "execution_count": null,
   "id": "lonely-director",
   "metadata": {},
   "outputs": [],
   "source": []
  },
  {
   "cell_type": "markdown",
   "id": "blessed-laundry",
   "metadata": {},
   "source": [
    "## How do trends in emmissions differ with states?\n",
    "\n",
    "One test is to see how the year with the maximum amount of chemical emissions in a state compares (usually 1987) with that with the lowest value in that state (usually 2019). This reveals the percent reduction in toxic emissions over the time frame."
   ]
  },
  {
   "cell_type": "code",
   "execution_count": null,
   "id": "revolutionary-patio",
   "metadata": {},
   "outputs": [],
   "source": [
    "year_state = df_chemical.groupby([\"1. YEAR\",\"8. ST\"])[\"101. TOTAL RELEASES\"].sum()*10**-6\n",
    "year_state = year_state.reset_index()\n",
    "year_state = year_state.drop(index=year_state[year_state[\"8. ST\"]==\"VI\"].index) # Not state\n",
    "year_state = year_state.drop(index=year_state[year_state[\"8. ST\"]==\"PR\"].index) # Not state\n",
    "year_state = year_state.drop(index=year_state[year_state[\"8. ST\"]==\"DC\"].index) # Not state, remove both as small\n",
    "year_state = year_state.drop(year_state[year_state[\"8. ST\"]==\"AK\"].index)       # Does not report after 2008\n",
    "year_state = year_state.drop(year_state[year_state[\"8. ST\"]==\"HI\"].index)       # Does not report after 2013"
   ]
  },
  {
   "cell_type": "code",
   "execution_count": null,
   "id": "designed-solid",
   "metadata": {},
   "outputs": [],
   "source": [
    "state_max = year_state.groupby([\"8. ST\"])[\"101. TOTAL RELEASES\"].max()\n",
    "state_min = year_state.groupby([\"8. ST\"])[\"101. TOTAL RELEASES\"].min()\n",
    "state_percent_decrease = (state_max-state_min)/state_max *100 # Percent decrease in TRI of largest emmission year for stae in comparison to smallest"
   ]
  },
  {
   "cell_type": "code",
   "execution_count": null,
   "id": "latter-surname",
   "metadata": {},
   "outputs": [],
   "source": [
    "df_state_percent = pd.DataFrame(state_percent_decrease)\n",
    "df_state_percent.index.names = [\"State\"]\n",
    "df_state_percent.columns = ['Percent decrease']"
   ]
  },
  {
   "cell_type": "code",
   "execution_count": null,
   "id": "incorporate-citizenship",
   "metadata": {},
   "outputs": [],
   "source": [
    "sns.swarmplot(x='Percent decrease', data = df_state_percent)\n",
    "plt.ylabel(\"Reduction from Highest Chemical Emission (%)\")\n",
    "plt.xlabel"
   ]
  },
  {
   "cell_type": "markdown",
   "id": "billion-newcastle",
   "metadata": {},
   "source": [
    "From this, we can see visually that some states have lagged behind others in reducing their chemical emissions. Using descriotive statistics we can characterize this distribution with:"
   ]
  },
  {
   "cell_type": "code",
   "execution_count": null,
   "id": "subsequent-arrow",
   "metadata": {},
   "outputs": [],
   "source": [
    "df_state_percent.describe()"
   ]
  },
  {
   "cell_type": "markdown",
   "id": "verified-whole",
   "metadata": {},
   "source": [
    "To see specific states, we sort and then print the entire series"
   ]
  },
  {
   "cell_type": "code",
   "execution_count": 1,
   "id": "latest-original",
   "metadata": {},
   "outputs": [
    {
     "ename": "NameError",
     "evalue": "name 'df_state_percent' is not defined",
     "output_type": "error",
     "traceback": [
      "\u001b[1;31m---------------------------------------------------------------------------\u001b[0m",
      "\u001b[1;31mNameError\u001b[0m                                 Traceback (most recent call last)",
      "\u001b[1;32m<ipython-input-1-e922d470b071>\u001b[0m in \u001b[0;36m<module>\u001b[1;34m\u001b[0m\n\u001b[1;32m----> 1\u001b[1;33m \u001b[0mdf_state_percent\u001b[0m\u001b[1;33m.\u001b[0m\u001b[0msort_values\u001b[0m\u001b[1;33m(\u001b[0m\u001b[0mby\u001b[0m\u001b[1;33m=\u001b[0m\u001b[1;34m'Percent decrease'\u001b[0m\u001b[1;33m,\u001b[0m \u001b[0mascending\u001b[0m \u001b[1;33m=\u001b[0m \u001b[1;32mFalse\u001b[0m\u001b[1;33m)\u001b[0m\u001b[1;33m\u001b[0m\u001b[1;33m\u001b[0m\u001b[0m\n\u001b[0m",
      "\u001b[1;31mNameError\u001b[0m: name 'df_state_percent' is not defined"
     ]
    }
   ],
   "source": [
    "df_state_percent.sort_values(by='Percent decrease', ascending = False)"
   ]
  },
  {
   "cell_type": "markdown",
   "id": "dramatic-mechanism",
   "metadata": {},
   "source": [
    "From this, we can see that there are three states whose percent decrease in emissions is two standard deviations below the sample mean. These include Ohio, Georgia, and Oklahoma. Similary, when looking at these trends we see that, to a certain extent, the states at the bottom of the list are considered more conservative than those at the top. But to prove or make anything of this, more anaylsis is needed."
   ]
  },
  {
   "cell_type": "markdown",
   "id": "patient-latino",
   "metadata": {},
   "source": [
    "## How do trends in State emmissions data correlate with politcal ideology\n",
    "\n",
    "Can determine if there is a correlation in the yearly decrease in toxic chemical emmissions in a state with the state's political ideology using an objective marker of the states political ideology over time. One example is the indicator created by [Berry et al.](https://journals-sagepub-com.udel.idm.oclc.org/doi/10.1177/153244001001000201). Which gives a nominate measure of state government ideology. It completes this by looking at the votes of a states congressional delegation as well as interest group ratings and extrapolating them to similar party state politicains. \n",
    "\n",
    "Its on a scale of 0-100 going from completely conservative - completely liberal.\n",
    "\n",
    "Note that the dataset was retreved [here](https://rcfording.com/state-ideology-data/), but was pre-processed in Excel to standardize and add state abreviations   "
   ]
  },
  {
   "cell_type": "code",
   "execution_count": null,
   "id": "rotary-biodiversity",
   "metadata": {},
   "outputs": [],
   "source": [
    "df_stIdeology = pd.read_csv(\"stateideology_v2018.csv\")\n",
    "# New metrics:\n",
    "year_state[\"Normalized Release\"] = np.nan\n",
    "year_state[\"Difference in Release\"]= np.nan\n",
    "year_state[\"Ideology score\"] = np.nan\n",
    "year_state[\"Difference in Ideology score\"] = np.nan"
   ]
  },
  {
   "cell_type": "code",
   "execution_count": null,
   "id": "aerial-edwards",
   "metadata": {},
   "outputs": [],
   "source": [
    "pd.options.mode.chained_assignment = None # Suppresses warning message\n",
    "for state in year_state[year_state[\"1. YEAR\"]==1987][\"8. ST\"]:\n",
    "    for year in range(1987,2018):\n",
    "        original_val = year_state[(year_state[\"8. ST\"]==state) & (year_state[\"1. YEAR\"]==1987)][\"101. TOTAL RELEASES\"].values[0]\n",
    "        current_val = year_state[(year_state[\"8. ST\"]==state) & (year_state[\"1. YEAR\"]==year)][\"101. TOTAL RELEASES\"].values[0]\n",
    "        norm_val = current_val/original_val\n",
    "        year_state.loc[((year_state[\"8. ST\"]==state) & (year_state[\"1. YEAR\"]==year)),\"Normalized Release\"] = norm_val\n",
    "        \n",
    "        ideology_score = df_stIdeology[(df_stIdeology[\"year\"]==year)&(df_stIdeology[\"State Abbreviation\"]==state)][\"State ideology\"].values[0]\n",
    "        year_state.loc[((year_state[\"8. ST\"]==state) & (year_state[\"1. YEAR\"]==year)),\"Ideology score\"] = ideology_score\n",
    "        \n",
    "        if(year!=1987):\n",
    "            pre_val = year_state[(year_state[\"8. ST\"]==state) & (year_state[\"1. YEAR\"]==(year-1))][\"Normalized Release\"].values[0]\n",
    "            difference = norm_val-pre_val\n",
    "            year_state.loc[((year_state[\"8. ST\"]==state) & (year_state[\"1. YEAR\"]==year)),\"Difference in Release\"] = difference\n",
    "            \n",
    "            pre_ideology = year_state[(year_state[\"8. ST\"]==state) & (year_state[\"1. YEAR\"]==(year-1))][\"Ideology score\"].values[0]\n",
    "            id_diff = ideology_score-pre_ideology\n",
    "            \n",
    "            year_state.loc[((year_state[\"8. ST\"]==state) & (year_state[\"1. YEAR\"]==year)),\"Difference in Ideology score\"] = id_diff"
   ]
  },
  {
   "cell_type": "code",
   "execution_count": null,
   "id": "dressed-tokyo",
   "metadata": {},
   "outputs": [],
   "source": []
  },
  {
   "cell_type": "code",
   "execution_count": null,
   "id": "intermediate-chrome",
   "metadata": {},
   "outputs": [],
   "source": [
    "## Conclusions"
   ]
  },
  {
   "cell_type": "markdown",
   "id": "polished-diana",
   "metadata": {},
   "source": [
    "## Future work"
   ]
  }
 ],
 "metadata": {
  "kernelspec": {
   "display_name": "Python 3",
   "language": "python",
   "name": "python3"
  },
  "language_info": {
   "codemirror_mode": {
    "name": "ipython",
    "version": 3
   },
   "file_extension": ".py",
   "mimetype": "text/x-python",
   "name": "python",
   "nbconvert_exporter": "python",
   "pygments_lexer": "ipython3",
   "version": "3.7.2"
  }
 },
 "nbformat": 4,
 "nbformat_minor": 5
}
