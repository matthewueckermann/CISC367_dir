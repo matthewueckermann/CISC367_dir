{
 "cells": [
  {
   "cell_type": "markdown",
   "id": "requested-dispatch",
   "metadata": {},
   "source": [
    "# Midterm Project \n",
    "*Matthew Ueckermann*\n",
    "\n",
    "## Problem to explore: Toxic Chemical Releases\n",
    "\n",
    "Many manufacturing plants or resource extraction units release toxic chemicals to the air, water, or land around them. These chemicals impact the life of people, plants, and animals surronding these locations. In some cases, communities have been inadvertantly poisoned slowly by surronding industries. Recently, the use of PFOAs by DuPont in West Virgina and the resulting court cases have inspired documentaries like the [Devil We Know](https://en.wikipedia.org/wiki/The_Devil_We_Know), which details the impact of this chemical on a town in West Virginia. This restarted talks about the need for transparency and understanding of the chemcials which are polluted in the United States, as it gives communties the right to know what they are exposed to, as well as provides a way to hold companies liable.\n",
    "\n",
    "A dataset already exists to manage this though, although it did not include PFOAs until recently. That dataset is the [Toxics Release Inventory (TRI)](https://en.wikipedia.org/wiki/Toxics_Release_Inventory) which is a dataset containing all chemicals released by manufacturing plants in the U.S. which must be reported to the EPA. This was established in 1986 to bring transparency to the chemical industry, partially as a reaction to the [1984 Bhopal disaster](https://en.wikipedia.org/wiki/Bhopal_disaster), which started one of the first movements towards community right to know. This dataset was introduced to me in one of my previous courses (CHEG613: Energy and the Environment) as one of the most efficient pieces of environmental legislation; however, I have not had the opportunity to explore it. \n",
    "\n",
    "In chemical manufacturing it is impossible not to release some amount of toxic chemical (pressure equipment, incinerators, and wastewater treatment can never be perfect) while accidents will also cause unintended releases. However, it is still generally possible to mitigate them, at least making incremental improvements over time. I am interested in what trends exist in environemntal control, specifically in the chemical industry. These include how the mode of chemical emissions has changed (to air or water?) over time, as well as general chemical emissions by state over time.\n",
    "\n",
    "I am also interested in if there are any trends in in the types of chemical emmited by state overtime, as not all toxic chemicals are equal. Specifically, dioxins are considered the most toxic man-made compounds [(a daily intake of 2*10^-12 grams/kg body weight is considered safe for humans)](https://en.wikipedia.org/wiki/Dioxins_and_dioxin-like_compounds#Human_toxicity), while other compounds like persistent and bioaccumulate compounts (which include PFOA) are considered extremely toxic. Finally, we must also consider conventional carcinogens, as chemicals of special concern. \n",
    "\n",
    "Note that the TRI reporting requirements have changed over time, a breakdown of major changes and its history is given [here] (https://www.epa.gov/toxics-release-inventory-tri-program/timeline-toxics-release-inventory-milestones_).\n",
    "\n",
    "## Specific Research Questions\n",
    "\n",
    "- What are the general trends in toxic chemical emissions over time? \n",
    "    - Have chemcial emissions decreased since the implementation of the TRI\n",
    "    - How does this depend on industry?\n",
    "    - How does this depend on the type of chemical emmited?\n",
    "- What trends exist in toxic chemical emissions by state?\n",
    "    - Is there any \"red state\"-\"blue state\" effect?\n",
    "\n",
    "How do releases in the TRI correlate with year, state, and county location? Specifically:\n",
    "- Do chemical plants get better at controlling emissions over time?\n",
    "- Does the composition of chemicals released by a facility change over time? Or in other words will a facility get better at controlling the emissions of one chemical versus another?\n",
    "- Have plants shifted from releasing PBTs and dioxins over time?\n",
    "- Is there any \"red state\"-\"blue state\" effect?\n",
    "- Can you see the impact of environmental regulation, or the loosening of it by administration?\n",
    "\n",
    "\n",
    "## Justification (Expand on)\n",
    "\n",
    "Chemical releases, especially of toxic chemicals, are important to manage and minimize. Knowledge of how chemical plants minimize releases from year to year, as well as if there is any geographic variation could be important in accessing environmental regulations and industrial best practices. Similarly, looking at overall trends is important to ensure that the industry is getting cleaner, trending in a more sustainable direction.\n",
    "\n",
    "As far as evidence, I think it is safe to say that toxic chemical emissions and their prevention is an important problem. One way to demonstrate this is by looking at the EPA, who constantly try to reduce these emission through programs like the [clean air act in 1970](https://www.epa.gov/clean-air-act-overview/progress-cleaning-air-and-improving-peoples-health). While this specific research using the TRI can be motivated by interesting research that has already done using the dataset, including looking at correlations between chemical releases and community composition [1]. The impact of involving employees in pollution abatement programs on emissions [2]. As well as the overall impact that the TRI had on changes in stock prices after the first reporting of it [3]. However, all of these studies are relatively old (published sometime in the 90s), meaning that they miss out on two decades worth of trends, motivating a new look at the TRI.\n",
    "\n",
    "Works Cited\n",
    "1. Arora, S., Cason, T. N., Arora, S. & Casont, T. N. Do Community Characteristics Influence Environmental Outcomes? Evidence from the Toxics Release Inventory Southern Economic Association, 65, 691–716 (1999).\n",
    "2. Bunge, J., Cohen-rosenthal, E. & Ruiz-quintanilla, Employee participation in pollution reduction : preliminary analysis of the Toxics , Release Inventory. Journal of cleaner Production 4, 9–16 (1996).\n",
    "3. Konar, S., Cohen, M. Information As Regulation : The Effect of Community Right to Know Laws on Toxic Emissions. Journal of Environmental Economics and Management, 32, 109–124 (1997).\n",
    "\n",
    "\n",
    "## Data set to be used\n",
    "\n",
    "As stated I am going to use the TRI which has data from 1987-2019 accessible in csv files [here](https://www.epa.gov/toxics-release-inventory-tri-program/tri-basic-data-files-calendar-years-1987-2019?).\n",
    "\n",
    "Documentation about the dataset is given in this [pdf](https://www.epa.gov/sites/production/files/2019-08/documents/basic_data_files_documentation_aug_2019_v2.pdf).\n",
    "\n",
    "## Ethical concerns and other considerations\n",
    "\n",
    "Some ethical concerns and  I have about my analysis include:\n",
    "- As a chemical engineering major entering industry (although in a more sustainable chem company) I will have my own biases about the industry and will probably not be as critical as someone who is not.\n",
    "- Chemical companies could use this analysis as evidence that they do better than their peers or other in a geographic area, which may disincentivize improvement.\n",
    "- I am not an expert of the toxicity of different chemicals, I know generally PBTs/dioxins are worse than others on the list but there is not necessarly a consensus on all chemicals on the list. Treating them the same would be disingenuous, but may be necessary for this level.\n",
    "- Mentioning a \"red state\" - \"blue state\" effect implicitly assumes that the \"red states\" will allow for more emissions than blue states.\n",
    "\n",
    "Other considerations/compounding factors:\n",
    "- The geographical distribution of chemical plants is skewed, i.e. there are a lot of petroleum refineries in Texas, but none in Massachusetts.\n",
    "- You reach a level in emissions control technology where it can be hard (and costly) to improve, expecting plants to improve year to year is not realistic.\n",
    "- Controlling by facility size is required in looking at fugitive air emissions as they are a function of the amount of pressurized equipment.\n",
    "- Changing the composition of chemicals released may be more indicative of a change in product, not of a change in the process."
   ]
  },
  {
   "cell_type": "markdown",
   "id": "discrete-insertion",
   "metadata": {},
   "source": [
    "## Scraping the data\n",
    "\n",
    "Scraped the data from CSV files which the EPA publishes for TRI data from 1987-2019  [here](https://www.epa.gov/toxics-release-inventory-tri-program/tri-basic-data-files-calendar-years-1987-2019?). Documentation about the dataset is given in this [pdf](https://www.epa.gov/sites/production/files/2019-08/documents/basic_data_files_documentation_aug_2019_v2.pdf)."
   ]
  }
 ],
 "metadata": {
  "kernelspec": {
   "display_name": "Python 3",
   "language": "python",
   "name": "python3"
  },
  "language_info": {
   "codemirror_mode": {
    "name": "ipython",
    "version": 3
   },
   "file_extension": ".py",
   "mimetype": "text/x-python",
   "name": "python",
   "nbconvert_exporter": "python",
   "pygments_lexer": "ipython3",
   "version": "3.7.2"
  }
 },
 "nbformat": 4,
 "nbformat_minor": 5
}
