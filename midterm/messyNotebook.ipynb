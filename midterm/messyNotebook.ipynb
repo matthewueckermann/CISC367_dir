{
 "cells": [
  {
   "cell_type": "markdown",
   "id": "arctic-maximum",
   "metadata": {},
   "source": [
    "# Midterm Project Messy Work\n",
    "*Matthew Ueckermann*\n"
   ]
  },
  {
   "cell_type": "markdown",
   "id": "extreme-species",
   "metadata": {},
   "source": [
    "## Importing the data\n",
    "\n",
    "Can import one year as:"
   ]
  },
  {
   "cell_type": "code",
   "execution_count": null,
   "id": "studied-precipitation",
   "metadata": {},
   "outputs": [],
   "source": [
    "import pandas as pd\n",
    "import numpy as np\n",
    "import seaborn as sns\n",
    "from  scipy import stats \n",
    "import time\n",
    "\n",
    "df_2019 = pd.read_csv('https://enviro.epa.gov/enviro/efservice/MV_TRI_BASIC_DOWNLOAD/year/=/2019/fname/TRI_2019_US.csv/CSV',low_memory=False)\n",
    "# to scrape later, do in for loop. Add time delay for politenes\n",
    "\n",
    "print(\"done\")"
   ]
  },
  {
   "cell_type": "code",
   "execution_count": null,
   "id": "regulation-sleeve",
   "metadata": {},
   "outputs": [],
   "source": [
    "df_2019.head()"
   ]
  },
  {
   "cell_type": "code",
   "execution_count": null,
   "id": "alternate-failure",
   "metadata": {},
   "outputs": [],
   "source": [
    "# Want to select/keep only the data that we care about:\n",
    "#df_2019_trimmed = df_2019[[\"1. YEAR\",\"2. TRIFD\",\"8. ST\",\"15. PARENT CO NAME\",\"20. INDUSTRY SECTOR\",\"34. CHEMICAL\",\"38. CLEAN AIR ACT CHEMICAL\",\"39. CLASSIFICATION\",\"40. METAL\",\"42. CARCINOGEN\",\"45. 5.1 - FUGITIVE AIR\",\"46. 5.2 - STACK AIR\",\"47. 5.3 - WATER\",\"51. 5.5.1 - LANDFILLS\",\"59. ON-SITE RELEASE TOTAL\",\"82. OFF-SITE RELEASE TOTAL\",\"88. OFF-SITE RECYCLED TOTAL\",\"101. TOTAL RELEASES\",\"113. PRODUCTION WSTE (8.1-8.7)\",\"114. 8.8 - ONE-TIME RELEASE\",\"115. PROD_RATIO_OR_ ACTIVITY\",\"116. 8.9 - PRODUCTION RATIO\"]]\n",
    "\n",
    "df_2019_trimmed = df_2019[[\"1. YEAR\",\"2. TRIFD\",\"8. ST\",\"15. PARENT CO NAME\",\"20. INDUSTRY SECTOR\",\"34. CHEMICAL\",\"39. CLASSIFICATION\",\"42. CARCINOGEN\",\"45. 5.1 - FUGITIVE AIR\",\"59. ON-SITE RELEASE TOTAL\",\"82. OFF-SITE RELEASE TOTAL\",\"101. TOTAL RELEASES\",\"116. 8.9 - PRODUCTION RATIO\"]]\n",
    "# this probably covers more than I'll actually use, but I think the rest of the columns are too much for me....\n",
    "\n",
    "del df_2019"
   ]
  },
  {
   "cell_type": "code",
   "execution_count": null,
   "id": "brazilian-coalition",
   "metadata": {},
   "outputs": [],
   "source": [
    "df_2019_trimmed.head()"
   ]
  },
  {
   "cell_type": "code",
   "execution_count": null,
   "id": "changed-malaysia",
   "metadata": {},
   "outputs": [],
   "source": [
    "## time to scrape!\n",
    "df = df_2019_trimmed\n",
    "\n",
    "for x in range(1987,2019):\n",
    "    address = 'https://enviro.epa.gov/enviro/efservice/MV_TRI_BASIC_DOWNLOAD/year/=/'+str(x)+'/fname/TRI_'+str(x)+'_US.csv/CSV'\n",
    "    df_new = pd.read_csv(address,low_memory=False)\n",
    "    \n",
    "    df_new_trimmed = df_new[[\"1. YEAR\",\"2. TRIFD\",\"8. ST\",\"15. PARENT CO NAME\",\"20. INDUSTRY SECTOR\",\"34. CHEMICAL\",\"39. CLASSIFICATION\",\"42. CARCINOGEN\",\"45. 5.1 - FUGITIVE AIR\",\"46. 5.2 - STACK AIR\",\"47. 5.3 - WATER\",\"59. ON-SITE RELEASE TOTAL\",\"82. OFF-SITE RELEASE TOTAL\",\"101. TOTAL RELEASES\",\"116. 8.9 - PRODUCTION RATIO\"]]\n",
    "\n",
    "    df = df.append(df_new_trimmed, ignore_index=True)\n",
    "    del df_new\n",
    "    time.sleep(2)"
   ]
  },
  {
   "cell_type": "code",
   "execution_count": null,
   "id": "smart-forge",
   "metadata": {},
   "outputs": [],
   "source": [
    "df.tail(1) # seems like we have everything imported/scraped..."
   ]
  },
  {
   "cell_type": "markdown",
   "id": "moving-freedom",
   "metadata": {},
   "source": [
    "## Lets start understanding the data that we have\n",
    "\n",
    "Want to see general structure of the TRI, see if anything interesting pops up"
   ]
  },
  {
   "cell_type": "code",
   "execution_count": null,
   "id": "serious-husband",
   "metadata": {},
   "outputs": [],
   "source": [
    "df[\"34. CHEMICAL\"].value_counts()"
   ]
  },
  {
   "cell_type": "code",
   "execution_count": null,
   "id": "taken-engineering",
   "metadata": {},
   "outputs": [],
   "source": [
    "df[\"15. PARENT CO NAME\"].value_counts()"
   ]
  },
  {
   "cell_type": "code",
   "execution_count": null,
   "id": "frank-principle",
   "metadata": {},
   "outputs": [],
   "source": [
    "df[\"8. ST\"].value_counts()"
   ]
  },
  {
   "cell_type": "code",
   "execution_count": null,
   "id": "gentle-hungary",
   "metadata": {},
   "outputs": [],
   "source": [
    "df[\"2. TRIFD\"].value_counts()"
   ]
  },
  {
   "cell_type": "code",
   "execution_count": null,
   "id": "eight-wrestling",
   "metadata": {},
   "outputs": [],
   "source": [
    "# Group by values more interesting though...\n",
    "df.groupby([\"34. CHEMICAL\",\"1. YEAR\"])[\"101. TOTAL RELEASES\"].sum()"
   ]
  },
  {
   "cell_type": "markdown",
   "id": "encouraging-salem",
   "metadata": {},
   "source": [
    "### Some very general trends\n",
    "\n",
    "Interested in types of chemical emissions over time, both general and not"
   ]
  },
  {
   "cell_type": "code",
   "execution_count": null,
   "id": "authentic-sunglasses",
   "metadata": {},
   "outputs": [],
   "source": [
    "# Lets just look at total chemical releases by year. See if there's anything there\n",
    "import seaborn as sns\n",
    "import matplotlib.pyplot as plt\n",
    "\n",
    "sumEmm_year = df.groupby([\"1. YEAR\"])[\"101. TOTAL RELEASES\"].sum()\n",
    "\n",
    "sumEmm_year.plot(kind='bar')\n",
    "#not super exciting, might be able to attribute first decrease to the creation of the TRI, but probs not more"
   ]
  },
  {
   "cell_type": "code",
   "execution_count": null,
   "id": "everyday-biotechnology",
   "metadata": {},
   "outputs": [],
   "source": [
    "# Continue, but lets look at specific bad chemcials, starting with carcinogens\n",
    "\n",
    "sumCarcinogens_year = df[df[\"42. CARCINOGEN\"]==\"YES\"].groupby([\"1. YEAR\"])[\"101. TOTAL RELEASES\"].sum()\n",
    "sumCarcinogens_year.plot(kind='bar')"
   ]
  },
  {
   "cell_type": "code",
   "execution_count": null,
   "id": "wrong-bikini",
   "metadata": {},
   "outputs": [],
   "source": [
    "# Dioxins\n",
    "\n",
    "sumDiox_year = df[df[\"39. CLASSIFICATION\"]==\"Dioxin\"].groupby([\"1. YEAR\"])[\"101. TOTAL RELEASES\"].sum()\n",
    "sumDiox_year.plot(kind='bar')"
   ]
  },
  {
   "cell_type": "code",
   "execution_count": null,
   "id": "destroyed-river",
   "metadata": {},
   "outputs": [],
   "source": [
    "# PBTs\n",
    "\n",
    "sumPBT_year = df[df[\"39. CLASSIFICATION\"]==\"PBT\"].groupby([\"1. YEAR\"])[\"101. TOTAL RELEASES\"].sum()\n",
    "sumPBT_year.plot(kind='bar')"
   ]
  },
  {
   "cell_type": "code",
   "execution_count": null,
   "id": "complex-postcard",
   "metadata": {},
   "outputs": [],
   "source": [
    "# So obviously, PBT/dioxin usage not decreasing... Is this due to addition of new compounds, or just greater use?\n",
    "\n",
    "# Lets take some example PBTs\n",
    "\n",
    "# lead\n",
    "sumLead_year = df[df[\"34. CHEMICAL\"]==\"Lead\"].groupby([\"1. YEAR\"])[\"101. TOTAL RELEASES\"].sum()\n",
    "sumLead_year.plot(kind='bar')\n",
    "\n",
    "# looks like they added more industries in 199 time, a well as more PBTs.."
   ]
  },
  {
   "cell_type": "code",
   "execution_count": null,
   "id": "positive-edition",
   "metadata": {},
   "outputs": [],
   "source": [
    "df[\"20. INDUSTRY SECTOR\"].value_counts()\n",
    "#  Wow this is a lot. Really only had chemicals/petroleum in my mind"
   ]
  },
  {
   "cell_type": "code",
   "execution_count": null,
   "id": "ranging-climate",
   "metadata": {},
   "outputs": [],
   "source": [
    "#Lets look at the magnitude...\n",
    "sumChem_industry = df[df[\"1. YEAR\"]>2001].groupby([\"20. INDUSTRY SECTOR\"])[\"101. TOTAL RELEASES\"].sum()\n",
    "sumChem_industry.plot(kind=\"bar\")"
   ]
  },
  {
   "cell_type": "code",
   "execution_count": null,
   "id": "balanced-intermediate",
   "metadata": {},
   "outputs": [],
   "source": [
    "sumChem_byIndustry_year = df.groupby([\"1. YEAR\",\"20. INDUSTRY SECTOR\"])[\"101. TOTAL RELEASES\"].sum()*10**-6\n",
    "sumChem_byIndustry_year.unstack(level=1).plot.bar(stacked=True).legend(loc='center left',bbox_to_anchor=(1.0, 0.5));\n",
    "plt.xlabel(\"Year\")\n",
    "plt.ylabel(\"Total chemicals emmited (Mlb)\")\n",
    "plt.show()\n",
    "\n",
    "# Pretty chart, but think I will use to justify zeroing on just the chemicals industry..."
   ]
  },
  {
   "cell_type": "markdown",
   "id": "historic-label",
   "metadata": {},
   "source": [
    "### Zeroing in on the Chemical Industry\n",
    "\n",
    "Seems like an interesting case study of the data. Want to look at the same trends as above and characterize"
   ]
  },
  {
   "cell_type": "code",
   "execution_count": null,
   "id": "political-criticism",
   "metadata": {},
   "outputs": [],
   "source": [
    "df_chemical = df[df[\"20. INDUSTRY SECTOR\"]==\"Chemicals\"]\n",
    "df_chemical"
   ]
  },
  {
   "cell_type": "code",
   "execution_count": null,
   "id": "corporate-passage",
   "metadata": {},
   "outputs": [],
   "source": [
    "JM_df = df_chemical[df_chemical[\"15. PARENT CO NAME\"]==\"JOHNSON MATTHEY INC\"] # my future employeer, might keep around if interested later..."
   ]
  },
  {
   "cell_type": "code",
   "execution_count": null,
   "id": "varying-lightning",
   "metadata": {},
   "outputs": [],
   "source": [
    "# All chemicals\n",
    "df_chemical.groupby([\"1. YEAR\"])[\"101. TOTAL RELEASES\"].sum().plot(kind='bar') # hey you can do this in one line\n",
    "### OOOOh a nice decrease with the introduction of the TRI, no longer confounded with the introduction of other industries"
   ]
  },
  {
   "cell_type": "code",
   "execution_count": null,
   "id": "interpreted-employment",
   "metadata": {},
   "outputs": [],
   "source": [
    "# Carinogens\n",
    "# start only looking at chemical...\n",
    "sumDioxChem_year = df_chemical[df_chemical[\"42. CARCINOGEN\"]==\"YES\"].groupby([\"1. YEAR\"])[\"101. TOTAL RELEASES\"].sum().plot(kind='bar') "
   ]
  },
  {
   "cell_type": "code",
   "execution_count": null,
   "id": "balanced-spice",
   "metadata": {},
   "outputs": [],
   "source": [
    "# Dioxins\n",
    "sumDioxChem_year = df_chemical[df_chemical[\"39. CLASSIFICATION\"]==\"Dioxin\"].groupby([\"1. YEAR\"])[\"101. TOTAL RELEASES\"].sum().plot(kind='bar') # Methodology change to more group contribution in 2008\n",
    "# counfounded by normalizations - take into account"
   ]
  },
  {
   "cell_type": "code",
   "execution_count": null,
   "id": "critical-mystery",
   "metadata": {},
   "outputs": [],
   "source": [
    "# PBT\n",
    "sumDioxChem_year = df_chemical[df_chemical[\"39. CLASSIFICATION\"]==\"PBT\"].groupby([\"1. YEAR\"])[\"101. TOTAL RELEASES\"].sum().plot(kind='bar') # Methodology change to more group contribution in 2008\n",
    "# confounded by additions - take into account"
   ]
  },
  {
   "cell_type": "code",
   "execution_count": null,
   "id": "appointed-technology",
   "metadata": {},
   "outputs": [],
   "source": []
  },
  {
   "cell_type": "markdown",
   "id": "metric-butterfly",
   "metadata": {},
   "source": [
    "### Anaylsis ideas\n",
    "\n",
    "Goals/ideas I had to look into at this point:\n",
    " - Look into controlling for production increase\n",
    " - Start to look at specific sites/companies\n",
    "     - Case study notable chemicals (PFAS?)\n",
    " - Trends in emission types out of what I have now\n",
    " - Start making own stats\n",
    "     - Yearly decrease in specific chemical emitted\n",
    "         - compare with production increase ratio\n",
    "     - Shift in chemicals compositions within plants\n",
    "  - Look at state trends\n"
   ]
  },
  {
   "cell_type": "markdown",
   "id": "identical-outside",
   "metadata": {},
   "source": [
    "## Do plants get better at controlling emissions?\n",
    "\n",
    "Ended up not being able to get anything substantial to run here... spent a lot of time trying to control for production ratio and taking the difference between a emissions controlled by the production ratio one year compared to emissions in the previous year. Retrospectively, I think I wrote the loop wrong, but I also think I was asking way too much to look at emissions for each chemical in each facilitiy."
   ]
  },
  {
   "cell_type": "code",
   "execution_count": null,
   "id": "assisted-collaboration",
   "metadata": {},
   "outputs": [],
   "source": [
    "year_location = df_chemical.groupby([\"1. YEAR\",\"2. TRIFD\"])[\"101. TOTAL RELEASES\"].sum()\n",
    "\n",
    "year_location\n",
    "\n",
    "#df_chemical.groupby([\"1. YEAR\",\"2. TRIFD\"])[\"116. 8.9 - PRODUCTION RATIO\"].sum()\n",
    "\n",
    "#df_chemical.groupby([\"2. TRIFD\"])[\"101. TOTAL RELEASES\"].count()"
   ]
  },
  {
   "cell_type": "code",
   "execution_count": null,
   "id": "serious-transfer",
   "metadata": {},
   "outputs": [],
   "source": [
    "df_chemical.groupby([\"1. YEAR\",\"2. TRIFD\"])[\"101. TOTAL RELEASES\"].describe()"
   ]
  },
  {
   "cell_type": "code",
   "execution_count": null,
   "id": "minute-cutting",
   "metadata": {},
   "outputs": [],
   "source": [
    "#Would want to control by increase in production, ratio is given in last column\n",
    "#https://www.epa.gov/sites/production/files/2016-05/documents/p2_factsheet_may_2016_final.pdf how to think\n",
    "df_chemical[\"116. 8.9 - PRODUCTION RATIO\"]\n",
    "\n",
    "df_chem_prod = df_chemical[df_chemical[\"116. 8.9 - PRODUCTION RATIO\"]!=0] # Can now control by increase in production by facility"
   ]
  },
  {
   "cell_type": "code",
   "execution_count": null,
   "id": "brazilian-chancellor",
   "metadata": {},
   "outputs": [],
   "source": [
    "specificSite_Chem = df_chem_prod[(df_chem_prod[\"2. TRIFD\"]==\"77015FRMNT2239H\") & (df_chemical[\"34. CHEMICAL\"]==\"Hydrogen cyanide\")]\n",
    "#specificSite_Chem[\"Normalized Production\"] - specificSite_Chem[\"101. TOTAL RELEASES\"] Does not compare between years\n",
    "specificSite_Chem # Can try to determine a statistic with this"
   ]
  },
  {
   "cell_type": "code",
   "execution_count": null,
   "id": "activated-startup",
   "metadata": {},
   "outputs": [],
   "source": [
    "#specificSite_Chem.reset_index() dont think this is actually needed"
   ]
  },
  {
   "cell_type": "code",
   "execution_count": null,
   "id": "thorough-universe",
   "metadata": {},
   "outputs": [],
   "source": [
    "norm_year_prev = specificSite_Chem[\"101. TOTAL RELEASES\"]/specificSite_Chem[\"116. 8.9 - PRODUCTION RATIO\"]\n",
    "specificSite_Chem[\"Normalized Production\"] = norm_year_prev\n",
    "specificSite_Chem[\"Normalized Difference\"] = np.nan\n",
    "specificSite_Chem\n"
   ]
  },
  {
   "cell_type": "code",
   "execution_count": null,
   "id": "stock-length",
   "metadata": {},
   "outputs": [],
   "source": [
    "specificSite_Chem.iat[5,11]\n",
    "for i in range(2,32):\n",
    "    specificSite_Chem.iat[i,16] = specificSite_Chem.iat[i,15]-specificSite_Chem.iat[i-1,11]"
   ]
  },
  {
   "cell_type": "code",
   "execution_count": null,
   "id": "ambient-pioneer",
   "metadata": {},
   "outputs": [],
   "source": [
    "specificSite_Chem # Negative normalized difference - actual lb difference accounting for increase in production. Positive indicates increased greater than expected due to production increase"
   ]
  },
  {
   "cell_type": "code",
   "execution_count": null,
   "id": "mexican-disease",
   "metadata": {},
   "outputs": [],
   "source": [
    "# Should have dropped the NaN, but I like the new Normalized difference metric. Can do anaylsis on it (mean, std...) to see how it shifts\n",
    "specificSite_Chem[\"Normalized Difference\"].describe()"
   ]
  },
  {
   "cell_type": "code",
   "execution_count": null,
   "id": "separated-scott",
   "metadata": {},
   "outputs": [],
   "source": [
    "df_chem_prod.loc[specificSite_Chem.index,\"Normalized Difference\"] = specificSite_Chem[\"Normalized Difference\"]  "
   ]
  },
  {
   "cell_type": "markdown",
   "id": "optional-special",
   "metadata": {},
   "source": [
    "## General process for site/chemical statistic:\n",
    "Collect all years of one site and chemical\n",
    "Divide total releases by production ratio, call normalized release\n",
    "Subtract normalized release by actual release of previous year\n",
    "Then have valid reduction indicator\n",
    "\n",
    "For rest of dataset:"
   ]
  },
  {
   "cell_type": "code",
   "execution_count": null,
   "id": "involved-invalid",
   "metadata": {},
   "outputs": [],
   "source": [
    "# Code summary\n",
    "# specificSite_Chem = df_chem_prod[(df_chem_prod[\"2. TRIFD\"]==\"77015FRMNT2239H\") & (df_chemical[\"34. CHEMICAL\"]==\"Hydrogen cyanide\")]\n",
    "# norm_year_prev = specificSite_Chem[\"101. TOTAL RELEASES\"]/specificSite_Chem[\"116. 8.9 - PRODUCTION RATIO\"]\n",
    "# specificSite_Chem[\"Normalized Production\"] = norm_year_prev\n",
    "# specificSite_Chem[\"Normalized Difference\"] = np.nan\n",
    "# for i in range(2,32):\n",
    "#    specificSite_Chem.iat[i,18] = specificSite_Chem.iat[i,17]-specificSite_Chem.iat[i-1,13]\n",
    "    # I just want to say this took me forever to think through"
   ]
  },
  {
   "cell_type": "code",
   "execution_count": null,
   "id": "reverse-dimension",
   "metadata": {},
   "outputs": [],
   "source": [
    "df_chem_prod[\"Normalized Production\"] = df_chem_prod[\"101. TOTAL RELEASES\"]/df_chem_prod[\"116. 8.9 - PRODUCTION RATIO\"] # want to normalize by first emmission?\n"
   ]
  },
  {
   "cell_type": "code",
   "execution_count": null,
   "id": "composite-anime",
   "metadata": {},
   "outputs": [],
   "source": [
    "df_chem_prod[\"Normalized Difference\"] = np.nan"
   ]
  },
  {
   "cell_type": "code",
   "execution_count": null,
   "id": "final-pension",
   "metadata": {},
   "outputs": [],
   "source": [
    "#This is probably pretty darn bad, but hey:\n",
    "\n",
    "#for i in df_chem_prod[\"2. TRIFD\"]:\n",
    "#    for j in df_chem_prod[df_chem_prod[\"2. TRIFD\"]==i][\"34. CHEMICAL\"]:\n",
    "#        if(df_chem_prod[(df_chem_prod[\"2. TRIFD\"]==i) & (df_chemical[\"34. CHEMICAL\"]==i)].shape[0]==32):\n",
    "#            specificSite_chem = df_chem_prod[(df_chem_prod[\"2. TRIFD\"]==i) & (df_chemical[\"34. CHEMICAL\"]==i)]\n",
    "#            for i in range(2,32):\n",
    "#                specificSite_Chem.iat[i,16] = specificSite_Chem.iat[i,15]-specificSite_Chem.iat[i-1,11]\n",
    "#            df_chem_prod.loc[specificSite_Chem.index,\"Normalized Difference\"] = specificSite_Chem[\"Normalized Difference\"]\n",
    "#\n",
    "# Gave over an hour to run and no dice... Oh well..."
   ]
  },
  {
   "cell_type": "code",
   "execution_count": null,
   "id": "electrical-slovak",
   "metadata": {},
   "outputs": [],
   "source": [
    "df_chem_prod.dropna(subset=[\"Normalized Difference\"]) # worked for the specific example..."
   ]
  },
  {
   "cell_type": "markdown",
   "id": "italian-aside",
   "metadata": {},
   "source": [
    "### Emission Type\n",
    "\n",
    "Where I go through emission data just for the chemical industry, think this is much more relevant and usable."
   ]
  },
  {
   "cell_type": "code",
   "execution_count": null,
   "id": "recovered-florence",
   "metadata": {},
   "outputs": [],
   "source": [
    "fugAir = df_chemical.groupby([\"1. YEAR\"])[\"45. 5.1 - FUGITIVE AIR\"].sum()\n",
    "stackAir = df_chemical.groupby([\"1. YEAR\"])[\"46. 5.2 - STACK AIR\"].sum()\n",
    "waterAir = df_chemical.groupby([\"1. YEAR\"])[\"47. 5.3 - WATER\"].sum()\n",
    "df_emissionType = pd.concat({\"Fugitive Air\":fugAir,\"Stack Air\":stackAir,\"Water\":waterAir},axis=1)\n",
    "df_emissionType.plot.bar(y=['Fugitive Air', \"Stack Air\"], stacked=True)"
   ]
  },
  {
   "cell_type": "code",
   "execution_count": null,
   "id": "individual-cigarette",
   "metadata": {},
   "outputs": [],
   "source": [
    "df_emissionType.plot.bar(y=['Fugitive Air', \"Stack Air\",\"Water\"], stacked=True)"
   ]
  },
  {
   "cell_type": "code",
   "execution_count": null,
   "id": "through-seeking",
   "metadata": {},
   "outputs": [],
   "source": [
    "onsite = df_chemical.groupby([\"1. YEAR\"])[\"59. ON-SITE RELEASE TOTAL\"].sum()*10**-6\n",
    "offsite = df_chemical.groupby([\"1. YEAR\"])[\"82. OFF-SITE RELEASE TOTAL\"].sum()*10**-6\n",
    "df_emissionLocation = pd.concat({\"Onsite\":onsite,\"Offsite\":offsite},axis=1)"
   ]
  },
  {
   "cell_type": "code",
   "execution_count": null,
   "id": "joined-russian",
   "metadata": {},
   "outputs": [],
   "source": [
    "df_emissionLocation.plot.bar(y=['Onsite', \"Offsite\"], stacked=True)\n",
    "plt.xlabel(\"Year\")\n",
    "plt.ylabel(\"Total amount of chemicals emitted (Mlb)\")\n",
    "plt.title(\"Onsite to Offsite Emissions in the Chemical Industry\")\n",
    "plt.show()"
   ]
  },
  {
   "cell_type": "code",
   "execution_count": null,
   "id": "color-lodging",
   "metadata": {},
   "outputs": [],
   "source": []
  },
  {
   "cell_type": "markdown",
   "id": "sudden-supplier",
   "metadata": {},
   "source": [
    "### State Trends\n",
    "\n",
    "Kinda want to create my own statistic/value to test/look for trends, lose ability to use the production ratio depending on how this is done\n",
    "\n",
    "Looking first at yearly total releases again:"
   ]
  },
  {
   "cell_type": "code",
   "execution_count": null,
   "id": "immune-adolescent",
   "metadata": {},
   "outputs": [],
   "source": [
    "year_state = df_chemical.groupby([\"1. YEAR\",\"8. ST\"])[\"101. TOTAL RELEASES\"].sum()*10**-6\n",
    "year_state = year_state.reset_index()\n",
    "year_state"
   ]
  },
  {
   "cell_type": "code",
   "execution_count": null,
   "id": "toxic-aggregate",
   "metadata": {},
   "outputs": [],
   "source": []
  },
  {
   "cell_type": "code",
   "execution_count": null,
   "id": "relevant-utility",
   "metadata": {},
   "outputs": [],
   "source": [
    "year_state = year_state.drop(index=year_state[year_state[\"8. ST\"]==\"VI\"].index) # Not state\n",
    "year_state = year_state.drop(index=year_state[year_state[\"8. ST\"]==\"PR\"].index) # Not state\n",
    "year_state = year_state.drop(index=year_state[year_state[\"8. ST\"]==\"DC\"].index) # Not state, remove both as small\n",
    "year_state = year_state.drop(year_state[year_state[\"8. ST\"]==\"AK\"].index)       # Does not report after 2008\n",
    "year_state = year_state.drop(year_state[year_state[\"8. ST\"]==\"HI\"].index)       # Does not report after 2013"
   ]
  },
  {
   "cell_type": "code",
   "execution_count": null,
   "id": "dimensional-regular",
   "metadata": {},
   "outputs": [],
   "source": [
    "year_state.groupby([\"1. YEAR\"])[\"101. TOTAL RELEASES\"].describe()"
   ]
  },
  {
   "cell_type": "code",
   "execution_count": null,
   "id": "central-tennis",
   "metadata": {},
   "outputs": [],
   "source": [
    "state_max = year_state.groupby([\"8. ST\"])[\"101. TOTAL RELEASES\"].max()\n",
    "state_min = year_state.groupby([\"8. ST\"])[\"101. TOTAL RELEASES\"].min()\n",
    "state_max"
   ]
  },
  {
   "cell_type": "code",
   "execution_count": null,
   "id": "better-point",
   "metadata": {},
   "outputs": [],
   "source": [
    "state_min"
   ]
  },
  {
   "cell_type": "code",
   "execution_count": null,
   "id": "right-career",
   "metadata": {},
   "outputs": [],
   "source": [
    "state_percent_decrease = (state_max-state_min)/state_max *100 # Percent decrease in TRI of largest emmission year in comparison to smallest\n",
    "state_percent_decrease"
   ]
  },
  {
   "cell_type": "code",
   "execution_count": null,
   "id": "organizational-parks",
   "metadata": {},
   "outputs": [],
   "source": [
    "state_percent_decrease.describe()"
   ]
  },
  {
   "cell_type": "code",
   "execution_count": null,
   "id": "mathematical-ebony",
   "metadata": {},
   "outputs": [],
   "source": [
    "#From before I removed Alaska from the data set\n",
    "# Alaska is pretty surprising, lets check why:\n",
    "#year_state[year_state[\"8. ST\"]==\"AK\"].plot.bar(x=\"1. YEAR\",y=\"101. TOTAL RELEASES\") # might be an artifact of the chemical industry itself pullin out of the state\n",
    "# Stopped reporting in 2008. I guess remove from anaylsis"
   ]
  },
  {
   "cell_type": "code",
   "execution_count": null,
   "id": "congressional-smooth",
   "metadata": {},
   "outputs": [],
   "source": [
    "#year_state.drop(year_state[year_state[\"8. ST\"]==\"AK\"].index)"
   ]
  },
  {
   "cell_type": "code",
   "execution_count": null,
   "id": "beautiful-surprise",
   "metadata": {},
   "outputs": [],
   "source": [
    "#Can visualize set with a box and wiskers plot:\n",
    "df_state_percent = pd.DataFrame(state_percent_decrease)\n",
    "df_state_percent.columns = ['Percent decrease']\n",
    "df_state_percent.drop(df_state_percent[])"
   ]
  },
  {
   "cell_type": "code",
   "execution_count": null,
   "id": "dutch-solomon",
   "metadata": {},
   "outputs": [],
   "source": [
    "# Violin plots are cooler IMO\n",
    "import seaborn as sns\n",
    "sns.violinplot(y='Percent decrease', data = df_state_percent)\n",
    "# the outliers confuse me tho"
   ]
  },
  {
   "cell_type": "code",
   "execution_count": null,
   "id": "second-headset",
   "metadata": {},
   "outputs": [],
   "source": [
    "sns.swarmplot(x='Percent decrease', data = df_state_percent)\n",
    "plt.ylabel(\"Reduction from Highest Chemical Emission (%)\")\n",
    "plt.xlabel\n",
    "# I like this the best"
   ]
  },
  {
   "cell_type": "code",
   "execution_count": null,
   "id": "advanced-rings",
   "metadata": {},
   "outputs": [],
   "source": [
    "sns.boxplot(x='Percent decrease', data = df_state_percent)"
   ]
  },
  {
   "cell_type": "code",
   "execution_count": null,
   "id": "public-cinema",
   "metadata": {},
   "outputs": [],
   "source": [
    "df_state_percent.describe()"
   ]
  },
  {
   "cell_type": "code",
   "execution_count": null,
   "id": "critical-emphasis",
   "metadata": {},
   "outputs": [],
   "source": [
    "df_state_percent.index.names = [\"State\"]\n",
    "df_state_percent"
   ]
  },
  {
   "cell_type": "code",
   "execution_count": null,
   "id": "colored-ecuador",
   "metadata": {},
   "outputs": [],
   "source": [
    "#Shame\n",
    "df_state_percent.sort_values(by='Percent decrease', ascending = False)"
   ]
  },
  {
   "cell_type": "code",
   "execution_count": null,
   "id": "legislative-dublin",
   "metadata": {},
   "outputs": [],
   "source": [
    "#Just realized that instead of min and max I should hardcode the years... Data is more confusing. Lets stick the other way and ankwoledge not ideal...\n",
    "state_1987 = year_state[year_state[\"1. YEAR\"]==1987]\n",
    "state_2019 = year_state[year_state[\"1. YEAR\"]==2019]"
   ]
  },
  {
   "cell_type": "code",
   "execution_count": null,
   "id": "tutorial-paragraph",
   "metadata": {},
   "outputs": [],
   "source": [
    "# bad way to create series I want:\n",
    "state_emmit_1987 = state_1987.groupby([\"8. ST\"])[\"101. TOTAL RELEASES\"].max()\n",
    "state_emmit_2019 = state_2019.groupby([\"8. ST\"])[\"101. TOTAL RELEASES\"].min()"
   ]
  },
  {
   "cell_type": "code",
   "execution_count": null,
   "id": "liked-benefit",
   "metadata": {},
   "outputs": [],
   "source": [
    "state_emmit_1987"
   ]
  },
  {
   "cell_type": "code",
   "execution_count": null,
   "id": "least-folder",
   "metadata": {},
   "outputs": [],
   "source": [
    "state_percent_decrease = (state_emmit_1987-state_emmit_2019)/state_emmit_1987 *100"
   ]
  },
  {
   "cell_type": "code",
   "execution_count": null,
   "id": "vocal-russian",
   "metadata": {},
   "outputs": [],
   "source": [
    "state_percent_decrease"
   ]
  },
  {
   "cell_type": "code",
   "execution_count": null,
   "id": "corresponding-briefing",
   "metadata": {},
   "outputs": [],
   "source": [
    "# More sophisticated: look at each chemical released\n",
    "chem_year_state = df_chemical.groupby([\"1. YEAR\",\"8. ST\",\"34. CHEMICAL\"])[\"101. TOTAL RELEASES\"].sum()*10**-6\n",
    "df_chem_state_year = chem_year_state.reset_index() # the multi-index hurts my head\n",
    "df_chem_state_year\n",
    "# too difficult to deal with for now"
   ]
  },
  {
   "cell_type": "markdown",
   "id": "electronic-manitoba",
   "metadata": {},
   "source": [
    "## Adding state ideology\n",
    "\n",
    "Wanted to compare with some measure of a states ideology. Found a measure [here](https://rcfording.com/state-ideology-data/), which gives a nominate measure of state government ideology. The way that this is calculated is delatied [here](https://journals-sagepub-com.udel.idm.oclc.org/doi/10.1177/153244001001000201), but it essentially looks at the votes of a states congressional delegation as well as interest group ratings and extrapolates them to similar party state politicains. Its on a scale of 0-100 going from conservative-liberal.\n",
    "\n",
    "Note I could not find an easy way to scape, and did some of my own pre-processing in Excel (adding abbreviations, deleting empty rows)"
   ]
  },
  {
   "cell_type": "code",
   "execution_count": null,
   "id": "great-patent",
   "metadata": {},
   "outputs": [],
   "source": [
    "# Dataset on state ideology\n",
    "\n",
    "df_stIdeology = pd.read_csv(\"Data/stateideology_v2018.csv\") # could not find out how to scrape\n",
    "df_stIdeology"
   ]
  },
  {
   "cell_type": "code",
   "execution_count": null,
   "id": "circular-effectiveness",
   "metadata": {},
   "outputs": [],
   "source": [
    "# Want to create dataset of slopes in yearly emissions and correlate with ideology data\n",
    "year_state[\"Normalized Release\"] = np.nan\n",
    "year_state[\"Difference in Release\"]= np.nan\n",
    "year_state[\"Ideology score\"] = np.nan\n",
    "year_state[\"Difference in Ideology score\"] = np.nan"
   ]
  },
  {
   "cell_type": "code",
   "execution_count": null,
   "id": "secret-march",
   "metadata": {},
   "outputs": [],
   "source": [
    "year_state"
   ]
  },
  {
   "cell_type": "code",
   "execution_count": null,
   "id": "level-moisture",
   "metadata": {},
   "outputs": [],
   "source": [
    "#year_state[year_state[\"8. ST\"]==\"AL\"]\n",
    "\n",
    "#year_state[(year_state[\"8. ST\"]==\"AL\") & (year_state[\"1. YEAR\"]==1998)][\"Normalized Release\"] = 1\n",
    "#year_state.loc[((year_state[\"8. ST\"]==\"AL\") & (year_state[\"1. YEAR\"]==1998)),\"Normalized Release\"] = 1 # probably what I should have done before\n",
    "\n",
    "#year_state[(year_state[\"8. ST\"]==\"AL\") & (year_state[\"1. YEAR\"]==1998)][\"101. TOTAL RELEASES\"]"
   ]
  },
  {
   "cell_type": "code",
   "execution_count": null,
   "id": "extraordinary-karma",
   "metadata": {},
   "outputs": [],
   "source": [
    "pd.options.mode.chained_assignment = None\n",
    "for state in year_state[year_state[\"1. YEAR\"]==1987][\"8. ST\"]:\n",
    "    #print(state) sanity check\n",
    "    for year in range(1987,2018):\n",
    "        original_val = year_state[(year_state[\"8. ST\"]==state) & (year_state[\"1. YEAR\"]==1987)][\"101. TOTAL RELEASES\"].values[0]\n",
    "        current_val = year_state[(year_state[\"8. ST\"]==state) & (year_state[\"1. YEAR\"]==year)][\"101. TOTAL RELEASES\"].values[0]\n",
    "        norm_val = current_val/original_val\n",
    "        year_state.loc[((year_state[\"8. ST\"]==state) & (year_state[\"1. YEAR\"]==year)),\"Normalized Release\"] = norm_val\n",
    "        \n",
    "        ideology_score = df_stIdeology[(df_stIdeology[\"year\"]==year)&(df_stIdeology[\"State Abbreviation\"]==state)][\"State ideology\"].values[0]\n",
    "        year_state.loc[((year_state[\"8. ST\"]==state) & (year_state[\"1. YEAR\"]==year)),\"Ideology score\"] = ideology_score\n",
    "        \n",
    "        if(year!=1987):\n",
    "            pre_val = year_state[(year_state[\"8. ST\"]==state) & (year_state[\"1. YEAR\"]==(year-1))][\"Normalized Release\"].values[0]\n",
    "            difference = norm_val-pre_val\n",
    "            year_state.loc[((year_state[\"8. ST\"]==state) & (year_state[\"1. YEAR\"]==year)),\"Difference in Release\"] = difference\n",
    "            \n",
    "            pre_ideology = year_state[(year_state[\"8. ST\"]==state) & (year_state[\"1. YEAR\"]==(year-1))][\"Ideology score\"].values[0]\n",
    "            id_diff = ideology_score-pre_ideology\n",
    "            \n",
    "            year_state.loc[((year_state[\"8. ST\"]==state) & (year_state[\"1. YEAR\"]==year)),\"Difference in Ideology score\"] = id_diff"
   ]
  },
  {
   "cell_type": "code",
   "execution_count": null,
   "id": "organizational-lounge",
   "metadata": {},
   "outputs": [],
   "source": [
    "year_state = year_state.drop(year_state[year_state[\"1. YEAR\"]==1987].index) #remove baseline - removes straightlines in dataset\n",
    "year_state = year_state.dropna()"
   ]
  },
  {
   "cell_type": "code",
   "execution_count": null,
   "id": "underlying-punishment",
   "metadata": {},
   "outputs": [],
   "source": [
    "\n",
    "sns.scatterplot(y = \"Normalized Release\", x = \"Ideology score\", data = year_state)\n",
    "plt.ylim(0,2) # some outliers exist above"
   ]
  },
  {
   "cell_type": "code",
   "execution_count": null,
   "id": "forward-drama",
   "metadata": {},
   "outputs": [],
   "source": [
    "# Confirm with Pearson R:\n",
    "\n",
    "[r,p] = stats.pearsonr(year_state[\"Ideology score\"],year_state[\"Normalized Release\"])\n",
    "print(r)\n",
    "# huh I guess a significant, albeit low r "
   ]
  },
  {
   "cell_type": "code",
   "execution_count": null,
   "id": "confident-surname",
   "metadata": {},
   "outputs": [],
   "source": [
    "# Know, want to determine if there is any correlation between the yearly difference in release and ideology:\n",
    "# Lets start with plotting:\n",
    "sns.scatterplot(y = \"Difference in Release\", x = \"Difference in Ideology score\", data = year_state)\n",
    "plt.ylim(-2, 2)\n",
    "plt.xlabel(\"Change in Ideology Score\")\n",
    "plt.ylabel(\"Change in Normalized Emissions\")\n",
    "# Dont see any trend"
   ]
  },
  {
   "cell_type": "code",
   "execution_count": null,
   "id": "brutal-honor",
   "metadata": {},
   "outputs": [],
   "source": [
    "stats.pearsonr(year_state[\"Difference in Ideology score\"],year_state[\"Difference in Release\"])"
   ]
  },
  {
   "cell_type": "code",
   "execution_count": null,
   "id": "potential-scott",
   "metadata": {},
   "outputs": [],
   "source": [
    "sns.scatterplot(y = \"Normalized Release\", x = \"1. YEAR\", data = year_state)\n",
    "plt.ylim(0,2)\n",
    "plt.ylabel(\"Difference in Normalized Release\")"
   ]
  },
  {
   "cell_type": "code",
   "execution_count": null,
   "id": "informed-politics",
   "metadata": {},
   "outputs": [],
   "source": []
  },
  {
   "cell_type": "code",
   "execution_count": null,
   "id": "exact-respect",
   "metadata": {},
   "outputs": [],
   "source": [
    "year_state[year_state[\"1. YEAR\"]==1987][\"8. ST\"]"
   ]
  },
  {
   "cell_type": "code",
   "execution_count": null,
   "id": "anticipated-syndrome",
   "metadata": {},
   "outputs": [],
   "source": [
    "## Think I am done, would have liked to do something with plant data or specific chemical data, but this has been a lot"
   ]
  },
  {
   "cell_type": "code",
   "execution_count": null,
   "id": "central-consequence",
   "metadata": {},
   "outputs": [],
   "source": []
  }
 ],
 "metadata": {
  "kernelspec": {
   "display_name": "Python 3",
   "language": "python",
   "name": "python3"
  },
  "language_info": {
   "codemirror_mode": {
    "name": "ipython",
    "version": 3
   },
   "file_extension": ".py",
   "mimetype": "text/x-python",
   "name": "python",
   "nbconvert_exporter": "python",
   "pygments_lexer": "ipython3",
   "version": "3.7.2"
  }
 },
 "nbformat": 4,
 "nbformat_minor": 5
}
