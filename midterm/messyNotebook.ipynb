{
 "cells": [
  {
   "cell_type": "markdown",
   "id": "trying-communications",
   "metadata": {},
   "source": [
    "# Midterm Project Background Work\n",
    "*Matthew Ueckermann*\n"
   ]
  },
  {
   "cell_type": "markdown",
   "id": "terminal-peeing",
   "metadata": {},
   "source": [
    "## Importing the data\n",
    "\n",
    "Can import one year as:"
   ]
  },
  {
   "cell_type": "code",
   "execution_count": 2,
   "id": "engaged-fluid",
   "metadata": {},
   "outputs": [
    {
     "name": "stdout",
     "output_type": "stream",
     "text": [
      "done\n"
     ]
    }
   ],
   "source": [
    "import pandas as pd\n",
    "import time\n",
    "\n",
    "df_2019 = pd.read_csv('https://enviro.epa.gov/enviro/efservice/MV_TRI_BASIC_DOWNLOAD/year/=/2019/fname/TRI_2019_US.csv/CSV',low_memory=False)\n",
    "# to scrape later, do in for loop. Add time delay for politenes\n",
    "\n",
    "print(\"done\")"
   ]
  },
  {
   "cell_type": "code",
   "execution_count": 3,
   "id": "monthly-immune",
   "metadata": {},
   "outputs": [
    {
     "data": {
      "text/html": [
       "<div>\n",
       "<style scoped>\n",
       "    .dataframe tbody tr th:only-of-type {\n",
       "        vertical-align: middle;\n",
       "    }\n",
       "\n",
       "    .dataframe tbody tr th {\n",
       "        vertical-align: top;\n",
       "    }\n",
       "\n",
       "    .dataframe thead th {\n",
       "        text-align: right;\n",
       "    }\n",
       "</style>\n",
       "<table border=\"1\" class=\"dataframe\">\n",
       "  <thead>\n",
       "    <tr style=\"text-align: right;\">\n",
       "      <th></th>\n",
       "      <th>1. YEAR</th>\n",
       "      <th>2. TRIFD</th>\n",
       "      <th>3. FRS ID</th>\n",
       "      <th>4. FACILITY NAME</th>\n",
       "      <th>5. STREET ADDRESS</th>\n",
       "      <th>6. CITY</th>\n",
       "      <th>7. COUNTY</th>\n",
       "      <th>8. ST</th>\n",
       "      <th>9. ZIP</th>\n",
       "      <th>10. BIA</th>\n",
       "      <th>...</th>\n",
       "      <th>108. 8.3 - ENERGY RECOVER OF</th>\n",
       "      <th>109. 8.4 - RECYCLING ON SITE</th>\n",
       "      <th>110. 8.5 - RECYCLING OFF SIT</th>\n",
       "      <th>111. 8.6 - TREATMENT ON SITE</th>\n",
       "      <th>112. 8.7 - TREATMENT OFF SITE</th>\n",
       "      <th>113. PRODUCTION WSTE (8.1-8.7)</th>\n",
       "      <th>114. 8.8 - ONE-TIME RELEASE</th>\n",
       "      <th>115. PROD_RATIO_OR_ ACTIVITY</th>\n",
       "      <th>116. 8.9 - PRODUCTION RATIO</th>\n",
       "      <th>Unnamed: 116</th>\n",
       "    </tr>\n",
       "  </thead>\n",
       "  <tbody>\n",
       "    <tr>\n",
       "      <th>0</th>\n",
       "      <td>2019</td>\n",
       "      <td>77015FRMNT2239H</td>\n",
       "      <td>110000460965</td>\n",
       "      <td>GB BIOSCIENCES LLC</td>\n",
       "      <td>2239 HADEN RD</td>\n",
       "      <td>HOUSTON</td>\n",
       "      <td>HARRIS</td>\n",
       "      <td>TX</td>\n",
       "      <td>77015</td>\n",
       "      <td>NaN</td>\n",
       "      <td>...</td>\n",
       "      <td>0.0</td>\n",
       "      <td>0.0</td>\n",
       "      <td>0.0</td>\n",
       "      <td>11.0</td>\n",
       "      <td>0.0</td>\n",
       "      <td>214.10</td>\n",
       "      <td>NaN</td>\n",
       "      <td>PRODUCTION</td>\n",
       "      <td>0.00</td>\n",
       "      <td>NaN</td>\n",
       "    </tr>\n",
       "    <tr>\n",
       "      <th>1</th>\n",
       "      <td>2019</td>\n",
       "      <td>2974WCMSTL6371C</td>\n",
       "      <td>110040511407</td>\n",
       "      <td>CM STEEL INC</td>\n",
       "      <td>6371 CAMPBELL ROAD</td>\n",
       "      <td>YORK</td>\n",
       "      <td>YORK</td>\n",
       "      <td>SC</td>\n",
       "      <td>29745</td>\n",
       "      <td>NaN</td>\n",
       "      <td>...</td>\n",
       "      <td>0.0</td>\n",
       "      <td>0.0</td>\n",
       "      <td>30200.0</td>\n",
       "      <td>0.0</td>\n",
       "      <td>0.0</td>\n",
       "      <td>30225.40</td>\n",
       "      <td>NaN</td>\n",
       "      <td>PRODUCTION</td>\n",
       "      <td>1.20</td>\n",
       "      <td>NaN</td>\n",
       "    </tr>\n",
       "    <tr>\n",
       "      <th>2</th>\n",
       "      <td>2019</td>\n",
       "      <td>77015FRMNT2239H</td>\n",
       "      <td>110000460965</td>\n",
       "      <td>GB BIOSCIENCES LLC</td>\n",
       "      <td>2239 HADEN RD</td>\n",
       "      <td>HOUSTON</td>\n",
       "      <td>HARRIS</td>\n",
       "      <td>TX</td>\n",
       "      <td>77015</td>\n",
       "      <td>NaN</td>\n",
       "      <td>...</td>\n",
       "      <td>0.0</td>\n",
       "      <td>0.0</td>\n",
       "      <td>0.0</td>\n",
       "      <td>0.0</td>\n",
       "      <td>0.0</td>\n",
       "      <td>13395.01</td>\n",
       "      <td>NaN</td>\n",
       "      <td>PRODUCTION</td>\n",
       "      <td>0.00</td>\n",
       "      <td>NaN</td>\n",
       "    </tr>\n",
       "    <tr>\n",
       "      <th>3</th>\n",
       "      <td>2019</td>\n",
       "      <td>5535WTCHTC1PREC</td>\n",
       "      <td>110031294882</td>\n",
       "      <td>TECH-ETCH INC</td>\n",
       "      <td>1 PRECISION DR</td>\n",
       "      <td>LITCHFIELD</td>\n",
       "      <td>MEEKER</td>\n",
       "      <td>MN</td>\n",
       "      <td>55355</td>\n",
       "      <td>NaN</td>\n",
       "      <td>...</td>\n",
       "      <td>0.0</td>\n",
       "      <td>0.0</td>\n",
       "      <td>0.0</td>\n",
       "      <td>0.0</td>\n",
       "      <td>0.0</td>\n",
       "      <td>0.00</td>\n",
       "      <td>NaN</td>\n",
       "      <td>NaN</td>\n",
       "      <td>NaN</td>\n",
       "      <td>NaN</td>\n",
       "    </tr>\n",
       "    <tr>\n",
       "      <th>4</th>\n",
       "      <td>2019</td>\n",
       "      <td>51031WLLSD11911</td>\n",
       "      <td>110000414034</td>\n",
       "      <td>WELLS ENTERPRISES INC SOUTH ICE CREAM PLANT</td>\n",
       "      <td>1191 18TH ST SW</td>\n",
       "      <td>LE MARS</td>\n",
       "      <td>PLYMOUTH</td>\n",
       "      <td>IA</td>\n",
       "      <td>51031</td>\n",
       "      <td>NaN</td>\n",
       "      <td>...</td>\n",
       "      <td>0.0</td>\n",
       "      <td>0.0</td>\n",
       "      <td>0.0</td>\n",
       "      <td>156541.0</td>\n",
       "      <td>0.0</td>\n",
       "      <td>156541.00</td>\n",
       "      <td>NaN</td>\n",
       "      <td>PRODUCTION</td>\n",
       "      <td>0.97</td>\n",
       "      <td>NaN</td>\n",
       "    </tr>\n",
       "  </tbody>\n",
       "</table>\n",
       "<p>5 rows × 117 columns</p>\n",
       "</div>"
      ],
      "text/plain": [
       "   1. YEAR         2. TRIFD     3. FRS ID  \\\n",
       "0     2019  77015FRMNT2239H  110000460965   \n",
       "1     2019  2974WCMSTL6371C  110040511407   \n",
       "2     2019  77015FRMNT2239H  110000460965   \n",
       "3     2019  5535WTCHTC1PREC  110031294882   \n",
       "4     2019  51031WLLSD11911  110000414034   \n",
       "\n",
       "                              4. FACILITY NAME   5. STREET ADDRESS  \\\n",
       "0                           GB BIOSCIENCES LLC       2239 HADEN RD   \n",
       "1                                 CM STEEL INC  6371 CAMPBELL ROAD   \n",
       "2                           GB BIOSCIENCES LLC       2239 HADEN RD   \n",
       "3                                TECH-ETCH INC      1 PRECISION DR   \n",
       "4  WELLS ENTERPRISES INC SOUTH ICE CREAM PLANT     1191 18TH ST SW   \n",
       "\n",
       "      6. CITY 7. COUNTY 8. ST  9. ZIP  10. BIA  ...  \\\n",
       "0     HOUSTON    HARRIS    TX   77015      NaN  ...   \n",
       "1        YORK      YORK    SC   29745      NaN  ...   \n",
       "2     HOUSTON    HARRIS    TX   77015      NaN  ...   \n",
       "3  LITCHFIELD    MEEKER    MN   55355      NaN  ...   \n",
       "4     LE MARS  PLYMOUTH    IA   51031      NaN  ...   \n",
       "\n",
       "  108. 8.3 - ENERGY RECOVER OF  109. 8.4 - RECYCLING ON SITE  \\\n",
       "0                          0.0                           0.0   \n",
       "1                          0.0                           0.0   \n",
       "2                          0.0                           0.0   \n",
       "3                          0.0                           0.0   \n",
       "4                          0.0                           0.0   \n",
       "\n",
       "   110. 8.5 - RECYCLING OFF SIT 111. 8.6 - TREATMENT ON SITE  \\\n",
       "0                           0.0                         11.0   \n",
       "1                       30200.0                          0.0   \n",
       "2                           0.0                          0.0   \n",
       "3                           0.0                          0.0   \n",
       "4                           0.0                     156541.0   \n",
       "\n",
       "  112. 8.7 - TREATMENT OFF SITE 113. PRODUCTION WSTE (8.1-8.7)  \\\n",
       "0                           0.0                         214.10   \n",
       "1                           0.0                       30225.40   \n",
       "2                           0.0                       13395.01   \n",
       "3                           0.0                           0.00   \n",
       "4                           0.0                      156541.00   \n",
       "\n",
       "  114. 8.8 - ONE-TIME RELEASE 115. PROD_RATIO_OR_ ACTIVITY  \\\n",
       "0                         NaN                   PRODUCTION   \n",
       "1                         NaN                   PRODUCTION   \n",
       "2                         NaN                   PRODUCTION   \n",
       "3                         NaN                          NaN   \n",
       "4                         NaN                   PRODUCTION   \n",
       "\n",
       "   116. 8.9 - PRODUCTION RATIO Unnamed: 116  \n",
       "0                         0.00          NaN  \n",
       "1                         1.20          NaN  \n",
       "2                         0.00          NaN  \n",
       "3                          NaN          NaN  \n",
       "4                         0.97          NaN  \n",
       "\n",
       "[5 rows x 117 columns]"
      ]
     },
     "execution_count": 3,
     "metadata": {},
     "output_type": "execute_result"
    }
   ],
   "source": [
    "df_2019.head()"
   ]
  },
  {
   "cell_type": "code",
   "execution_count": 4,
   "id": "medieval-integration",
   "metadata": {},
   "outputs": [],
   "source": [
    "# Want to select/keep only the data that we care about:\n",
    "#df_2019_trimmed = df_2019[[\"1. YEAR\",\"2. TRIFD\",\"8. ST\",\"15. PARENT CO NAME\",\"20. INDUSTRY SECTOR\",\"34. CHEMICAL\",\"38. CLEAN AIR ACT CHEMICAL\",\"39. CLASSIFICATION\",\"40. METAL\",\"42. CARCINOGEN\",\"45. 5.1 - FUGITIVE AIR\",\"46. 5.2 - STACK AIR\",\"47. 5.3 - WATER\",\"51. 5.5.1 - LANDFILLS\",\"59. ON-SITE RELEASE TOTAL\",\"82. OFF-SITE RELEASE TOTAL\",\"88. OFF-SITE RECYCLED TOTAL\",\"101. TOTAL RELEASES\",\"113. PRODUCTION WSTE (8.1-8.7)\",\"114. 8.8 - ONE-TIME RELEASE\",\"115. PROD_RATIO_OR_ ACTIVITY\",\"116. 8.9 - PRODUCTION RATIO\"]]\n",
    "\n",
    "df_2019_trimmed = df_2019[[\"1. YEAR\",\"2. TRIFD\",\"8. ST\",\"15. PARENT CO NAME\",\"20. INDUSTRY SECTOR\",\"34. CHEMICAL\",\"39. CLASSIFICATION\",\"42. CARCINOGEN\",\"45. 5.1 - FUGITIVE AIR\",\"59. ON-SITE RELEASE TOTAL\",\"82. OFF-SITE RELEASE TOTAL\",\"101. TOTAL RELEASES\",\"116. 8.9 - PRODUCTION RATIO\"]]\n",
    "# this probably covers more than I'll actually use, but I think the rest of the columns are too much for me....\n",
    "\n",
    "del df_2019"
   ]
  },
  {
   "cell_type": "code",
   "execution_count": 5,
   "id": "suspended-carrier",
   "metadata": {},
   "outputs": [
    {
     "data": {
      "text/html": [
       "<div>\n",
       "<style scoped>\n",
       "    .dataframe tbody tr th:only-of-type {\n",
       "        vertical-align: middle;\n",
       "    }\n",
       "\n",
       "    .dataframe tbody tr th {\n",
       "        vertical-align: top;\n",
       "    }\n",
       "\n",
       "    .dataframe thead th {\n",
       "        text-align: right;\n",
       "    }\n",
       "</style>\n",
       "<table border=\"1\" class=\"dataframe\">\n",
       "  <thead>\n",
       "    <tr style=\"text-align: right;\">\n",
       "      <th></th>\n",
       "      <th>1. YEAR</th>\n",
       "      <th>2. TRIFD</th>\n",
       "      <th>8. ST</th>\n",
       "      <th>15. PARENT CO NAME</th>\n",
       "      <th>20. INDUSTRY SECTOR</th>\n",
       "      <th>34. CHEMICAL</th>\n",
       "      <th>39. CLASSIFICATION</th>\n",
       "      <th>42. CARCINOGEN</th>\n",
       "      <th>45. 5.1 - FUGITIVE AIR</th>\n",
       "      <th>59. ON-SITE RELEASE TOTAL</th>\n",
       "      <th>82. OFF-SITE RELEASE TOTAL</th>\n",
       "      <th>101. TOTAL RELEASES</th>\n",
       "      <th>116. 8.9 - PRODUCTION RATIO</th>\n",
       "    </tr>\n",
       "  </thead>\n",
       "  <tbody>\n",
       "    <tr>\n",
       "      <th>0</th>\n",
       "      <td>2019</td>\n",
       "      <td>77015FRMNT2239H</td>\n",
       "      <td>TX</td>\n",
       "      <td>SYNGENTA CORP</td>\n",
       "      <td>Chemicals</td>\n",
       "      <td>Hydrogen cyanide</td>\n",
       "      <td>TRI</td>\n",
       "      <td>NO</td>\n",
       "      <td>0.0</td>\n",
       "      <td>0.00</td>\n",
       "      <td>203.10</td>\n",
       "      <td>203.10</td>\n",
       "      <td>0.00</td>\n",
       "    </tr>\n",
       "    <tr>\n",
       "      <th>1</th>\n",
       "      <td>2019</td>\n",
       "      <td>2974WCMSTL6371C</td>\n",
       "      <td>SC</td>\n",
       "      <td>NaN</td>\n",
       "      <td>Fabricated Metals</td>\n",
       "      <td>Nickel</td>\n",
       "      <td>TRI</td>\n",
       "      <td>YES</td>\n",
       "      <td>25.4</td>\n",
       "      <td>25.40</td>\n",
       "      <td>0.00</td>\n",
       "      <td>25.40</td>\n",
       "      <td>1.20</td>\n",
       "    </tr>\n",
       "    <tr>\n",
       "      <th>2</th>\n",
       "      <td>2019</td>\n",
       "      <td>77015FRMNT2239H</td>\n",
       "      <td>TX</td>\n",
       "      <td>SYNGENTA CORP</td>\n",
       "      <td>Chemicals</td>\n",
       "      <td>Vanadium compounds</td>\n",
       "      <td>TRI</td>\n",
       "      <td>NO</td>\n",
       "      <td>1.0</td>\n",
       "      <td>264.57</td>\n",
       "      <td>13130.44</td>\n",
       "      <td>13395.01</td>\n",
       "      <td>0.00</td>\n",
       "    </tr>\n",
       "    <tr>\n",
       "      <th>3</th>\n",
       "      <td>2019</td>\n",
       "      <td>5535WTCHTC1PREC</td>\n",
       "      <td>MN</td>\n",
       "      <td>TECH ETCH INC</td>\n",
       "      <td>Fabricated Metals</td>\n",
       "      <td>Chlorine</td>\n",
       "      <td>TRI</td>\n",
       "      <td>NO</td>\n",
       "      <td>0.0</td>\n",
       "      <td>0.00</td>\n",
       "      <td>0.00</td>\n",
       "      <td>0.00</td>\n",
       "      <td>NaN</td>\n",
       "    </tr>\n",
       "    <tr>\n",
       "      <th>4</th>\n",
       "      <td>2019</td>\n",
       "      <td>51031WLLSD11911</td>\n",
       "      <td>IA</td>\n",
       "      <td>WELLS ENTERPRISES INC</td>\n",
       "      <td>Food</td>\n",
       "      <td>Nitric acid</td>\n",
       "      <td>TRI</td>\n",
       "      <td>NO</td>\n",
       "      <td>0.0</td>\n",
       "      <td>0.00</td>\n",
       "      <td>0.00</td>\n",
       "      <td>0.00</td>\n",
       "      <td>0.97</td>\n",
       "    </tr>\n",
       "  </tbody>\n",
       "</table>\n",
       "</div>"
      ],
      "text/plain": [
       "   1. YEAR         2. TRIFD 8. ST     15. PARENT CO NAME 20. INDUSTRY SECTOR  \\\n",
       "0     2019  77015FRMNT2239H    TX          SYNGENTA CORP           Chemicals   \n",
       "1     2019  2974WCMSTL6371C    SC                    NaN   Fabricated Metals   \n",
       "2     2019  77015FRMNT2239H    TX          SYNGENTA CORP           Chemicals   \n",
       "3     2019  5535WTCHTC1PREC    MN          TECH ETCH INC   Fabricated Metals   \n",
       "4     2019  51031WLLSD11911    IA  WELLS ENTERPRISES INC                Food   \n",
       "\n",
       "         34. CHEMICAL 39. CLASSIFICATION 42. CARCINOGEN  \\\n",
       "0    Hydrogen cyanide                TRI             NO   \n",
       "1              Nickel                TRI            YES   \n",
       "2  Vanadium compounds                TRI             NO   \n",
       "3            Chlorine                TRI             NO   \n",
       "4         Nitric acid                TRI             NO   \n",
       "\n",
       "   45. 5.1 - FUGITIVE AIR  59. ON-SITE RELEASE TOTAL  \\\n",
       "0                     0.0                       0.00   \n",
       "1                    25.4                      25.40   \n",
       "2                     1.0                     264.57   \n",
       "3                     0.0                       0.00   \n",
       "4                     0.0                       0.00   \n",
       "\n",
       "   82. OFF-SITE RELEASE TOTAL  101. TOTAL RELEASES  \\\n",
       "0                      203.10               203.10   \n",
       "1                        0.00                25.40   \n",
       "2                    13130.44             13395.01   \n",
       "3                        0.00                 0.00   \n",
       "4                        0.00                 0.00   \n",
       "\n",
       "   116. 8.9 - PRODUCTION RATIO  \n",
       "0                         0.00  \n",
       "1                         1.20  \n",
       "2                         0.00  \n",
       "3                          NaN  \n",
       "4                         0.97  "
      ]
     },
     "execution_count": 5,
     "metadata": {},
     "output_type": "execute_result"
    }
   ],
   "source": [
    "df_2019_trimmed.head()"
   ]
  },
  {
   "cell_type": "code",
   "execution_count": 6,
   "id": "tropical-permission",
   "metadata": {},
   "outputs": [],
   "source": [
    "## time to scrape!\n",
    "df = df_2019_trimmed\n",
    "\n",
    "for x in range(1987,2019):\n",
    "    address = 'https://enviro.epa.gov/enviro/efservice/MV_TRI_BASIC_DOWNLOAD/year/=/'+str(x)+'/fname/TRI_'+str(x)+'_US.csv/CSV'\n",
    "    df_new = pd.read_csv(address,low_memory=False)\n",
    "    \n",
    "    df_new_trimmed = df_new[[\"1. YEAR\",\"2. TRIFD\",\"8. ST\",\"15. PARENT CO NAME\",\"20. INDUSTRY SECTOR\",\"34. CHEMICAL\",\"39. CLASSIFICATION\",\"42. CARCINOGEN\",\"45. 5.1 - FUGITIVE AIR\",\"46. 5.2 - STACK AIR\",\"47. 5.3 - WATER\",\"59. ON-SITE RELEASE TOTAL\",\"82. OFF-SITE RELEASE TOTAL\",\"101. TOTAL RELEASES\",\"116. 8.9 - PRODUCTION RATIO\"]]\n",
    "\n",
    "    df = df.append(df_new_trimmed, ignore_index=True)\n",
    "    del df_new\n",
    "    time.sleep(2)"
   ]
  },
  {
   "cell_type": "code",
   "execution_count": 7,
   "id": "turned-association",
   "metadata": {},
   "outputs": [
    {
     "data": {
      "text/html": [
       "<div>\n",
       "<style scoped>\n",
       "    .dataframe tbody tr th:only-of-type {\n",
       "        vertical-align: middle;\n",
       "    }\n",
       "\n",
       "    .dataframe tbody tr th {\n",
       "        vertical-align: top;\n",
       "    }\n",
       "\n",
       "    .dataframe thead th {\n",
       "        text-align: right;\n",
       "    }\n",
       "</style>\n",
       "<table border=\"1\" class=\"dataframe\">\n",
       "  <thead>\n",
       "    <tr style=\"text-align: right;\">\n",
       "      <th></th>\n",
       "      <th>1. YEAR</th>\n",
       "      <th>2. TRIFD</th>\n",
       "      <th>8. ST</th>\n",
       "      <th>15. PARENT CO NAME</th>\n",
       "      <th>20. INDUSTRY SECTOR</th>\n",
       "      <th>34. CHEMICAL</th>\n",
       "      <th>39. CLASSIFICATION</th>\n",
       "      <th>42. CARCINOGEN</th>\n",
       "      <th>45. 5.1 - FUGITIVE AIR</th>\n",
       "      <th>59. ON-SITE RELEASE TOTAL</th>\n",
       "      <th>82. OFF-SITE RELEASE TOTAL</th>\n",
       "      <th>101. TOTAL RELEASES</th>\n",
       "      <th>116. 8.9 - PRODUCTION RATIO</th>\n",
       "      <th>46. 5.2 - STACK AIR</th>\n",
       "      <th>47. 5.3 - WATER</th>\n",
       "    </tr>\n",
       "  </thead>\n",
       "  <tbody>\n",
       "    <tr>\n",
       "      <th>2820093</th>\n",
       "      <td>2018</td>\n",
       "      <td>37066STVGL1499S</td>\n",
       "      <td>TN</td>\n",
       "      <td>US TENNESSEE VALLEY AUTHORITY</td>\n",
       "      <td>Electric Utilities</td>\n",
       "      <td>Copper compounds</td>\n",
       "      <td>TRI</td>\n",
       "      <td>NO</td>\n",
       "      <td>2.0</td>\n",
       "      <td>54143.0</td>\n",
       "      <td>0.0</td>\n",
       "      <td>54143.0</td>\n",
       "      <td>0.98</td>\n",
       "      <td>140.0</td>\n",
       "      <td>2900.0</td>\n",
       "    </tr>\n",
       "  </tbody>\n",
       "</table>\n",
       "</div>"
      ],
      "text/plain": [
       "         1. YEAR         2. TRIFD 8. ST             15. PARENT CO NAME  \\\n",
       "2820093     2018  37066STVGL1499S    TN  US TENNESSEE VALLEY AUTHORITY   \n",
       "\n",
       "        20. INDUSTRY SECTOR      34. CHEMICAL 39. CLASSIFICATION  \\\n",
       "2820093  Electric Utilities  Copper compounds                TRI   \n",
       "\n",
       "        42. CARCINOGEN  45. 5.1 - FUGITIVE AIR  59. ON-SITE RELEASE TOTAL  \\\n",
       "2820093             NO                     2.0                    54143.0   \n",
       "\n",
       "         82. OFF-SITE RELEASE TOTAL  101. TOTAL RELEASES  \\\n",
       "2820093                         0.0              54143.0   \n",
       "\n",
       "         116. 8.9 - PRODUCTION RATIO  46. 5.2 - STACK AIR  47. 5.3 - WATER  \n",
       "2820093                         0.98                140.0           2900.0  "
      ]
     },
     "execution_count": 7,
     "metadata": {},
     "output_type": "execute_result"
    }
   ],
   "source": [
    "df.tail(1) # seems like we have everything imported/scraped..."
   ]
  },
  {
   "cell_type": "markdown",
   "id": "promising-penalty",
   "metadata": {},
   "source": [
    "## Lets start understanding the data that we have\n",
    "\n",
    "Want to see general structure of the TRI, see if anything interesting pops up"
   ]
  },
  {
   "cell_type": "code",
   "execution_count": 8,
   "id": "annoying-litigation",
   "metadata": {},
   "outputs": [
    {
     "data": {
      "text/plain": [
       "Toluene                                                   100742\n",
       "Zinc compounds                                             97595\n",
       "Lead                                                       96018\n",
       "Xylene (mixed isomers)                                     94743\n",
       "Ammonia                                                    89116\n",
       "                                                           ...  \n",
       "Diazomethane                                                   1\n",
       "alpha-Hexachlorocyclohexane                                    1\n",
       "C.I. Direct Brown 95                                           1\n",
       "1,2-Dichloro-1,1,3,3,3-pentafluoropropane (HCFC-225da)         1\n",
       "2,4-D chlorocrotyl ester                                       1\n",
       "Name: 34. CHEMICAL, Length: 630, dtype: int64"
      ]
     },
     "execution_count": 8,
     "metadata": {},
     "output_type": "execute_result"
    }
   ],
   "source": [
    "df[\"34. CHEMICAL\"].value_counts()"
   ]
  },
  {
   "cell_type": "code",
   "execution_count": 9,
   "id": "individual-extent",
   "metadata": {},
   "outputs": [
    {
     "data": {
      "text/plain": [
       "KOCH INDUSTRIES INC          29057\n",
       "MARATHON PETROLEUM CORP      22320\n",
       "BERKSHIRE HATHAWAY INC       21509\n",
       "CLEAN HARBORS INC            21062\n",
       "EXXON MOBIL CORP             17558\n",
       "                             ...  \n",
       "STATE OF INDIANA                 1\n",
       "ICICLE SEAFOODS INC.             1\n",
       "NFA CORP                         1\n",
       "INLAND METALS REFINING CO        1\n",
       "PSS WORLD MEDICAL INC            1\n",
       "Name: 15. PARENT CO NAME, Length: 13779, dtype: int64"
      ]
     },
     "execution_count": 9,
     "metadata": {},
     "output_type": "execute_result"
    }
   ],
   "source": [
    "df[\"15. PARENT CO NAME\"].value_counts()"
   ]
  },
  {
   "cell_type": "code",
   "execution_count": 10,
   "id": "final-mouse",
   "metadata": {},
   "outputs": [
    {
     "data": {
      "text/plain": [
       "TX    252763\n",
       "OH    195849\n",
       "CA    156309\n",
       "IL    151368\n",
       "PA    147183\n",
       "IN    121460\n",
       "MI    115954\n",
       "WI     96368\n",
       "NC     90790\n",
       "LA     86373\n",
       "GA     83156\n",
       "NY     81838\n",
       "TN     75586\n",
       "AL     71531\n",
       "MO     69280\n",
       "NJ     68791\n",
       "SC     67456\n",
       "KY     63910\n",
       "FL     59112\n",
       "VA     54112\n",
       "MN     51301\n",
       "IA     51067\n",
       "MA     50721\n",
       "AR     47264\n",
       "MS     38862\n",
       "OK     38765\n",
       "KS     37435\n",
       "WA     37000\n",
       "CT     34510\n",
       "OR     29402\n",
       "WV     29129\n",
       "AZ     27060\n",
       "UT     24432\n",
       "MD     23214\n",
       "CO     23080\n",
       "NE     22636\n",
       "PR     16272\n",
       "NV     12893\n",
       "ME     12861\n",
       "RI     12348\n",
       "NH     12165\n",
       "ID      9828\n",
       "NM      9358\n",
       "DE      9244\n",
       "MT      8752\n",
       "WY      8263\n",
       "ND      7952\n",
       "SD      7687\n",
       "AK      5258\n",
       "HI      5047\n",
       "VT      3642\n",
       "VI      1495\n",
       "GU       846\n",
       "MP       618\n",
       "DC       403\n",
       "AS        95\n",
       "Name: 8. ST, dtype: int64"
      ]
     },
     "execution_count": 10,
     "metadata": {},
     "output_type": "execute_result"
    }
   ],
   "source": [
    "df[\"8. ST\"].value_counts()"
   ]
  },
  {
   "cell_type": "code",
   "execution_count": 11,
   "id": "individual-roman",
   "metadata": {},
   "outputs": [
    {
     "data": {
      "text/plain": [
       "90749RCPRD1801E    4018\n",
       "43920VNRLL1250S    3932\n",
       "71730NVRNM309AM    3879\n",
       "77643WSTMNHWY73    3715\n",
       "77541THDWCBUILD    3577\n",
       "                   ... \n",
       "62526RFLTS1550M       1\n",
       "91720CNNRF1451R       1\n",
       "8535WCLPRT64SEL       1\n",
       "80538LLMRC999NV       1\n",
       "3011WGLXFL21HIC       1\n",
       "Name: 2. TRIFD, Length: 61113, dtype: int64"
      ]
     },
     "execution_count": 11,
     "metadata": {},
     "output_type": "execute_result"
    }
   ],
   "source": [
    "df[\"2. TRIFD\"].value_counts()"
   ]
  },
  {
   "cell_type": "code",
   "execution_count": 12,
   "id": "executed-velvet",
   "metadata": {},
   "outputs": [
    {
     "data": {
      "text/plain": [
       "34. CHEMICAL                                    1. YEAR\n",
       "1,1,1,2-Tetrachloro-2-fluoroethane (HCFC-121a)  1997       19701.00\n",
       "                                                1998       23276.00\n",
       "                                                2000       27200.00\n",
       "                                                2005           0.00\n",
       "                                                2006           8.23\n",
       "                                                             ...   \n",
       "trans-1,4-Dichloro-2-butene                     2015           1.84\n",
       "                                                2016          16.54\n",
       "                                                2017          52.00\n",
       "                                                2018          23.00\n",
       "                                                2019           9.00\n",
       "Name: 101. TOTAL RELEASES, Length: 14949, dtype: float64"
      ]
     },
     "execution_count": 12,
     "metadata": {},
     "output_type": "execute_result"
    }
   ],
   "source": [
    "# Group by values more interesting though...\n",
    "df.groupby([\"34. CHEMICAL\",\"1. YEAR\"])[\"101. TOTAL RELEASES\"].sum()"
   ]
  },
  {
   "cell_type": "markdown",
   "id": "dutch-referral",
   "metadata": {},
   "source": [
    "### Some very general trends"
   ]
  },
  {
   "cell_type": "code",
   "execution_count": 13,
   "id": "juvenile-exhibition",
   "metadata": {},
   "outputs": [
    {
     "data": {
      "text/plain": [
       "<AxesSubplot:xlabel='1. YEAR'>"
      ]
     },
     "execution_count": 13,
     "metadata": {},
     "output_type": "execute_result"
    },
    {
     "data": {
      "image/png": "[encoded data removed]",
      "text/plain": [
       "<Figure size 432x288 with 1 Axes>"
      ]
     },
     "metadata": {
      "needs_background": "light"
     },
     "output_type": "display_data"
    }
   ],
   "source": [
    "# Lets just look at total chemical releases by year. See if there's anything there\n",
    "import seaborn as sns\n",
    "import matplotlib.pyplot as plt\n",
    "\n",
    "sumEmm_year = df.groupby([\"1. YEAR\"])[\"101. TOTAL RELEASES\"].sum()\n",
    "\n",
    "sumEmm_year.plot(kind='bar')\n",
    "#not super exciting, might be able to attribute first decrease to the creation of the TRI, but probs not more"
   ]
  },
  {
   "cell_type": "code",
   "execution_count": 14,
   "id": "square-ecuador",
   "metadata": {},
   "outputs": [
    {
     "data": {
      "text/plain": [
       "<AxesSubplot:xlabel='1. YEAR'>"
      ]
     },
     "execution_count": 14,
     "metadata": {},
     "output_type": "execute_result"
    },
    {
     "data": {
      "image/png": "[encoded data removed]",
      "text/plain": [
       "<Figure size 432x288 with 1 Axes>"
      ]
     },
     "metadata": {
      "needs_background": "light"
     },
     "output_type": "display_data"
    }
   ],
   "source": [
    "# Continue, but lets look at specific bad chemcials, starting with carcinogens\n",
    "\n",
    "sumCarcinogens_year = df[df[\"42. CARCINOGEN\"]==\"YES\"].groupby([\"1. YEAR\"])[\"101. TOTAL RELEASES\"].sum()\n",
    "sumCarcinogens_year.plot(kind='bar')"
   ]
  },
  {
   "cell_type": "code",
   "execution_count": 15,
   "id": "moving-construction",
   "metadata": {},
   "outputs": [
    {
     "data": {
      "text/plain": [
       "<AxesSubplot:xlabel='1. YEAR'>"
      ]
     },
     "execution_count": 15,
     "metadata": {},
     "output_type": "execute_result"
    },
    {
     "data": {
      "image/png": "[encoded data removed]",
      "text/plain": [
       "<Figure size 432x288 with 1 Axes>"
      ]
     },
     "metadata": {
      "needs_background": "light"
     },
     "output_type": "display_data"
    }
   ],
   "source": [
    "# Dioxins\n",
    "\n",
    "sumDiox_year = df[df[\"39. CLASSIFICATION\"]==\"Dioxin\"].groupby([\"1. YEAR\"])[\"101. TOTAL RELEASES\"].sum()\n",
    "sumDiox_year.plot(kind='bar')"
   ]
  },
  {
   "cell_type": "code",
   "execution_count": 16,
   "id": "restricted-sydney",
   "metadata": {},
   "outputs": [
    {
     "data": {
      "text/plain": [
       "<AxesSubplot:xlabel='1. YEAR'>"
      ]
     },
     "execution_count": 16,
     "metadata": {},
     "output_type": "execute_result"
    },
    {
     "data": {
      "image/png": "[encoded data removed]",
      "text/plain": [
       "<Figure size 432x288 with 1 Axes>"
      ]
     },
     "metadata": {
      "needs_background": "light"
     },
     "output_type": "display_data"
    }
   ],
   "source": [
    "# PBTs\n",
    "\n",
    "sumPBT_year = df[df[\"39. CLASSIFICATION\"]==\"PBT\"].groupby([\"1. YEAR\"])[\"101. TOTAL RELEASES\"].sum()\n",
    "sumPBT_year.plot(kind='bar')"
   ]
  },
  {
   "cell_type": "code",
   "execution_count": 17,
   "id": "divided-canada",
   "metadata": {},
   "outputs": [
    {
     "data": {
      "text/plain": [
       "<AxesSubplot:xlabel='1. YEAR'>"
      ]
     },
     "execution_count": 17,
     "metadata": {},
     "output_type": "execute_result"
    },
    {
     "data": {
      "image/png": "[encoded data removed]",
      "text/plain": [
       "<Figure size 432x288 with 1 Axes>"
      ]
     },
     "metadata": {
      "needs_background": "light"
     },
     "output_type": "display_data"
    }
   ],
   "source": [
    "# So obviously, PBT/dioxin usage not decreasing... Is this due to addition of new compounds, or just greater use?\n",
    "\n",
    "# Lets take some example PBTs\n",
    "\n",
    "# lead\n",
    "sumLead_year = df[df[\"34. CHEMICAL\"]==\"Lead\"].groupby([\"1. YEAR\"])[\"101. TOTAL RELEASES\"].sum()\n",
    "sumLead_year.plot(kind='bar')\n",
    "\n",
    "# looks like they added more industries in 199 time, a well as more PBTs.."
   ]
  },
  {
   "cell_type": "code",
   "execution_count": 18,
   "id": "daily-better",
   "metadata": {},
   "outputs": [
    {
     "data": {
      "text/plain": [
       "Chemicals                            702194\n",
       "Fabricated Metals                    301374\n",
       "Primary Metals                       231126\n",
       "Transportation Equipment             173953\n",
       "Petroleum                            157776\n",
       "Electric Utilities                   125001\n",
       "Food                                 119210\n",
       "Plastics and Rubber                  106415\n",
       "Machinery                            104414\n",
       "Nonmetallic Mineral Product          101383\n",
       "Paper                                 96064\n",
       "Petroleum Bulk Terminals              92945\n",
       "Computers and Electronic Products     82813\n",
       "Chemical Wholesalers                  61762\n",
       "Electrical Equipment                  57964\n",
       "Wood Products                         57774\n",
       "Hazardous Waste                       57367\n",
       "Other                                 40268\n",
       "Furniture                             38063\n",
       "Miscellaneous Manufacturing           35646\n",
       "Textiles                              17507\n",
       "Printing                              16180\n",
       "Metal Mining                          14688\n",
       "Beverages                              8501\n",
       "Leather                                6746\n",
       "Textile Product                        4880\n",
       "Coal Mining                            4505\n",
       "Tobacco                                1926\n",
       "Apparel                                1174\n",
       "Publishing                              475\n",
       "Name: 20. INDUSTRY SECTOR, dtype: int64"
      ]
     },
     "execution_count": 18,
     "metadata": {},
     "output_type": "execute_result"
    }
   ],
   "source": [
    "df[\"20. INDUSTRY SECTOR\"].value_counts()\n",
    "#  Wow this is a lot. Really only had chemicals/petroleum in my mind"
   ]
  },
  {
   "cell_type": "code",
   "execution_count": 19,
   "id": "second-oklahoma",
   "metadata": {},
   "outputs": [
    {
     "data": {
      "text/plain": [
       "<AxesSubplot:xlabel='20. INDUSTRY SECTOR'>"
      ]
     },
     "execution_count": 19,
     "metadata": {},
     "output_type": "execute_result"
    },
    {
     "data": {
      "image/png": "[encoded data removed]",
      "text/plain": [
       "<Figure size 432x288 with 1 Axes>"
      ]
     },
     "metadata": {
      "needs_background": "light"
     },
     "output_type": "display_data"
    }
   ],
   "source": [
    "#Lets look at the magnitude...\n",
    "sumChem_industry = df[df[\"1. YEAR\"]>2001].groupby([\"20. INDUSTRY SECTOR\"])[\"101. TOTAL RELEASES\"].sum()\n",
    "sumChem_industry.plot(kind=\"bar\")"
   ]
  },
  {
   "cell_type": "code",
   "execution_count": 20,
   "id": "related-eugene",
   "metadata": {},
   "outputs": [
    {
     "data": {
      "image/png": "[encoded data removed]",
      "text/plain": [
       "<Figure size 432x288 with 1 Axes>"
      ]
     },
     "metadata": {
      "needs_background": "light"
     },
     "output_type": "display_data"
    }
   ],
   "source": [
    "sumChem_byIndustry_year = df.groupby([\"1. YEAR\",\"20. INDUSTRY SECTOR\"])[\"101. TOTAL RELEASES\"].sum()\n",
    "sumChem_byIndustry_year.unstack(level=1).plot.bar(stacked=True).legend(loc='center left',bbox_to_anchor=(1.0, 0.5));\n",
    "\n",
    "# Pretty chart, but think I will use to justify zeroing on jsut the chemicals industry..."
   ]
  },
  {
   "cell_type": "markdown",
   "id": "fixed-field",
   "metadata": {},
   "source": [
    "### Zeroing in on the Chemical Industry\n",
    "\n",
    "Seems like an interesting case study of the data. Also what I am personally the most interested in....\n",
    "\n"
   ]
  },
  {
   "cell_type": "code",
   "execution_count": 21,
   "id": "cardiac-bottom",
   "metadata": {},
   "outputs": [
    {
     "data": {
      "text/html": [
       "<div>\n",
       "<style scoped>\n",
       "    .dataframe tbody tr th:only-of-type {\n",
       "        vertical-align: middle;\n",
       "    }\n",
       "\n",
       "    .dataframe tbody tr th {\n",
       "        vertical-align: top;\n",
       "    }\n",
       "\n",
       "    .dataframe thead th {\n",
       "        text-align: right;\n",
       "    }\n",
       "</style>\n",
       "<table border=\"1\" class=\"dataframe\">\n",
       "  <thead>\n",
       "    <tr style=\"text-align: right;\">\n",
       "      <th></th>\n",
       "      <th>1. YEAR</th>\n",
       "      <th>2. TRIFD</th>\n",
       "      <th>8. ST</th>\n",
       "      <th>15. PARENT CO NAME</th>\n",
       "      <th>20. INDUSTRY SECTOR</th>\n",
       "      <th>34. CHEMICAL</th>\n",
       "      <th>39. CLASSIFICATION</th>\n",
       "      <th>42. CARCINOGEN</th>\n",
       "      <th>45. 5.1 - FUGITIVE AIR</th>\n",
       "      <th>59. ON-SITE RELEASE TOTAL</th>\n",
       "      <th>82. OFF-SITE RELEASE TOTAL</th>\n",
       "      <th>101. TOTAL RELEASES</th>\n",
       "      <th>116. 8.9 - PRODUCTION RATIO</th>\n",
       "      <th>46. 5.2 - STACK AIR</th>\n",
       "      <th>47. 5.3 - WATER</th>\n",
       "    </tr>\n",
       "  </thead>\n",
       "  <tbody>\n",
       "    <tr>\n",
       "      <th>0</th>\n",
       "      <td>2019</td>\n",
       "      <td>77015FRMNT2239H</td>\n",
       "      <td>TX</td>\n",
       "      <td>SYNGENTA CORP</td>\n",
       "      <td>Chemicals</td>\n",
       "      <td>Hydrogen cyanide</td>\n",
       "      <td>TRI</td>\n",
       "      <td>NO</td>\n",
       "      <td>0.00000</td>\n",
       "      <td>0.00000</td>\n",
       "      <td>203.100000</td>\n",
       "      <td>203.100000</td>\n",
       "      <td>0.00</td>\n",
       "      <td>NaN</td>\n",
       "      <td>NaN</td>\n",
       "    </tr>\n",
       "    <tr>\n",
       "      <th>2</th>\n",
       "      <td>2019</td>\n",
       "      <td>77015FRMNT2239H</td>\n",
       "      <td>TX</td>\n",
       "      <td>SYNGENTA CORP</td>\n",
       "      <td>Chemicals</td>\n",
       "      <td>Vanadium compounds</td>\n",
       "      <td>TRI</td>\n",
       "      <td>NO</td>\n",
       "      <td>1.00000</td>\n",
       "      <td>264.57000</td>\n",
       "      <td>13130.440000</td>\n",
       "      <td>13395.010000</td>\n",
       "      <td>0.00</td>\n",
       "      <td>NaN</td>\n",
       "      <td>NaN</td>\n",
       "    </tr>\n",
       "    <tr>\n",
       "      <th>5</th>\n",
       "      <td>2019</td>\n",
       "      <td>66542FLXLN6000S</td>\n",
       "      <td>KS</td>\n",
       "      <td>NaN</td>\n",
       "      <td>Chemicals</td>\n",
       "      <td>Toluene</td>\n",
       "      <td>TRI</td>\n",
       "      <td>NO</td>\n",
       "      <td>23519.00000</td>\n",
       "      <td>87107.00000</td>\n",
       "      <td>0.000000</td>\n",
       "      <td>87107.000000</td>\n",
       "      <td>0.95</td>\n",
       "      <td>NaN</td>\n",
       "      <td>NaN</td>\n",
       "    </tr>\n",
       "    <tr>\n",
       "      <th>7</th>\n",
       "      <td>2019</td>\n",
       "      <td>77015FRMNT2239H</td>\n",
       "      <td>TX</td>\n",
       "      <td>SYNGENTA CORP</td>\n",
       "      <td>Chemicals</td>\n",
       "      <td>Dioxin and dioxin-like compounds</td>\n",
       "      <td>Dioxin</td>\n",
       "      <td>YES</td>\n",
       "      <td>0.52882</td>\n",
       "      <td>5.41933</td>\n",
       "      <td>278.876856</td>\n",
       "      <td>284.296186</td>\n",
       "      <td>1.22</td>\n",
       "      <td>NaN</td>\n",
       "      <td>NaN</td>\n",
       "    </tr>\n",
       "    <tr>\n",
       "      <th>8</th>\n",
       "      <td>2019</td>\n",
       "      <td>77015FRMNT2239H</td>\n",
       "      <td>TX</td>\n",
       "      <td>SYNGENTA CORP</td>\n",
       "      <td>Chemicals</td>\n",
       "      <td>Hexachlorobenzene</td>\n",
       "      <td>PBT</td>\n",
       "      <td>YES</td>\n",
       "      <td>0.24000</td>\n",
       "      <td>322.24900</td>\n",
       "      <td>7222.748230</td>\n",
       "      <td>7544.997230</td>\n",
       "      <td>1.22</td>\n",
       "      <td>NaN</td>\n",
       "      <td>NaN</td>\n",
       "    </tr>\n",
       "    <tr>\n",
       "      <th>...</th>\n",
       "      <td>...</td>\n",
       "      <td>...</td>\n",
       "      <td>...</td>\n",
       "      <td>...</td>\n",
       "      <td>...</td>\n",
       "      <td>...</td>\n",
       "      <td>...</td>\n",
       "      <td>...</td>\n",
       "      <td>...</td>\n",
       "      <td>...</td>\n",
       "      <td>...</td>\n",
       "      <td>...</td>\n",
       "      <td>...</td>\n",
       "      <td>...</td>\n",
       "      <td>...</td>\n",
       "    </tr>\n",
       "    <tr>\n",
       "      <th>2820086</th>\n",
       "      <td>2018</td>\n",
       "      <td>77571LPRTC2400M</td>\n",
       "      <td>TX</td>\n",
       "      <td>OCCIDENTAL CHEMICAL HOLDING CORP</td>\n",
       "      <td>Chemicals</td>\n",
       "      <td>Chloroform</td>\n",
       "      <td>TRI</td>\n",
       "      <td>YES</td>\n",
       "      <td>731.00000</td>\n",
       "      <td>1350.10000</td>\n",
       "      <td>0.210000</td>\n",
       "      <td>1350.310000</td>\n",
       "      <td>0.99</td>\n",
       "      <td>615.0</td>\n",
       "      <td>4.1</td>\n",
       "    </tr>\n",
       "    <tr>\n",
       "      <th>2820087</th>\n",
       "      <td>2018</td>\n",
       "      <td>77571LPRTC2400M</td>\n",
       "      <td>TX</td>\n",
       "      <td>OCCIDENTAL CHEMICAL HOLDING CORP</td>\n",
       "      <td>Chemicals</td>\n",
       "      <td>Lead compounds</td>\n",
       "      <td>PBT</td>\n",
       "      <td>NO</td>\n",
       "      <td>0.00000</td>\n",
       "      <td>62.00000</td>\n",
       "      <td>0.070000</td>\n",
       "      <td>62.070000</td>\n",
       "      <td>1.02</td>\n",
       "      <td>9.0</td>\n",
       "      <td>53.0</td>\n",
       "    </tr>\n",
       "    <tr>\n",
       "      <th>2820088</th>\n",
       "      <td>2018</td>\n",
       "      <td>60554FNSHSWHEEL</td>\n",
       "      <td>IL</td>\n",
       "      <td>ENGINEERED CUSTOM COATINGS LLC</td>\n",
       "      <td>Chemicals</td>\n",
       "      <td>sec-Butyl alcohol</td>\n",
       "      <td>TRI</td>\n",
       "      <td>NO</td>\n",
       "      <td>673.00000</td>\n",
       "      <td>1346.00000</td>\n",
       "      <td>0.000000</td>\n",
       "      <td>1346.000000</td>\n",
       "      <td>0.08</td>\n",
       "      <td>673.0</td>\n",
       "      <td>0.0</td>\n",
       "    </tr>\n",
       "    <tr>\n",
       "      <th>2820089</th>\n",
       "      <td>2018</td>\n",
       "      <td>40361MLLNCHIGHW</td>\n",
       "      <td>KY</td>\n",
       "      <td>AVANTOR PERFORMANCE MATERIALS INC</td>\n",
       "      <td>Chemicals</td>\n",
       "      <td>Methyl isobutyl ketone</td>\n",
       "      <td>TRI</td>\n",
       "      <td>YES</td>\n",
       "      <td>0.00000</td>\n",
       "      <td>0.00000</td>\n",
       "      <td>0.000000</td>\n",
       "      <td>0.000000</td>\n",
       "      <td>2.19</td>\n",
       "      <td>0.0</td>\n",
       "      <td>0.0</td>\n",
       "    </tr>\n",
       "    <tr>\n",
       "      <th>2820090</th>\n",
       "      <td>2018</td>\n",
       "      <td>40361MLLNCHIGHW</td>\n",
       "      <td>KY</td>\n",
       "      <td>AVANTOR PERFORMANCE MATERIALS INC</td>\n",
       "      <td>Chemicals</td>\n",
       "      <td>Lead compounds</td>\n",
       "      <td>PBT</td>\n",
       "      <td>NO</td>\n",
       "      <td>0.00000</td>\n",
       "      <td>0.00000</td>\n",
       "      <td>0.000000</td>\n",
       "      <td>0.000000</td>\n",
       "      <td>18.49</td>\n",
       "      <td>0.0</td>\n",
       "      <td>0.0</td>\n",
       "    </tr>\n",
       "  </tbody>\n",
       "</table>\n",
       "<p>702194 rows × 15 columns</p>\n",
       "</div>"
      ],
      "text/plain": [
       "         1. YEAR         2. TRIFD 8. ST                 15. PARENT CO NAME  \\\n",
       "0           2019  77015FRMNT2239H    TX                      SYNGENTA CORP   \n",
       "2           2019  77015FRMNT2239H    TX                      SYNGENTA CORP   \n",
       "5           2019  66542FLXLN6000S    KS                                NaN   \n",
       "7           2019  77015FRMNT2239H    TX                      SYNGENTA CORP   \n",
       "8           2019  77015FRMNT2239H    TX                      SYNGENTA CORP   \n",
       "...          ...              ...   ...                                ...   \n",
       "2820086     2018  77571LPRTC2400M    TX   OCCIDENTAL CHEMICAL HOLDING CORP   \n",
       "2820087     2018  77571LPRTC2400M    TX   OCCIDENTAL CHEMICAL HOLDING CORP   \n",
       "2820088     2018  60554FNSHSWHEEL    IL     ENGINEERED CUSTOM COATINGS LLC   \n",
       "2820089     2018  40361MLLNCHIGHW    KY  AVANTOR PERFORMANCE MATERIALS INC   \n",
       "2820090     2018  40361MLLNCHIGHW    KY  AVANTOR PERFORMANCE MATERIALS INC   \n",
       "\n",
       "        20. INDUSTRY SECTOR                      34. CHEMICAL  \\\n",
       "0                 Chemicals                  Hydrogen cyanide   \n",
       "2                 Chemicals                Vanadium compounds   \n",
       "5                 Chemicals                           Toluene   \n",
       "7                 Chemicals  Dioxin and dioxin-like compounds   \n",
       "8                 Chemicals                 Hexachlorobenzene   \n",
       "...                     ...                               ...   \n",
       "2820086           Chemicals                        Chloroform   \n",
       "2820087           Chemicals                    Lead compounds   \n",
       "2820088           Chemicals                 sec-Butyl alcohol   \n",
       "2820089           Chemicals            Methyl isobutyl ketone   \n",
       "2820090           Chemicals                    Lead compounds   \n",
       "\n",
       "        39. CLASSIFICATION 42. CARCINOGEN  45. 5.1 - FUGITIVE AIR  \\\n",
       "0                      TRI             NO                 0.00000   \n",
       "2                      TRI             NO                 1.00000   \n",
       "5                      TRI             NO             23519.00000   \n",
       "7                   Dioxin            YES                 0.52882   \n",
       "8                      PBT            YES                 0.24000   \n",
       "...                    ...            ...                     ...   \n",
       "2820086                TRI            YES               731.00000   \n",
       "2820087                PBT             NO                 0.00000   \n",
       "2820088                TRI             NO               673.00000   \n",
       "2820089                TRI            YES                 0.00000   \n",
       "2820090                PBT             NO                 0.00000   \n",
       "\n",
       "         59. ON-SITE RELEASE TOTAL  82. OFF-SITE RELEASE TOTAL  \\\n",
       "0                          0.00000                  203.100000   \n",
       "2                        264.57000                13130.440000   \n",
       "5                      87107.00000                    0.000000   \n",
       "7                          5.41933                  278.876856   \n",
       "8                        322.24900                 7222.748230   \n",
       "...                            ...                         ...   \n",
       "2820086                 1350.10000                    0.210000   \n",
       "2820087                   62.00000                    0.070000   \n",
       "2820088                 1346.00000                    0.000000   \n",
       "2820089                    0.00000                    0.000000   \n",
       "2820090                    0.00000                    0.000000   \n",
       "\n",
       "         101. TOTAL RELEASES  116. 8.9 - PRODUCTION RATIO  \\\n",
       "0                 203.100000                         0.00   \n",
       "2               13395.010000                         0.00   \n",
       "5               87107.000000                         0.95   \n",
       "7                 284.296186                         1.22   \n",
       "8                7544.997230                         1.22   \n",
       "...                      ...                          ...   \n",
       "2820086          1350.310000                         0.99   \n",
       "2820087            62.070000                         1.02   \n",
       "2820088          1346.000000                         0.08   \n",
       "2820089             0.000000                         2.19   \n",
       "2820090             0.000000                        18.49   \n",
       "\n",
       "         46. 5.2 - STACK AIR  47. 5.3 - WATER  \n",
       "0                        NaN              NaN  \n",
       "2                        NaN              NaN  \n",
       "5                        NaN              NaN  \n",
       "7                        NaN              NaN  \n",
       "8                        NaN              NaN  \n",
       "...                      ...              ...  \n",
       "2820086                615.0              4.1  \n",
       "2820087                  9.0             53.0  \n",
       "2820088                673.0              0.0  \n",
       "2820089                  0.0              0.0  \n",
       "2820090                  0.0              0.0  \n",
       "\n",
       "[702194 rows x 15 columns]"
      ]
     },
     "execution_count": 21,
     "metadata": {},
     "output_type": "execute_result"
    }
   ],
   "source": [
    "df_chemical = df[df[\"20. INDUSTRY SECTOR\"]==\"Chemicals\"]\n",
    "df_chemical"
   ]
  },
  {
   "cell_type": "code",
   "execution_count": 22,
   "id": "fixed-wilderness",
   "metadata": {},
   "outputs": [],
   "source": [
    "JM_df = df_chemical[df_chemical[\"15. PARENT CO NAME\"]==\"JOHNSON MATTHEY INC\"] # my future employeer, might keep around if interested later..."
   ]
  },
  {
   "cell_type": "code",
   "execution_count": 23,
   "id": "intended-ladder",
   "metadata": {},
   "outputs": [
    {
     "data": {
      "text/plain": [
       "<AxesSubplot:xlabel='1. YEAR'>"
      ]
     },
     "execution_count": 23,
     "metadata": {},
     "output_type": "execute_result"
    },
    {
     "data": {
      "image/png": "[encoded data removed]",
      "text/plain": [
       "<Figure size 432x288 with 1 Axes>"
      ]
     },
     "metadata": {
      "needs_background": "light"
     },
     "output_type": "display_data"
    }
   ],
   "source": [
    "# All chemicals\n",
    "df_chemical.groupby([\"1. YEAR\"])[\"101. TOTAL RELEASES\"].sum().plot(kind='bar') # hey you can do this in one line\n",
    "### OOOOh a nice decrease with the introduction of the TRI, no longer confounded with the introduction of other industries"
   ]
  },
  {
   "cell_type": "code",
   "execution_count": 24,
   "id": "sufficient-trance",
   "metadata": {},
   "outputs": [
    {
     "data": {
      "image/png": "[encoded data removed]",
      "text/plain": [
       "<Figure size 432x288 with 1 Axes>"
      ]
     },
     "metadata": {
      "needs_background": "light"
     },
     "output_type": "display_data"
    }
   ],
   "source": [
    "# Carinogens\n",
    "# start only looking at chemical...\n",
    "sumDioxChem_year = df_chemical[df_chemical[\"42. CARCINOGEN\"]==\"YES\"].groupby([\"1. YEAR\"])[\"101. TOTAL RELEASES\"].sum().plot(kind='bar') # Methodology change to more group contribution in 2008"
   ]
  },
  {
   "cell_type": "code",
   "execution_count": 25,
   "id": "korean-stanford",
   "metadata": {},
   "outputs": [
    {
     "data": {
      "image/png": "[encoded data removed]",
      "text/plain": [
       "<Figure size 432x288 with 1 Axes>"
      ]
     },
     "metadata": {
      "needs_background": "light"
     },
     "output_type": "display_data"
    }
   ],
   "source": [
    "# Dioxins\n",
    "sumDioxChem_year = df_chemical[df_chemical[\"39. CLASSIFICATION\"]==\"Dioxin\"].groupby([\"1. YEAR\"])[\"101. TOTAL RELEASES\"].sum().plot(kind='bar') # Methodology change to more group contribution in 2008\n",
    "# counfounded by normalizations - take into account"
   ]
  },
  {
   "cell_type": "code",
   "execution_count": 26,
   "id": "rubber-rescue",
   "metadata": {},
   "outputs": [
    {
     "data": {
      "image/png": "[encoded data removed]",
      "text/plain": [
       "<Figure size 432x288 with 1 Axes>"
      ]
     },
     "metadata": {
      "needs_background": "light"
     },
     "output_type": "display_data"
    }
   ],
   "source": [
    "# PBT\n",
    "sumDioxChem_year = df_chemical[df_chemical[\"39. CLASSIFICATION\"]==\"PBT\"].groupby([\"1. YEAR\"])[\"101. TOTAL RELEASES\"].sum().plot(kind='bar') # Methodology change to more group contribution in 2008\n",
    "# confounded by additions - take into account"
   ]
  },
  {
   "cell_type": "code",
   "execution_count": null,
   "id": "julian-survivor",
   "metadata": {},
   "outputs": [],
   "source": []
  },
  {
   "cell_type": "markdown",
   "id": "floating-speed",
   "metadata": {},
   "source": [
    "### Anaylsis ideas\n",
    "\n",
    "Glad I restricted to the chemical industry\n",
    " - Look into controlling for production increase\n",
    " - Start to look at specific sites/companies\n",
    "     - Case study notable chemicals (PFAS?)\n",
    " - Trends in emission types out of what we have\n",
    " - Start making own stats\n",
    "     - Yearly decrease in specific chemical emitted\n",
    "         - compare with production increase ratio\n",
    "     - Shift in chemicals compositions within plants\n",
    "  - Look at state trends\n"
   ]
  },
  {
   "cell_type": "markdown",
   "id": "healthy-stadium",
   "metadata": {},
   "source": [
    "## Do plants get better at controlling emissions?"
   ]
  },
  {
   "cell_type": "code",
   "execution_count": 41,
   "id": "digital-lunch",
   "metadata": {},
   "outputs": [
    {
     "data": {
      "text/plain": [
       "1. YEAR  2. TRIFD       \n",
       "1987     00613RSTNDROUTE          0.00\n",
       "         00617BBTTCROADN     305421.00\n",
       "         00617BRSTLSTATE     970700.00\n",
       "         00617MRCKSSTATE    1285340.00\n",
       "         00617PFZRPHIGHW     148450.00\n",
       "                               ...    \n",
       "2019     99337KRLYGROUTE       6558.45\n",
       "         99352DVNCD2101H      81715.00\n",
       "         9950WNRCLS298CM         10.00\n",
       "         9973WBRDMD2555S          0.10\n",
       "         9973WHLLBR285SP          2.30\n",
       "Name: 101. TOTAL RELEASES, Length: 133468, dtype: float64"
      ]
     },
     "execution_count": 41,
     "metadata": {},
     "output_type": "execute_result"
    }
   ],
   "source": [
    "year_location = df_chemical.groupby([\"1. YEAR\",\"2. TRIFD\"])[\"101. TOTAL RELEASES\"].sum()\n",
    "\n",
    "year_location\n",
    "\n",
    "#df_chemical.groupby([\"1. YEAR\",\"2. TRIFD\"])[\"116. 8.9 - PRODUCTION RATIO\"].sum()\n",
    "\n",
    "#df_chemical.groupby([\"2. TRIFD\"])[\"101. TOTAL RELEASES\"].count()"
   ]
  },
  {
   "cell_type": "markdown",
   "id": "reliable-pastor",
   "metadata": {},
   "source": [
    "### Emission Type\n",
    "\n"
   ]
  },
  {
   "cell_type": "code",
   "execution_count": 54,
   "id": "natural-assist",
   "metadata": {},
   "outputs": [],
   "source": [
    "fugAir = df_chemical.groupby([\"1. YEAR\"])[\"45. 5.1 - FUGITIVE AIR\"].sum()"
   ]
  },
  {
   "cell_type": "code",
   "execution_count": 55,
   "id": "martial-examination",
   "metadata": {},
   "outputs": [],
   "source": [
    "stackAir = df_chemical.groupby([\"1. YEAR\"])[\"46. 5.2 - STACK AIR\"].sum()"
   ]
  },
  {
   "cell_type": "code",
   "execution_count": 64,
   "id": "maritime-relevance",
   "metadata": {},
   "outputs": [
    {
     "data": {
      "text/html": [
       "<div>\n",
       "<style scoped>\n",
       "    .dataframe tbody tr th:only-of-type {\n",
       "        vertical-align: middle;\n",
       "    }\n",
       "\n",
       "    .dataframe tbody tr th {\n",
       "        vertical-align: top;\n",
       "    }\n",
       "\n",
       "    .dataframe thead th {\n",
       "        text-align: right;\n",
       "    }\n",
       "</style>\n",
       "<table border=\"1\" class=\"dataframe\">\n",
       "  <thead>\n",
       "    <tr style=\"text-align: right;\">\n",
       "      <th></th>\n",
       "      <th>Fugitive Air</th>\n",
       "      <th>Stack Air</th>\n",
       "    </tr>\n",
       "    <tr>\n",
       "      <th>1. YEAR</th>\n",
       "      <th></th>\n",
       "      <th></th>\n",
       "    </tr>\n",
       "  </thead>\n",
       "  <tbody>\n",
       "    <tr>\n",
       "      <th>1987</th>\n",
       "      <td>3.336865e+08</td>\n",
       "      <td>7.180807e+08</td>\n",
       "    </tr>\n",
       "    <tr>\n",
       "      <th>1988</th>\n",
       "      <td>2.678553e+08</td>\n",
       "      <td>6.954401e+08</td>\n",
       "    </tr>\n",
       "    <tr>\n",
       "      <th>1989</th>\n",
       "      <td>2.557644e+08</td>\n",
       "      <td>6.075319e+08</td>\n",
       "    </tr>\n",
       "    <tr>\n",
       "      <th>1990</th>\n",
       "      <td>2.254482e+08</td>\n",
       "      <td>5.354074e+08</td>\n",
       "    </tr>\n",
       "    <tr>\n",
       "      <th>1991</th>\n",
       "      <td>2.120035e+08</td>\n",
       "      <td>4.730907e+08</td>\n",
       "    </tr>\n",
       "    <tr>\n",
       "      <th>1992</th>\n",
       "      <td>1.766802e+08</td>\n",
       "      <td>4.597574e+08</td>\n",
       "    </tr>\n",
       "    <tr>\n",
       "      <th>1993</th>\n",
       "      <td>1.683660e+08</td>\n",
       "      <td>3.681562e+08</td>\n",
       "    </tr>\n",
       "    <tr>\n",
       "      <th>1994</th>\n",
       "      <td>1.272878e+08</td>\n",
       "      <td>3.412888e+08</td>\n",
       "    </tr>\n",
       "    <tr>\n",
       "      <th>1995</th>\n",
       "      <td>1.110482e+08</td>\n",
       "      <td>3.491192e+08</td>\n",
       "    </tr>\n",
       "    <tr>\n",
       "      <th>1996</th>\n",
       "      <td>1.000064e+08</td>\n",
       "      <td>3.242487e+08</td>\n",
       "    </tr>\n",
       "    <tr>\n",
       "      <th>1997</th>\n",
       "      <td>9.192276e+07</td>\n",
       "      <td>2.778748e+08</td>\n",
       "    </tr>\n",
       "    <tr>\n",
       "      <th>1998</th>\n",
       "      <td>8.762269e+07</td>\n",
       "      <td>2.593703e+08</td>\n",
       "    </tr>\n",
       "    <tr>\n",
       "      <th>1999</th>\n",
       "      <td>8.072420e+07</td>\n",
       "      <td>2.287061e+08</td>\n",
       "    </tr>\n",
       "    <tr>\n",
       "      <th>2000</th>\n",
       "      <td>7.602339e+07</td>\n",
       "      <td>2.193197e+08</td>\n",
       "    </tr>\n",
       "    <tr>\n",
       "      <th>2001</th>\n",
       "      <td>6.853581e+07</td>\n",
       "      <td>1.769794e+08</td>\n",
       "    </tr>\n",
       "    <tr>\n",
       "      <th>2002</th>\n",
       "      <td>6.788969e+07</td>\n",
       "      <td>1.837883e+08</td>\n",
       "    </tr>\n",
       "    <tr>\n",
       "      <th>2003</th>\n",
       "      <td>6.455080e+07</td>\n",
       "      <td>1.835113e+08</td>\n",
       "    </tr>\n",
       "    <tr>\n",
       "      <th>2004</th>\n",
       "      <td>6.152734e+07</td>\n",
       "      <td>1.776515e+08</td>\n",
       "    </tr>\n",
       "    <tr>\n",
       "      <th>2005</th>\n",
       "      <td>5.749894e+07</td>\n",
       "      <td>1.513735e+08</td>\n",
       "    </tr>\n",
       "    <tr>\n",
       "      <th>2006</th>\n",
       "      <td>5.443326e+07</td>\n",
       "      <td>1.362203e+08</td>\n",
       "    </tr>\n",
       "    <tr>\n",
       "      <th>2007</th>\n",
       "      <td>5.000785e+07</td>\n",
       "      <td>1.347253e+08</td>\n",
       "    </tr>\n",
       "    <tr>\n",
       "      <th>2008</th>\n",
       "      <td>4.854188e+07</td>\n",
       "      <td>1.175314e+08</td>\n",
       "    </tr>\n",
       "    <tr>\n",
       "      <th>2009</th>\n",
       "      <td>4.479422e+07</td>\n",
       "      <td>1.123991e+08</td>\n",
       "    </tr>\n",
       "    <tr>\n",
       "      <th>2010</th>\n",
       "      <td>4.585543e+07</td>\n",
       "      <td>1.158759e+08</td>\n",
       "    </tr>\n",
       "    <tr>\n",
       "      <th>2011</th>\n",
       "      <td>4.263831e+07</td>\n",
       "      <td>1.177485e+08</td>\n",
       "    </tr>\n",
       "    <tr>\n",
       "      <th>2012</th>\n",
       "      <td>5.415326e+07</td>\n",
       "      <td>1.232930e+08</td>\n",
       "    </tr>\n",
       "    <tr>\n",
       "      <th>2013</th>\n",
       "      <td>5.678647e+07</td>\n",
       "      <td>1.193141e+08</td>\n",
       "    </tr>\n",
       "    <tr>\n",
       "      <th>2014</th>\n",
       "      <td>5.844397e+07</td>\n",
       "      <td>1.165299e+08</td>\n",
       "    </tr>\n",
       "    <tr>\n",
       "      <th>2015</th>\n",
       "      <td>5.908428e+07</td>\n",
       "      <td>1.095004e+08</td>\n",
       "    </tr>\n",
       "    <tr>\n",
       "      <th>2016</th>\n",
       "      <td>5.127921e+07</td>\n",
       "      <td>1.137646e+08</td>\n",
       "    </tr>\n",
       "    <tr>\n",
       "      <th>2017</th>\n",
       "      <td>5.173146e+07</td>\n",
       "      <td>1.152820e+08</td>\n",
       "    </tr>\n",
       "    <tr>\n",
       "      <th>2018</th>\n",
       "      <td>5.718905e+07</td>\n",
       "      <td>1.154641e+08</td>\n",
       "    </tr>\n",
       "    <tr>\n",
       "      <th>2019</th>\n",
       "      <td>5.853240e+07</td>\n",
       "      <td>0.000000e+00</td>\n",
       "    </tr>\n",
       "  </tbody>\n",
       "</table>\n",
       "</div>"
      ],
      "text/plain": [
       "         Fugitive Air     Stack Air\n",
       "1. YEAR                            \n",
       "1987     3.336865e+08  7.180807e+08\n",
       "1988     2.678553e+08  6.954401e+08\n",
       "1989     2.557644e+08  6.075319e+08\n",
       "1990     2.254482e+08  5.354074e+08\n",
       "1991     2.120035e+08  4.730907e+08\n",
       "1992     1.766802e+08  4.597574e+08\n",
       "1993     1.683660e+08  3.681562e+08\n",
       "1994     1.272878e+08  3.412888e+08\n",
       "1995     1.110482e+08  3.491192e+08\n",
       "1996     1.000064e+08  3.242487e+08\n",
       "1997     9.192276e+07  2.778748e+08\n",
       "1998     8.762269e+07  2.593703e+08\n",
       "1999     8.072420e+07  2.287061e+08\n",
       "2000     7.602339e+07  2.193197e+08\n",
       "2001     6.853581e+07  1.769794e+08\n",
       "2002     6.788969e+07  1.837883e+08\n",
       "2003     6.455080e+07  1.835113e+08\n",
       "2004     6.152734e+07  1.776515e+08\n",
       "2005     5.749894e+07  1.513735e+08\n",
       "2006     5.443326e+07  1.362203e+08\n",
       "2007     5.000785e+07  1.347253e+08\n",
       "2008     4.854188e+07  1.175314e+08\n",
       "2009     4.479422e+07  1.123991e+08\n",
       "2010     4.585543e+07  1.158759e+08\n",
       "2011     4.263831e+07  1.177485e+08\n",
       "2012     5.415326e+07  1.232930e+08\n",
       "2013     5.678647e+07  1.193141e+08\n",
       "2014     5.844397e+07  1.165299e+08\n",
       "2015     5.908428e+07  1.095004e+08\n",
       "2016     5.127921e+07  1.137646e+08\n",
       "2017     5.173146e+07  1.152820e+08\n",
       "2018     5.718905e+07  1.154641e+08\n",
       "2019     5.853240e+07  0.000000e+00"
      ]
     },
     "execution_count": 64,
     "metadata": {},
     "output_type": "execute_result"
    }
   ],
   "source": [
    "#df.plot.bar(x=\"1. YEAR\", y=[fugAir, stackAir], stacked=True)\n",
    "df_emissionType = pd.concat({\"Fugitive Air\":fugAir,\"Stack Air\":stackAir},axis=1)\n",
    "df_emissionType"
   ]
  },
  {
   "cell_type": "code",
   "execution_count": 66,
   "id": "valued-ready",
   "metadata": {},
   "outputs": [
    {
     "data": {
      "text/plain": [
       "<AxesSubplot:xlabel='1. YEAR'>"
      ]
     },
     "execution_count": 66,
     "metadata": {},
     "output_type": "execute_result"
    },
    {
     "data": {
      "image/png": "[encoded data removed]",
      "text/plain": [
       "<Figure size 432x288 with 1 Axes>"
      ]
     },
     "metadata": {
      "needs_background": "light"
     },
     "output_type": "display_data"
    }
   ],
   "source": [
    "df_emissionType.plot.bar(y=['Fugitive Air', \"Stack Air\"], stacked=True)"
   ]
  },
  {
   "cell_type": "markdown",
   "id": "incorrect-doubt",
   "metadata": {},
   "source": [
    "### State\n"
   ]
  },
  {
   "cell_type": "code",
   "execution_count": null,
   "id": "rental-tyler",
   "metadata": {},
   "outputs": [],
   "source": [
    "# Difference in years might be easier here?"
   ]
  }
 ],
 "metadata": {
  "kernelspec": {
   "display_name": "Python 3",
   "language": "python",
   "name": "python3"
  },
  "language_info": {
   "codemirror_mode": {
    "name": "ipython",
    "version": 3
   },
   "file_extension": ".py",
   "mimetype": "text/x-python",
   "name": "python",
   "nbconvert_exporter": "python",
   "pygments_lexer": "ipython3",
   "version": "3.7.2"
  }
 },
 "nbformat": 4,
 "nbformat_minor": 5
}
