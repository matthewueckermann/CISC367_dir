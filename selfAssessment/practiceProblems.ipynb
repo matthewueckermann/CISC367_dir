{
 "cells": [
  {
   "cell_type": "markdown",
   "id": "wicked-discrimination",
   "metadata": {},
   "source": [
    "Python practice problems\n",
    "\n",
    "Focusing on list comprehension and unit testing first \n",
    "\n",
    "Was able to practice the unit testing on the self assessment in canvas as I had not added that earlier.\n",
    "\n",
    "Taking list comprehension examples from: https://gist.github.com/doughsay/cb50d9e4d344230ebc166255a202f81d"
   ]
  },
  {
   "cell_type": "code",
   "execution_count": 39,
   "id": "better-headquarters",
   "metadata": {},
   "outputs": [
    {
     "data": {
      "text/plain": [
       "[1, 2, 3, 4]"
      ]
     },
     "execution_count": 39,
     "metadata": {},
     "output_type": "execute_result"
    }
   ],
   "source": [
    "def identity(nums):\n",
    "    \"\"\"Identity:\n",
    "    Given a list of numbers, write a list comprehension that produces a copy of the list.\n",
    "        >>> identity([1, 2, 3, 4, 5])\n",
    "        [1, 2, 3, 4, 5]\n",
    "        >>> identity([])\n",
    "        []\n",
    "    \"\"\"\n",
    "    newNums = [i for i in nums]\n",
    "    return newNums\n",
    "\n",
    "identity([1, 2, 3, 4])\n",
    "# add unit tests"
   ]
  },
  {
   "cell_type": "code",
   "execution_count": 40,
   "id": "polished-progress",
   "metadata": {},
   "outputs": [
    {
     "data": {
      "text/plain": [
       "[2, 4, 6, 8]"
      ]
     },
     "execution_count": 40,
     "metadata": {},
     "output_type": "execute_result"
    }
   ],
   "source": [
    "def doubled(nums):\n",
    "    \"\"\"Doubled:\n",
    "    Given a list of numbers, write a list comprehension that produces a list of each number doubled.\n",
    "        >>> doubled([1, 2, 3, 4, 5])\n",
    "        [2, 4, 6, 8, 10]\n",
    "        >>> doubled([-2, 2, -10, 10])\n",
    "        [-4, 4, -20, 20]\n",
    "    \"\"\"\n",
    "    \n",
    "    doubledNums = [2*i for i in nums]\n",
    "    return doubledNums\n",
    "\n",
    "doubled([1, 2, 3, 4])"
   ]
  },
  {
   "cell_type": "code",
   "execution_count": 41,
   "id": "spoken-sender",
   "metadata": {},
   "outputs": [
    {
     "data": {
      "text/plain": [
       "[-2, 4, 8]"
      ]
     },
     "execution_count": 41,
     "metadata": {},
     "output_type": "execute_result"
    }
   ],
   "source": [
    "def evens(nums):\n",
    "    \"\"\"Evens:\n",
    "    Given a list of numbers, write a list comprehension that produces a list of only the even numbers in that list.\n",
    "        >>> evens([1, 2, 3, 4, 5])\n",
    "        [2, 4]\n",
    "        >>> evens([1, 3, 5])\n",
    "        []\n",
    "        >>> evens([-2, -4, -7])\n",
    "        [-2, -4]\n",
    "    \"\"\"\n",
    "    return [i for i in nums if i%2==0]\n",
    "\n",
    "evens([-2,5,3,4,8,9])"
   ]
  },
  {
   "cell_type": "code",
   "execution_count": 42,
   "id": "solid-cancer",
   "metadata": {},
   "outputs": [
    {
     "data": {
      "text/plain": [
       "[5, 5, 3, 5, 4, 4, 3]"
      ]
     },
     "execution_count": 42,
     "metadata": {},
     "output_type": "execute_result"
    }
   ],
   "source": [
    "def words_not_the(sentence):\n",
    "    \"\"\"Words not 'the'\n",
    "    Given a sentence, produce a list of the lengths of each word in the sentence, but only if the word is not 'the'.\n",
    "        >>> words_not_the('the quick brown fox jumps over the lazy dog')\n",
    "        [5, 5, 3, 5, 4, 4, 3]\n",
    "    \"\"\"\n",
    "    return [len(i) for i in sentence.split() if i!='the']\n",
    "\n",
    "words_not_the('the quick brown fox jumps over the lazy dog')"
   ]
  },
  {
   "cell_type": "code",
   "execution_count": 52,
   "id": "equal-devices",
   "metadata": {},
   "outputs": [
    {
     "data": {
      "text/plain": [
       "{'a', 'e', 'i'}"
      ]
     },
     "execution_count": 52,
     "metadata": {},
     "output_type": "execute_result"
    }
   ],
   "source": [
    "def vowels_set(word):\n",
    "    \"\"\"Vowels set:\n",
    "    Given a string representing a word, write a set comprehension that produces a set of all the vowels in that word.\n",
    "        >>> vowels_set('mathematics')\n",
    "        {'a', 'e', 'i'}\n",
    "    \"\"\"\n",
    "    return {i for i in word if i in 'aeiou'}\n",
    "\n",
    "vowels_set('mathematics')"
   ]
  },
  {
   "cell_type": "code",
   "execution_count": null,
   "id": "juvenile-marriage",
   "metadata": {},
   "outputs": [],
   "source": []
  },
  {
   "cell_type": "code",
   "execution_count": 47,
   "id": "saving-tuition",
   "metadata": {},
   "outputs": [
    {
     "data": {
      "text/plain": [
       "[144, 52, -79, 140, 40, 136, -43, 71, -71, -4]"
      ]
     },
     "execution_count": 47,
     "metadata": {},
     "output_type": "execute_result"
    }
   ],
   "source": [
    "def wiggle_numbers(nums):\n",
    "    \"\"\"Wiggle numbers:\n",
    "    Given a list of number, return the list with all even numbers doubled, and all odd numbers turned negative.\n",
    "        >>> wiggle_numbers([72, 26, 79, 70, 20, 68, 43, -71, 71, -2])\n",
    "        [144, 52, -79, 140, 40, 136, -43, 71, -71, -4]\n",
    "    \"\"\"\n",
    "    return [i*2 if not i%2 else -1*i for i in nums]\n",
    "\n",
    "wiggle_numbers([72, 26, 79, 70, 20, 68, 43, -71, 71, -2])"
   ]
  },
  {
   "cell_type": "code",
   "execution_count": 50,
   "id": "pharmaceutical-drill",
   "metadata": {},
   "outputs": [
    {
     "name": "stdout",
     "output_type": "stream",
     "text": [
      "**********************************************************************\n",
      "File \"__main__\", line 4, in __main__.vowels_set\n",
      "Failed example:\n",
      "    vowels_set('mathematics')\n",
      "Expected:\n",
      "    {'a', 'e', 'i'}\n",
      "Got:\n",
      "    {'e', 'a', 'i'}\n",
      "**********************************************************************\n",
      "1 items had failures:\n",
      "   1 of   1 in __main__.vowels_set\n",
      "***Test Failed*** 1 failures.\n"
     ]
    }
   ],
   "source": [
    "\n",
    "# Not sure how this works, but seems like a good sign... will add my own unit tests later\n",
    "if __name__ == '__main__':\n",
    "    import doctest\n",
    "    if doctest.testmod().failed == 0:\n",
    "        print('\\n*** ALL TESTS PASSED!\\n')"
   ]
  },
  {
   "cell_type": "code",
   "execution_count": null,
   "id": "fabulous-guard",
   "metadata": {},
   "outputs": [],
   "source": []
  }
 ],
 "metadata": {
  "kernelspec": {
   "display_name": "Python 3",
   "language": "python",
   "name": "python3"
  },
  "language_info": {
   "codemirror_mode": {
    "name": "ipython",
    "version": 3
   },
   "file_extension": ".py",
   "mimetype": "text/x-python",
   "name": "python",
   "nbconvert_exporter": "python",
   "pygments_lexer": "ipython3",
   "version": "3.7.2"
  }
 },
 "nbformat": 4,
 "nbformat_minor": 5
}
