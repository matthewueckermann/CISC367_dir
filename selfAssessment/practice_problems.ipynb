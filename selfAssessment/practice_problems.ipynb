{
 "cells": [
  {
   "cell_type": "markdown",
   "id": "surrounded-tucson",
   "metadata": {},
   "source": [
    "Python practice problems\n",
    "\n",
    "Focusing on list comprehension and unit testing first "
   ]
  },
  {
   "cell_type": "markdown",
   "id": "transsexual-failure",
   "metadata": {},
   "source": [
    "Taking list comprehension examples from: https://gist.github.com/doughsay/cb50d9e4d344230ebc166255a202f81d\n",
    "Used https://realpython.com/list-comprehension-python/ as a reference"
   ]
  },
  {
   "cell_type": "code",
   "execution_count": 24,
   "id": "fuzzy-section",
   "metadata": {},
   "outputs": [
    {
     "data": {
      "text/plain": [
       "[1, 2, 3, 4]"
      ]
     },
     "execution_count": 24,
     "metadata": {},
     "output_type": "execute_result"
    }
   ],
   "source": [
    "def identity(nums):\n",
    "    \"\"\"Identity:\n",
    "    Given a list of numbers, write a list comprehension that produces a copy of the list.\n",
    "        >>> identity([1, 2, 3, 4, 5])\n",
    "        [1, 2, 3, 4, 5]\n",
    "        >>> identity([])\n",
    "        []\n",
    "    \"\"\"\n",
    "    newNums = [i for i in nums]\n",
    "    return newNums\n",
    "\n",
    "identity([1, 2, 3, 4])\n",
    "# add unit tests"
   ]
  },
  {
   "cell_type": "code",
   "execution_count": 25,
   "id": "minimal-rebecca",
   "metadata": {},
   "outputs": [
    {
     "data": {
      "text/plain": [
       "[2, 4, 6, 8]"
      ]
     },
     "execution_count": 25,
     "metadata": {},
     "output_type": "execute_result"
    }
   ],
   "source": [
    "def doubled(nums):\n",
    "    \"\"\"Doubled:\n",
    "    Given a list of numbers, write a list comprehension that produces a list of each number doubled.\n",
    "        >>> doubled([1, 2, 3, 4, 5])\n",
    "        [2, 4, 6, 8, 10]\n",
    "        >>> doubled([-2, 2, -10, 10])\n",
    "        [-4, 4, -20, 20]\n",
    "    \"\"\"\n",
    "    \n",
    "    doubledNums = [2*i for i in nums]\n",
    "    return doubledNums\n",
    "\n",
    "doubled([1, 2, 3, 4])"
   ]
  },
  {
   "cell_type": "code",
   "execution_count": 26,
   "id": "french-priority",
   "metadata": {},
   "outputs": [
    {
     "data": {
      "text/plain": [
       "[-2, 4, 8]"
      ]
     },
     "execution_count": 26,
     "metadata": {},
     "output_type": "execute_result"
    }
   ],
   "source": [
    "def evens(nums):\n",
    "    \"\"\"Evens:\n",
    "    Given a list of numbers, write a list comprehension that produces a list of only the even numbers in that list.\n",
    "        >>> evens([1, 2, 3, 4, 5])\n",
    "        [2, 4]\n",
    "        >>> evens([1, 3, 5])\n",
    "        []\n",
    "        >>> evens([-2, -4, -7])\n",
    "        [-2, -4]\n",
    "    \"\"\"\n",
    "    return [i for i in nums if i%2==0]\n",
    "\n",
    "evens([-2,5,3,4,8,9])"
   ]
  },
  {
   "cell_type": "code",
   "execution_count": 27,
   "id": "proved-enclosure",
   "metadata": {},
   "outputs": [
    {
     "data": {
      "text/plain": [
       "['25', '-20']"
      ]
     },
     "execution_count": 27,
     "metadata": {},
     "output_type": "execute_result"
    }
   ],
   "source": [
    "def selective_stringify_nums(nums):\n",
    "    \"\"\"Selectively stringify nums:\n",
    "    Given a list of numbers, write a list comprehension that produces a list of strings of each number that is divisible by 5.\n",
    "        >>> selective_stringify_nums([25, 91, 22, -7, -20])\n",
    "        ['25', '-20']\n",
    "    \"\"\"\n",
    "    return [str(i) for i in nums if i%5==0]\n",
    "\n",
    "selective_stringify_nums([25, 91, 22, -7, -20])"
   ]
  },
  {
   "cell_type": "code",
   "execution_count": 28,
   "id": "large-henry",
   "metadata": {},
   "outputs": [
    {
     "data": {
      "text/plain": [
       "[5, 5, 3, 5, 4, 4, 3]"
      ]
     },
     "execution_count": 28,
     "metadata": {},
     "output_type": "execute_result"
    }
   ],
   "source": [
    "def words_not_the(sentence):\n",
    "    \"\"\"Words not 'the'\n",
    "    Given a sentence, produce a list of the lengths of each word in the sentence, but only if the word is not 'the'.\n",
    "        >>> words_not_the('the quick brown fox jumps over the lazy dog')\n",
    "        [5, 5, 3, 5, 4, 4, 3]\n",
    "    \"\"\"\n",
    "    return [len(i) for i in sentence.split() if i!='the']\n",
    "\n",
    "words_not_the('the quick brown fox jumps over the lazy dog')"
   ]
  },
  {
   "cell_type": "code",
   "execution_count": 29,
   "id": "voluntary-scanning",
   "metadata": {},
   "outputs": [
    {
     "data": {
      "text/plain": [
       "[144, 52, -79, 140, 40, 136, -43, 71, -71, -4]"
      ]
     },
     "execution_count": 29,
     "metadata": {},
     "output_type": "execute_result"
    }
   ],
   "source": [
    "def wiggle_numbers(nums):\n",
    "    \"\"\"Wiggle numbers:\n",
    "    Given a list of number, return the list with all even numbers doubled, and all odd numbers turned negative.\n",
    "        >>> wiggle_numbers([72, 26, 79, 70, 20, 68, 43, -71, 71, -2])\n",
    "        [144, 52, -79, 140, 40, 136, -43, 71, -71, -4]\n",
    "    \"\"\"\n",
    "    return [i*2 if not i%2 else -1*i for i in nums]\n",
    "\n",
    "wiggle_numbers([72, 26, 79, 70, 20, 68, 43, -71, 71, -2])"
   ]
  },
  {
   "cell_type": "markdown",
   "id": "conditional-flash",
   "metadata": {},
   "source": [
    "Running the doctest that came with the examples"
   ]
  },
  {
   "cell_type": "code",
   "execution_count": 30,
   "id": "dress-enemy",
   "metadata": {},
   "outputs": [
    {
     "name": "stdout",
     "output_type": "stream",
     "text": [
      "\n",
      "*** ALL TESTS PASSED!\n",
      "\n"
     ]
    }
   ],
   "source": [
    "if __name__ == '__main__':\n",
    "    import doctest\n",
    "    if doctest.testmod().failed == 0:\n",
    "        print('\\n*** ALL TESTS PASSED!\\n')"
   ]
  },
  {
   "cell_type": "markdown",
   "id": "placed-dominican",
   "metadata": {},
   "source": [
    "Unittests that I wrote with my own quick checks\n",
    "Main reference: https://realpython.com/python-testing/"
   ]
  },
  {
   "cell_type": "code",
   "execution_count": 31,
   "id": "beautiful-treasure",
   "metadata": {},
   "outputs": [
    {
     "name": "stderr",
     "output_type": "stream",
     "text": [
      "......\n",
      "----------------------------------------------------------------------\n",
      "Ran 6 tests in 0.029s\n",
      "\n",
      "OK\n"
     ]
    }
   ],
   "source": [
    "import unittest\n",
    "\n",
    "class TestComprehension(unittest.TestCase):\n",
    "\n",
    "    def test_identity(self):\n",
    "        self.assertEqual(identity([7,4,3,1]), [7,4,3,1])\n",
    "    def test_doubled(self):\n",
    "        self.assertEqual(doubled([1,2,2,8,9]), [2,4,4,16,18])\n",
    "    def test_evens(self):\n",
    "        self.assertEqual(evens([-1,3,2,2,8,-400,3]),[2,2,8,-400])\n",
    "    def test_selective_stringify_nums(self):\n",
    "        self.assertEqual(selective_stringify_nums([-5,15,26,-17,900,9]),['-5','15','900'])\n",
    "    def test_words_not_the(self):\n",
    "        self.assertEqual(words_not_the('if perchance the last one was the'),[2,9,4,3,3])\n",
    "    def test_wiggle_numbers(self):\n",
    "        self.assertEqual(wiggle_numbers([53,24,2,-5,6,1]), [-53,48,4,5,12,-1])\n",
    "        \n",
    "if __name__ == '__main__':\n",
    "    # The resource above was not playing nicely with Jupyter so I took from: https://stackoverflow.com/questions/25004917/attributeerror-when-running-unittest-sample-in-ipy-notebook\n",
    "    suite = unittest.TestLoader().loadTestsFromTestCase(TestComprehension)\n",
    "    unittest.TextTestRunner().run(suite)"
   ]
  }
 ],
 "metadata": {
  "kernelspec": {
   "display_name": "Python 3",
   "language": "python",
   "name": "python3"
  },
  "language_info": {
   "codemirror_mode": {
    "name": "ipython",
    "version": 3
   },
   "file_extension": ".py",
   "mimetype": "text/x-python",
   "name": "python",
   "nbconvert_exporter": "python",
   "pygments_lexer": "ipython3",
   "version": "3.7.2"
  }
 },
 "nbformat": 4,
 "nbformat_minor": 5
}
