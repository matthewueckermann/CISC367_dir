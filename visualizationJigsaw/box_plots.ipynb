{
 "cells": [
  {
   "cell_type": "markdown",
   "metadata": {
    "id": "50iQ9tpYwcsm"
   },
   "source": [
    "# All About Boxplots!\n",
    "\n",
    "**Teammates: Joseph Loporto, Cole Plum, Maria van Venrooy**\n",
    "\n",
    "A boxplot (also known as a 'box and whisker plot') is a good visualization of the **five number summary** of a dataset. \n",
    "- Minumum\n",
    "- Quartile 1 (Q1)\n",
    "- Median \n",
    "- Quartile 3 (Q3)\n",
    "- Maximum\n",
    "\n",
    "\n",
    "\n",
    "\n",
    "![boxplot.png](data:image/png;base64,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)\n",
    "\n",
    "From these five marked points, we can ascertain the following information:\n",
    "- Boundaries of each of the quartiles\n",
    " - 1st : between min and Q1\n",
    " - 2nd : between Q1 and median\n",
    " - 3rd : between median and Q3\n",
    " - 4th : between Q3 and max\n",
    "- Range (max - min)\n",
    "- Interquartile Range (Q3 - Q1)\n",
    "\n",
    "## Example Box Plot\n",
    "![boxplot.png](https://mathsmadeeasy.co.uk/wp-content/uploads/2018/11/boxplots-figure-2-e1598014902974.png)\n",
    "\n",
    "Answer the following questions in reference to the example box plot above which displays the ages of students at a summer camp.\n",
    "\n",
    "1. What is the age of the youngest student?\n",
    " - 0\n",
    " - **3**\n",
    " - 8\n",
    " - 11\n",
    "\n",
    "2. What is the median age of the students?\n",
    " - 8\n",
    " - 10\n",
    " - **11**\n",
    " - Impossible to say from information given\n",
    "\n",
    "3. What is the range of ages of the students?\n",
    " - 5\n",
    " - **13**\n",
    " - 16\n",
    " - Impossible to say from information given\n",
    "\n",
    "4. How many students fall in the third quartile?\n",
    " - 2\n",
    " - 3\n",
    " - At least 5\n",
    " - **Impossible to say from information given**\n",
    "\n",
    "\n",
    "## What are boxplots good for?\n",
    "Boxplots are good to show the distribution of a single quantitative variable. They can easily show **spread** and any **skewness** of the data. \n",
    "\n",
    "## Some alternates to boxplots\n",
    "- **Histograms** - Will show the same distribution shapw while giving more information on the frequency of the data. \n",
    "- **Stem & Leaf Plots** - Similar to histograms, however you will see the actual values of all data points\n",
    "- **Strip or Swarm Plots** - Will show the relative positions of data points in addition to the overall distribution\n",
    "\n",
    "## Variations within boxplots\n",
    "- Outliers may be present if they fall outside of median += (1.5 * IQR). These are denoted by a single dot. \n",
    "- Some boxplots may include the mean, denoted by a \"+\" symbol\n",
    "- Boxplots are often shown side-by-side to allow for comparison\n",
    "\n",
    "## Mistakes to avoid\n",
    "- The mean is not always present in a boxplot. The middle line is the **median**\n",
    "- Sizes of the sections in a boxplot are not related to frequency, but rather density. Small section = higher density of datapoints within that range. \n",
    "\n",
    "##A boxplot you make in python may look like this...\n",
    "![boxplot2.png](data:image/png;base64,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)\n",
    "\n",
    "## How to create a boxplot from a Pandas DataFrame\n",
    "Shown are the default values for arguments. The only argument needed to plot by column, is the column name as a string. \n",
    "Ex: ```DataFrame.boxplot(\"colname\")```\n",
    "\n",
    "```DataFrame.boxplot(column=None, by=None, ax=None, fontsize=None, rot=0, grid=True, figsize=None, layout=None, return_type=None, backend=None, **kwargs)```\n",
    "\n",
    "or (with matplotlib.pyplot imported as plt):\n",
    "\n",
    "```DataFrame.plot(kind = 'box')```\n",
    "<br />\n",
    "```plt.show()```"
   ]
  },
  {
   "cell_type": "markdown",
   "metadata": {
    "id": "M5QcX-sOwe-Q"
   },
   "source": [
    "---\n",
    "\n",
    "## Create a boxplot for the following dataset"
   ]
  },
  {
   "cell_type": "code",
   "execution_count": 4,
   "metadata": {
    "id": "JgSBB2d8wtwS"
   },
   "outputs": [
    {
     "data": {
      "text/plain": [
       "<AxesSubplot:>"
      ]
     },
     "execution_count": 4,
     "metadata": {},
     "output_type": "execute_result"
    },
    {
     "data": {
      "image/png": "[encoded data removed]",
      "text/plain": [
       "<Figure size 432x288 with 1 Axes>"
      ]
     },
     "metadata": {
      "needs_background": "light"
     },
     "output_type": "display_data"
    }
   ],
   "source": [
    "import numpy as np\n",
    "import pandas as pd\n",
    "import matplotlib.pyplot as plt\n",
    "\n",
    "df = pd.DataFrame(np.random.randn(20, 3),\n",
    "                  columns=['Col1', 'Col2', 'Col3'])\n",
    "\n",
    "df.boxplot(\"Col1\")"
   ]
  },
  {
   "cell_type": "code",
   "execution_count": 10,
   "metadata": {
    "id": "eeWnNf5uUsCa"
   },
   "outputs": [],
   "source": []
  },
  {
   "cell_type": "markdown",
   "metadata": {
    "id": "RA2CBl4FOz-B"
   },
   "source": [
    "# Real Data Example\n",
    "Start by downloading data, we'll use a dataset from CORGIS about cars and their MPG.\n",
    "\n",
    "Below is some boilerplate to get the file and load the dataframe"
   ]
  },
  {
   "cell_type": "code",
   "execution_count": 6,
   "metadata": {
    "colab": {
     "base_uri": "https://localhost:8080/",
     "height": 779
    },
    "id": "GRhlNXLsQUfS",
    "outputId": "73fd55fb-a721-49e0-dc8f-66029bde6031"
   },
   "outputs": [
    {
     "data": {
      "text/html": [
       "<div>\n",
       "<style scoped>\n",
       "    .dataframe tbody tr th:only-of-type {\n",
       "        vertical-align: middle;\n",
       "    }\n",
       "\n",
       "    .dataframe tbody tr th {\n",
       "        vertical-align: top;\n",
       "    }\n",
       "\n",
       "    .dataframe thead th {\n",
       "        text-align: right;\n",
       "    }\n",
       "</style>\n",
       "<table border=\"1\" class=\"dataframe\">\n",
       "  <thead>\n",
       "    <tr style=\"text-align: right;\">\n",
       "      <th></th>\n",
       "      <th>Dimensions.Height</th>\n",
       "      <th>Dimensions.Length</th>\n",
       "      <th>Dimensions.Width</th>\n",
       "      <th>Engine Information.Driveline</th>\n",
       "      <th>Engine Information.Engine Type</th>\n",
       "      <th>Engine Information.Hybrid</th>\n",
       "      <th>Engine Information.Number of Forward Gears</th>\n",
       "      <th>Engine Information.Transmission</th>\n",
       "      <th>Fuel Information.City mpg</th>\n",
       "      <th>Fuel Information.Fuel Type</th>\n",
       "      <th>Fuel Information.Highway mpg</th>\n",
       "      <th>Identification.Classification</th>\n",
       "      <th>Identification.ID</th>\n",
       "      <th>Identification.Make</th>\n",
       "      <th>Identification.Model Year</th>\n",
       "      <th>Identification.Year</th>\n",
       "      <th>Engine Information.Engine Statistics.Horsepower</th>\n",
       "      <th>Engine Information.Engine Statistics.Torque</th>\n",
       "    </tr>\n",
       "  </thead>\n",
       "  <tbody>\n",
       "    <tr>\n",
       "      <th>0</th>\n",
       "      <td>140</td>\n",
       "      <td>143</td>\n",
       "      <td>202</td>\n",
       "      <td>All-wheel drive</td>\n",
       "      <td>Audi 3.2L 6 cylinder 250hp 236ft-lbs</td>\n",
       "      <td>True</td>\n",
       "      <td>6</td>\n",
       "      <td>6 Speed Automatic Select Shift</td>\n",
       "      <td>18</td>\n",
       "      <td>Gasoline</td>\n",
       "      <td>25</td>\n",
       "      <td>Automatic transmission</td>\n",
       "      <td>2009 Audi A3 3.2</td>\n",
       "      <td>Audi</td>\n",
       "      <td>2009 Audi A3</td>\n",
       "      <td>2009</td>\n",
       "      <td>250</td>\n",
       "      <td>236</td>\n",
       "    </tr>\n",
       "    <tr>\n",
       "      <th>1</th>\n",
       "      <td>140</td>\n",
       "      <td>143</td>\n",
       "      <td>202</td>\n",
       "      <td>Front-wheel drive</td>\n",
       "      <td>Audi 2.0L 4 cylinder 200 hp 207 ft-lbs Turbo</td>\n",
       "      <td>True</td>\n",
       "      <td>6</td>\n",
       "      <td>6 Speed Automatic Select Shift</td>\n",
       "      <td>22</td>\n",
       "      <td>Gasoline</td>\n",
       "      <td>28</td>\n",
       "      <td>Automatic transmission</td>\n",
       "      <td>2009 Audi A3 2.0 T AT</td>\n",
       "      <td>Audi</td>\n",
       "      <td>2009 Audi A3</td>\n",
       "      <td>2009</td>\n",
       "      <td>200</td>\n",
       "      <td>207</td>\n",
       "    </tr>\n",
       "    <tr>\n",
       "      <th>2</th>\n",
       "      <td>140</td>\n",
       "      <td>143</td>\n",
       "      <td>202</td>\n",
       "      <td>Front-wheel drive</td>\n",
       "      <td>Audi 2.0L 4 cylinder 200 hp 207 ft-lbs Turbo</td>\n",
       "      <td>True</td>\n",
       "      <td>6</td>\n",
       "      <td>6 Speed Manual</td>\n",
       "      <td>21</td>\n",
       "      <td>Gasoline</td>\n",
       "      <td>30</td>\n",
       "      <td>Manual transmission</td>\n",
       "      <td>2009 Audi A3 2.0 T</td>\n",
       "      <td>Audi</td>\n",
       "      <td>2009 Audi A3</td>\n",
       "      <td>2009</td>\n",
       "      <td>200</td>\n",
       "      <td>207</td>\n",
       "    </tr>\n",
       "    <tr>\n",
       "      <th>3</th>\n",
       "      <td>140</td>\n",
       "      <td>143</td>\n",
       "      <td>202</td>\n",
       "      <td>All-wheel drive</td>\n",
       "      <td>Audi 2.0L 4 cylinder 200 hp 207 ft-lbs Turbo</td>\n",
       "      <td>True</td>\n",
       "      <td>6</td>\n",
       "      <td>6 Speed Automatic Select Shift</td>\n",
       "      <td>21</td>\n",
       "      <td>Gasoline</td>\n",
       "      <td>28</td>\n",
       "      <td>Automatic transmission</td>\n",
       "      <td>2009 Audi A3 2.0 T Quattro</td>\n",
       "      <td>Audi</td>\n",
       "      <td>2009 Audi A3</td>\n",
       "      <td>2009</td>\n",
       "      <td>200</td>\n",
       "      <td>207</td>\n",
       "    </tr>\n",
       "    <tr>\n",
       "      <th>4</th>\n",
       "      <td>140</td>\n",
       "      <td>143</td>\n",
       "      <td>202</td>\n",
       "      <td>All-wheel drive</td>\n",
       "      <td>Audi 2.0L 4 cylinder 200 hp 207 ft-lbs Turbo</td>\n",
       "      <td>True</td>\n",
       "      <td>6</td>\n",
       "      <td>6 Speed Automatic Select Shift</td>\n",
       "      <td>21</td>\n",
       "      <td>Gasoline</td>\n",
       "      <td>28</td>\n",
       "      <td>Automatic transmission</td>\n",
       "      <td>2009 Audi A3 2.0 T Quattro</td>\n",
       "      <td>Audi</td>\n",
       "      <td>2009 Audi A3</td>\n",
       "      <td>2009</td>\n",
       "      <td>200</td>\n",
       "      <td>207</td>\n",
       "    </tr>\n",
       "    <tr>\n",
       "      <th>...</th>\n",
       "      <td>...</td>\n",
       "      <td>...</td>\n",
       "      <td>...</td>\n",
       "      <td>...</td>\n",
       "      <td>...</td>\n",
       "      <td>...</td>\n",
       "      <td>...</td>\n",
       "      <td>...</td>\n",
       "      <td>...</td>\n",
       "      <td>...</td>\n",
       "      <td>...</td>\n",
       "      <td>...</td>\n",
       "      <td>...</td>\n",
       "      <td>...</td>\n",
       "      <td>...</td>\n",
       "      <td>...</td>\n",
       "      <td>...</td>\n",
       "      <td>...</td>\n",
       "    </tr>\n",
       "    <tr>\n",
       "      <th>5071</th>\n",
       "      <td>13</td>\n",
       "      <td>253</td>\n",
       "      <td>201</td>\n",
       "      <td>Front-wheel drive</td>\n",
       "      <td>Honda 3.5L 6 Cylinder 250 hp 253 ft-lbs</td>\n",
       "      <td>True</td>\n",
       "      <td>5</td>\n",
       "      <td>5 Speed Automatic</td>\n",
       "      <td>18</td>\n",
       "      <td>Gasoline</td>\n",
       "      <td>25</td>\n",
       "      <td>Automatic transmission</td>\n",
       "      <td>2012 Honda Pilot EX-L</td>\n",
       "      <td>Honda</td>\n",
       "      <td>2012 Honda Pilot</td>\n",
       "      <td>2012</td>\n",
       "      <td>250</td>\n",
       "      <td>253</td>\n",
       "    </tr>\n",
       "    <tr>\n",
       "      <th>5072</th>\n",
       "      <td>141</td>\n",
       "      <td>249</td>\n",
       "      <td>108</td>\n",
       "      <td>All-wheel drive</td>\n",
       "      <td>Lamborghini 5.2L 10 cylinder 552 hp 398 ft-lbs</td>\n",
       "      <td>True</td>\n",
       "      <td>6</td>\n",
       "      <td>6 Speed Manual</td>\n",
       "      <td>12</td>\n",
       "      <td>Gasoline</td>\n",
       "      <td>20</td>\n",
       "      <td>Manual transmission</td>\n",
       "      <td>2012 Lamborghini Gallardo Coupe LP 560-4</td>\n",
       "      <td>Lamborghini</td>\n",
       "      <td>2012 Lamborghini Gallardo Coup</td>\n",
       "      <td>2012</td>\n",
       "      <td>552</td>\n",
       "      <td>398</td>\n",
       "    </tr>\n",
       "    <tr>\n",
       "      <th>5073</th>\n",
       "      <td>160</td>\n",
       "      <td>249</td>\n",
       "      <td>108</td>\n",
       "      <td>All-wheel drive</td>\n",
       "      <td>Lamborghini 5.2L 10 cylinder 552 hp 398 ft-lbs</td>\n",
       "      <td>True</td>\n",
       "      <td>6</td>\n",
       "      <td>6 Speed Manual</td>\n",
       "      <td>12</td>\n",
       "      <td>Gasoline</td>\n",
       "      <td>20</td>\n",
       "      <td>Manual transmission</td>\n",
       "      <td>2012 Lamborghini Gallardo LP 560-4 Spyder</td>\n",
       "      <td>Lamborghini</td>\n",
       "      <td>2012 Lamborghini Gallardo Spyder</td>\n",
       "      <td>2012</td>\n",
       "      <td>552</td>\n",
       "      <td>398</td>\n",
       "    </tr>\n",
       "    <tr>\n",
       "      <th>5074</th>\n",
       "      <td>200</td>\n",
       "      <td>210</td>\n",
       "      <td>110</td>\n",
       "      <td>Rear-wheel drive</td>\n",
       "      <td>BMW 3.0L 6 cylinder 315hp 330 ft-lbs Turbo</td>\n",
       "      <td>True</td>\n",
       "      <td>6</td>\n",
       "      <td>6 Speed Automatic Select Shift</td>\n",
       "      <td>17</td>\n",
       "      <td>Gasoline</td>\n",
       "      <td>25</td>\n",
       "      <td>Automatic transmission</td>\n",
       "      <td>2012 BMW 740i Sedan</td>\n",
       "      <td>BMW</td>\n",
       "      <td>2012 BMW 7 Series</td>\n",
       "      <td>2012</td>\n",
       "      <td>315</td>\n",
       "      <td>330</td>\n",
       "    </tr>\n",
       "    <tr>\n",
       "      <th>5075</th>\n",
       "      <td>200</td>\n",
       "      <td>94</td>\n",
       "      <td>110</td>\n",
       "      <td>Rear-wheel drive</td>\n",
       "      <td>BMW 3.0L 6 cylinder 315hp 330 ft-lbs Turbo</td>\n",
       "      <td>True</td>\n",
       "      <td>6</td>\n",
       "      <td>6 Speed Automatic Select Shift</td>\n",
       "      <td>17</td>\n",
       "      <td>Gasoline</td>\n",
       "      <td>25</td>\n",
       "      <td>Automatic transmission</td>\n",
       "      <td>2012 BMW 740Li Sedan</td>\n",
       "      <td>BMW</td>\n",
       "      <td>2012 BMW 7 Series</td>\n",
       "      <td>2012</td>\n",
       "      <td>315</td>\n",
       "      <td>330</td>\n",
       "    </tr>\n",
       "  </tbody>\n",
       "</table>\n",
       "<p>5076 rows × 18 columns</p>\n",
       "</div>"
      ],
      "text/plain": [
       "      Dimensions.Height  Dimensions.Length  Dimensions.Width  \\\n",
       "0                   140                143               202   \n",
       "1                   140                143               202   \n",
       "2                   140                143               202   \n",
       "3                   140                143               202   \n",
       "4                   140                143               202   \n",
       "...                 ...                ...               ...   \n",
       "5071                 13                253               201   \n",
       "5072                141                249               108   \n",
       "5073                160                249               108   \n",
       "5074                200                210               110   \n",
       "5075                200                 94               110   \n",
       "\n",
       "     Engine Information.Driveline  \\\n",
       "0                 All-wheel drive   \n",
       "1               Front-wheel drive   \n",
       "2               Front-wheel drive   \n",
       "3                 All-wheel drive   \n",
       "4                 All-wheel drive   \n",
       "...                           ...   \n",
       "5071            Front-wheel drive   \n",
       "5072              All-wheel drive   \n",
       "5073              All-wheel drive   \n",
       "5074             Rear-wheel drive   \n",
       "5075             Rear-wheel drive   \n",
       "\n",
       "                      Engine Information.Engine Type  \\\n",
       "0               Audi 3.2L 6 cylinder 250hp 236ft-lbs   \n",
       "1       Audi 2.0L 4 cylinder 200 hp 207 ft-lbs Turbo   \n",
       "2       Audi 2.0L 4 cylinder 200 hp 207 ft-lbs Turbo   \n",
       "3       Audi 2.0L 4 cylinder 200 hp 207 ft-lbs Turbo   \n",
       "4       Audi 2.0L 4 cylinder 200 hp 207 ft-lbs Turbo   \n",
       "...                                              ...   \n",
       "5071         Honda 3.5L 6 Cylinder 250 hp 253 ft-lbs   \n",
       "5072  Lamborghini 5.2L 10 cylinder 552 hp 398 ft-lbs   \n",
       "5073  Lamborghini 5.2L 10 cylinder 552 hp 398 ft-lbs   \n",
       "5074      BMW 3.0L 6 cylinder 315hp 330 ft-lbs Turbo   \n",
       "5075      BMW 3.0L 6 cylinder 315hp 330 ft-lbs Turbo   \n",
       "\n",
       "      Engine Information.Hybrid  Engine Information.Number of Forward Gears  \\\n",
       "0                          True                                           6   \n",
       "1                          True                                           6   \n",
       "2                          True                                           6   \n",
       "3                          True                                           6   \n",
       "4                          True                                           6   \n",
       "...                         ...                                         ...   \n",
       "5071                       True                                           5   \n",
       "5072                       True                                           6   \n",
       "5073                       True                                           6   \n",
       "5074                       True                                           6   \n",
       "5075                       True                                           6   \n",
       "\n",
       "     Engine Information.Transmission  Fuel Information.City mpg  \\\n",
       "0     6 Speed Automatic Select Shift                         18   \n",
       "1     6 Speed Automatic Select Shift                         22   \n",
       "2                     6 Speed Manual                         21   \n",
       "3     6 Speed Automatic Select Shift                         21   \n",
       "4     6 Speed Automatic Select Shift                         21   \n",
       "...                              ...                        ...   \n",
       "5071               5 Speed Automatic                         18   \n",
       "5072                  6 Speed Manual                         12   \n",
       "5073                  6 Speed Manual                         12   \n",
       "5074  6 Speed Automatic Select Shift                         17   \n",
       "5075  6 Speed Automatic Select Shift                         17   \n",
       "\n",
       "     Fuel Information.Fuel Type  Fuel Information.Highway mpg  \\\n",
       "0                      Gasoline                            25   \n",
       "1                      Gasoline                            28   \n",
       "2                      Gasoline                            30   \n",
       "3                      Gasoline                            28   \n",
       "4                      Gasoline                            28   \n",
       "...                         ...                           ...   \n",
       "5071                   Gasoline                            25   \n",
       "5072                   Gasoline                            20   \n",
       "5073                   Gasoline                            20   \n",
       "5074                   Gasoline                            25   \n",
       "5075                   Gasoline                            25   \n",
       "\n",
       "     Identification.Classification                          Identification.ID  \\\n",
       "0           Automatic transmission                           2009 Audi A3 3.2   \n",
       "1           Automatic transmission                      2009 Audi A3 2.0 T AT   \n",
       "2              Manual transmission                         2009 Audi A3 2.0 T   \n",
       "3           Automatic transmission                 2009 Audi A3 2.0 T Quattro   \n",
       "4           Automatic transmission                 2009 Audi A3 2.0 T Quattro   \n",
       "...                            ...                                        ...   \n",
       "5071        Automatic transmission                      2012 Honda Pilot EX-L   \n",
       "5072           Manual transmission   2012 Lamborghini Gallardo Coupe LP 560-4   \n",
       "5073           Manual transmission  2012 Lamborghini Gallardo LP 560-4 Spyder   \n",
       "5074        Automatic transmission                        2012 BMW 740i Sedan   \n",
       "5075        Automatic transmission                       2012 BMW 740Li Sedan   \n",
       "\n",
       "     Identification.Make         Identification.Model Year  \\\n",
       "0                   Audi                      2009 Audi A3   \n",
       "1                   Audi                      2009 Audi A3   \n",
       "2                   Audi                      2009 Audi A3   \n",
       "3                   Audi                      2009 Audi A3   \n",
       "4                   Audi                      2009 Audi A3   \n",
       "...                  ...                               ...   \n",
       "5071               Honda                  2012 Honda Pilot   \n",
       "5072         Lamborghini    2012 Lamborghini Gallardo Coup   \n",
       "5073         Lamborghini  2012 Lamborghini Gallardo Spyder   \n",
       "5074                 BMW                 2012 BMW 7 Series   \n",
       "5075                 BMW                 2012 BMW 7 Series   \n",
       "\n",
       "      Identification.Year  Engine Information.Engine Statistics.Horsepower  \\\n",
       "0                    2009                                              250   \n",
       "1                    2009                                              200   \n",
       "2                    2009                                              200   \n",
       "3                    2009                                              200   \n",
       "4                    2009                                              200   \n",
       "...                   ...                                              ...   \n",
       "5071                 2012                                              250   \n",
       "5072                 2012                                              552   \n",
       "5073                 2012                                              552   \n",
       "5074                 2012                                              315   \n",
       "5075                 2012                                              315   \n",
       "\n",
       "      Engine Information.Engine Statistics.Torque  \n",
       "0                                             236  \n",
       "1                                             207  \n",
       "2                                             207  \n",
       "3                                             207  \n",
       "4                                             207  \n",
       "...                                           ...  \n",
       "5071                                          253  \n",
       "5072                                          398  \n",
       "5073                                          398  \n",
       "5074                                          330  \n",
       "5075                                          330  \n",
       "\n",
       "[5076 rows x 18 columns]"
      ]
     },
     "execution_count": 6,
     "metadata": {},
     "output_type": "execute_result"
    }
   ],
   "source": [
    "import pandas as pd\n",
    "our_dataframe = pd.read_csv(\"https://corgis-edu.github.io/corgis/datasets/csv/cars/cars.csv\")\n",
    "our_dataframe # Display dataframe"
   ]
  },
  {
   "cell_type": "markdown",
   "metadata": {
    "id": "XCudtJjZQh_3"
   },
   "source": [
    "Now we can generate our box plots with various parameters! feel free to play with the options!"
   ]
  },
  {
   "cell_type": "markdown",
   "metadata": {},
   "source": [
    "# Assessment Questions"
   ]
  },
  {
   "cell_type": "markdown",
   "metadata": {
    "id": "rkjVQyf6QrV1"
   },
   "source": [
    "Create a boxplot for our dataframe by column \"Fuel Information.City mpg\" our_dataframe."
   ]
  },
  {
   "cell_type": "code",
   "execution_count": 9,
   "metadata": {},
   "outputs": [
    {
     "data": {
      "text/plain": [
       "<AxesSubplot:>"
      ]
     },
     "execution_count": 9,
     "metadata": {},
     "output_type": "execute_result"
    },
    {
     "data": {
      "image/png": "[encoded data removed]",
      "text/plain": [
       "<Figure size 432x288 with 1 Axes>"
      ]
     },
     "metadata": {
      "needs_background": "light"
     },
     "output_type": "display_data"
    }
   ],
   "source": [
    "our_dataframe.boxplot(\"Fuel Information.City mpg\")"
   ]
  },
  {
   "cell_type": "markdown",
   "metadata": {
    "id": "yX4-lVc_SgTf"
   },
   "source": [
    "1. What are the dots above the boxplot called?\n",
    " - Inliers\n",
    " - Upper Ranges\n",
    " - Quartiles\n",
    " - Outliers"
   ]
  },
  {
   "cell_type": "markdown",
   "metadata": {},
   "source": [
    "Outliers"
   ]
  },
  {
   "cell_type": "markdown",
   "metadata": {
    "id": "TWL_RfgjS4y0"
   },
   "source": [
    "2. Based on the above plot, what number is the median city MPG closest to?\n",
    " - 30\n",
    " - 17\n",
    " - 55\n",
    " - 12"
   ]
  },
  {
   "cell_type": "markdown",
   "metadata": {},
   "source": [
    "17"
   ]
  },
  {
   "cell_type": "markdown",
   "metadata": {
    "id": "9UPLmY0xTGvH"
   },
   "source": [
    "3. What would you estimate the IQR (Inter Quartile Range) to be?\n",
    " - 2\n",
    " - 15\n",
    " - 6\n",
    " - 20"
   ]
  },
  {
   "cell_type": "markdown",
   "metadata": {},
   "source": [
    "6"
   ]
  },
  {
   "cell_type": "markdown",
   "metadata": {
    "id": "CpEpSjfZTm1z"
   },
   "source": [
    "5. Is this how i would boxplot the column **\"Engine Information.Engine Statistics.Horsepower\"**?\n",
    "\n",
    " ```our_dataframe.boxplot(\"Engine Information.Engine Statistics.Horsepower\")```\n",
    " - True\n",
    " - False"
   ]
  },
  {
   "cell_type": "markdown",
   "metadata": {},
   "source": [
    "True"
   ]
  },
  {
   "cell_type": "markdown",
   "metadata": {
    "id": "oK_Q-WYnwxVH"
   },
   "source": [
    "## Summary Questions \n",
    "\n",
    "1. What does the line in the middle of the box represent?\n",
    " - Mean \n",
    " - Number of datapoints\n",
    " - Mode\n",
    " - Median"
   ]
  },
  {
   "cell_type": "markdown",
   "metadata": {},
   "source": [
    "Median"
   ]
  },
  {
   "cell_type": "markdown",
   "metadata": {},
   "source": [
    "2. What percentage of values lie in between the 1st and 3rd quartile?\n",
    " - It depends on the standard deviation\n",
    " - 33.3%\n",
    " - 50%\n",
    " - 75%\n",
    "\n"
   ]
  },
  {
   "cell_type": "markdown",
   "metadata": {},
   "source": [
    "50%"
   ]
  },
  {
   "cell_type": "markdown",
   "metadata": {},
   "source": [
    "3. If a '+' is present on a box plot, what does it represent?\n",
    " - An outlier\n",
    " - The mode\n",
    " - The mean\n",
    " - The median\n",
    "\n"
   ]
  },
  {
   "cell_type": "markdown",
   "metadata": {},
   "source": [
    "Usually the mean"
   ]
  },
  {
   "cell_type": "markdown",
   "metadata": {},
   "source": [
    "4. If a section of the box plot is longer than the others, it has ____\n",
    " - More values than the other sections\n",
    " - Less values than the other sections\n",
    " - A higher density of datapoints\n",
    " - A lower density of datapoints"
   ]
  },
  {
   "cell_type": "markdown",
   "metadata": {},
   "source": [
    "a lower density of datapoints (values are spaced farther apart)"
   ]
  },
  {
   "cell_type": "markdown",
   "metadata": {},
   "source": [
    "*Sources:* \n",
    "- https://mathsmadeeasy.co.uk/gcse-maths-revision/box-plots-gcse-revision-and-worksheets/  "
   ]
  },
  {
   "cell_type": "markdown",
   "metadata": {},
   "source": [
    "## Feedback\n",
    "\n",
    "Overall I think this went over boxplots very thoroughly, think it did a good job covering the basics of what is typically included. I would have liked to see an exmaple of how plotting with ```DataFrame.plot(kind = 'box')``` works as I used just through pandas. Also the first very long markdown column was a little jarring to edit due to the images so I would chunk it out in the future."
   ]
  },
  {
   "cell_type": "code",
   "execution_count": null,
   "metadata": {},
   "outputs": [],
   "source": []
  }
 ],
 "metadata": {
  "colab": {
   "collapsed_sections": [],
   "name": "Proj Jigsaw.ipynb",
   "provenance": []
  },
  "kernelspec": {
   "display_name": "Python 3",
   "language": "python",
   "name": "python3"
  },
  "language_info": {
   "codemirror_mode": {
    "name": "ipython",
    "version": 3
   },
   "file_extension": ".py",
   "mimetype": "text/x-python",
   "name": "python",
   "nbconvert_exporter": "python",
   "pygments_lexer": "ipython3",
   "version": "3.7.2"
  }
 },
 "nbformat": 4,
 "nbformat_minor": 4
}
